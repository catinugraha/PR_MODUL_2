{
 "cells": [
  {
   "cell_type": "code",
   "execution_count": 1,
   "metadata": {},
   "outputs": [],
   "source": [
    "import pandas as pd\n",
    "import numpy as np\n",
    "import matplotlib.pyplot as plt\n",
    "import seaborn as sns\n",
    "import plotly.express as px\n",
    "%matplotlib inline"
   ]
  },
  {
   "cell_type": "code",
   "execution_count": 2,
   "metadata": {},
   "outputs": [],
   "source": [
    "youtube = pd.read_csv('USvideos1.csv')"
   ]
  },
  {
   "cell_type": "code",
   "execution_count": 3,
   "metadata": {
    "scrolled": true
   },
   "outputs": [
    {
     "data": {
      "text/html": [
       "<div>\n",
       "<style scoped>\n",
       "    .dataframe tbody tr th:only-of-type {\n",
       "        vertical-align: middle;\n",
       "    }\n",
       "\n",
       "    .dataframe tbody tr th {\n",
       "        vertical-align: top;\n",
       "    }\n",
       "\n",
       "    .dataframe thead th {\n",
       "        text-align: right;\n",
       "    }\n",
       "</style>\n",
       "<table border=\"1\" class=\"dataframe\">\n",
       "  <thead>\n",
       "    <tr style=\"text-align: right;\">\n",
       "      <th></th>\n",
       "      <th>video_id</th>\n",
       "      <th>trending_date</th>\n",
       "      <th>title</th>\n",
       "      <th>channel_title</th>\n",
       "      <th>category_id</th>\n",
       "      <th>category_name</th>\n",
       "      <th>publish_time</th>\n",
       "      <th>tags</th>\n",
       "      <th>views</th>\n",
       "      <th>likes</th>\n",
       "      <th>dislikes</th>\n",
       "      <th>comment_count</th>\n",
       "      <th>thumbnail_link</th>\n",
       "      <th>comments_disabled</th>\n",
       "      <th>ratings_disabled</th>\n",
       "      <th>video_error_or_removed</th>\n",
       "      <th>description</th>\n",
       "    </tr>\n",
       "  </thead>\n",
       "  <tbody>\n",
       "    <tr>\n",
       "      <td>0</td>\n",
       "      <td>2kyS6SvSYSE</td>\n",
       "      <td>17.14.11</td>\n",
       "      <td>WE WANT TO TALK ABOUT OUR MARRIAGE</td>\n",
       "      <td>CaseyNeistat</td>\n",
       "      <td>22</td>\n",
       "      <td>People &amp; Blogs</td>\n",
       "      <td>2017-11-13T17:13:01.000Z</td>\n",
       "      <td>SHANtell martin</td>\n",
       "      <td>748374</td>\n",
       "      <td>57527</td>\n",
       "      <td>2966</td>\n",
       "      <td>15954</td>\n",
       "      <td>https://i.ytimg.com/vi/2kyS6SvSYSE/default.jpg</td>\n",
       "      <td>False</td>\n",
       "      <td>False</td>\n",
       "      <td>False</td>\n",
       "      <td>SHANTELL'S CHANNEL - https://www.youtube.com/s...</td>\n",
       "    </tr>\n",
       "    <tr>\n",
       "      <td>1</td>\n",
       "      <td>1ZAPwfrtAFY</td>\n",
       "      <td>17.14.11</td>\n",
       "      <td>The Trump Presidency: Last Week Tonight with J...</td>\n",
       "      <td>LastWeekTonight</td>\n",
       "      <td>24</td>\n",
       "      <td>Entertainment</td>\n",
       "      <td>2017-11-13T07:30:00.000Z</td>\n",
       "      <td>last week tonight trump presidency|\"last week ...</td>\n",
       "      <td>2418783</td>\n",
       "      <td>97185</td>\n",
       "      <td>6146</td>\n",
       "      <td>12703</td>\n",
       "      <td>https://i.ytimg.com/vi/1ZAPwfrtAFY/default.jpg</td>\n",
       "      <td>False</td>\n",
       "      <td>False</td>\n",
       "      <td>False</td>\n",
       "      <td>One year after the presidential election, John...</td>\n",
       "    </tr>\n",
       "    <tr>\n",
       "      <td>2</td>\n",
       "      <td>5qpjK5DgCt4</td>\n",
       "      <td>17.14.11</td>\n",
       "      <td>Racist Superman | Rudy Mancuso, King Bach &amp; Le...</td>\n",
       "      <td>Rudy Mancuso</td>\n",
       "      <td>23</td>\n",
       "      <td>Comedy</td>\n",
       "      <td>2017-11-12T19:05:24.000Z</td>\n",
       "      <td>racist superman|\"rudy\"|\"mancuso\"|\"king\"|\"bach\"...</td>\n",
       "      <td>3191434</td>\n",
       "      <td>146033</td>\n",
       "      <td>5339</td>\n",
       "      <td>8181</td>\n",
       "      <td>https://i.ytimg.com/vi/5qpjK5DgCt4/default.jpg</td>\n",
       "      <td>False</td>\n",
       "      <td>False</td>\n",
       "      <td>False</td>\n",
       "      <td>WATCH MY PREVIOUS VIDEO ▶ \\n\\nSUBSCRIBE ► http...</td>\n",
       "    </tr>\n",
       "    <tr>\n",
       "      <td>3</td>\n",
       "      <td>puqaWrEC7tY</td>\n",
       "      <td>17.14.11</td>\n",
       "      <td>Nickelback Lyrics: Real or Fake?</td>\n",
       "      <td>Good Mythical Morning</td>\n",
       "      <td>24</td>\n",
       "      <td>Entertainment</td>\n",
       "      <td>2017-11-13T11:00:04.000Z</td>\n",
       "      <td>rhett and link|\"gmm\"|\"good mythical morning\"|\"...</td>\n",
       "      <td>343168</td>\n",
       "      <td>10172</td>\n",
       "      <td>666</td>\n",
       "      <td>2146</td>\n",
       "      <td>https://i.ytimg.com/vi/puqaWrEC7tY/default.jpg</td>\n",
       "      <td>False</td>\n",
       "      <td>False</td>\n",
       "      <td>False</td>\n",
       "      <td>Today we find out if Link is a Nickelback amat...</td>\n",
       "    </tr>\n",
       "    <tr>\n",
       "      <td>4</td>\n",
       "      <td>d380meD0W0M</td>\n",
       "      <td>17.14.11</td>\n",
       "      <td>I Dare You: GOING BALD!?</td>\n",
       "      <td>nigahiga</td>\n",
       "      <td>24</td>\n",
       "      <td>Entertainment</td>\n",
       "      <td>2017-11-12T18:01:41.000Z</td>\n",
       "      <td>ryan|\"higa\"|\"higatv\"|\"nigahiga\"|\"i dare you\"|\"...</td>\n",
       "      <td>2095731</td>\n",
       "      <td>132235</td>\n",
       "      <td>1989</td>\n",
       "      <td>17518</td>\n",
       "      <td>https://i.ytimg.com/vi/d380meD0W0M/default.jpg</td>\n",
       "      <td>False</td>\n",
       "      <td>False</td>\n",
       "      <td>False</td>\n",
       "      <td>I know it's been a while since we did this sho...</td>\n",
       "    </tr>\n",
       "    <tr>\n",
       "      <td>5</td>\n",
       "      <td>gHZ1Qz0KiKM</td>\n",
       "      <td>17.14.11</td>\n",
       "      <td>2 Weeks with iPhone X</td>\n",
       "      <td>iJustine</td>\n",
       "      <td>28</td>\n",
       "      <td>Science &amp; Technology</td>\n",
       "      <td>2017-11-13T19:07:23.000Z</td>\n",
       "      <td>ijustine|\"week with iPhone X\"|\"iphone x\"|\"appl...</td>\n",
       "      <td>119180</td>\n",
       "      <td>9763</td>\n",
       "      <td>511</td>\n",
       "      <td>1434</td>\n",
       "      <td>https://i.ytimg.com/vi/gHZ1Qz0KiKM/default.jpg</td>\n",
       "      <td>False</td>\n",
       "      <td>False</td>\n",
       "      <td>False</td>\n",
       "      <td>Using the iPhone for the past two weeks -- her...</td>\n",
       "    </tr>\n",
       "    <tr>\n",
       "      <td>6</td>\n",
       "      <td>39idVpFF7NQ</td>\n",
       "      <td>17.14.11</td>\n",
       "      <td>Roy Moore &amp; Jeff Sessions Cold Open - SNL</td>\n",
       "      <td>Saturday Night Live</td>\n",
       "      <td>24</td>\n",
       "      <td>Entertainment</td>\n",
       "      <td>2017-11-12T05:37:17.000Z</td>\n",
       "      <td>SNL|\"Saturday Night Live\"|\"SNL Season 43\"|\"Epi...</td>\n",
       "      <td>2103417</td>\n",
       "      <td>15993</td>\n",
       "      <td>2445</td>\n",
       "      <td>1970</td>\n",
       "      <td>https://i.ytimg.com/vi/39idVpFF7NQ/default.jpg</td>\n",
       "      <td>False</td>\n",
       "      <td>False</td>\n",
       "      <td>False</td>\n",
       "      <td>Embattled Alabama Senate candidate Roy Moore (...</td>\n",
       "    </tr>\n",
       "    <tr>\n",
       "      <td>7</td>\n",
       "      <td>nc99ccSXST0</td>\n",
       "      <td>17.14.11</td>\n",
       "      <td>5 Ice Cream Gadgets put to the Test</td>\n",
       "      <td>CrazyRussianHacker</td>\n",
       "      <td>28</td>\n",
       "      <td>Science &amp; Technology</td>\n",
       "      <td>2017-11-12T21:50:37.000Z</td>\n",
       "      <td>5 Ice Cream Gadgets|\"Ice Cream\"|\"Cream Sandwic...</td>\n",
       "      <td>817732</td>\n",
       "      <td>23663</td>\n",
       "      <td>778</td>\n",
       "      <td>3432</td>\n",
       "      <td>https://i.ytimg.com/vi/nc99ccSXST0/default.jpg</td>\n",
       "      <td>False</td>\n",
       "      <td>False</td>\n",
       "      <td>False</td>\n",
       "      <td>Ice Cream Pint Combination Lock - http://amzn....</td>\n",
       "    </tr>\n",
       "    <tr>\n",
       "      <td>8</td>\n",
       "      <td>jr9QtXwC9vc</td>\n",
       "      <td>17.14.11</td>\n",
       "      <td>The Greatest Showman | Official Trailer 2 [HD]...</td>\n",
       "      <td>20th Century Fox</td>\n",
       "      <td>1</td>\n",
       "      <td>Film &amp; Animation</td>\n",
       "      <td>2017-11-13T14:00:23.000Z</td>\n",
       "      <td>Trailer|\"Hugh Jackman\"|\"Michelle Williams\"|\"Za...</td>\n",
       "      <td>826059</td>\n",
       "      <td>3543</td>\n",
       "      <td>119</td>\n",
       "      <td>340</td>\n",
       "      <td>https://i.ytimg.com/vi/jr9QtXwC9vc/default.jpg</td>\n",
       "      <td>False</td>\n",
       "      <td>False</td>\n",
       "      <td>False</td>\n",
       "      <td>Inspired by the imagination of P.T. Barnum, Th...</td>\n",
       "    </tr>\n",
       "    <tr>\n",
       "      <td>9</td>\n",
       "      <td>TUmyygCMMGA</td>\n",
       "      <td>17.14.11</td>\n",
       "      <td>Why the rise of the robots won’t mean the end ...</td>\n",
       "      <td>Vox</td>\n",
       "      <td>25</td>\n",
       "      <td>News &amp; Politics</td>\n",
       "      <td>2017-11-13T13:45:16.000Z</td>\n",
       "      <td>vox.com|\"vox\"|\"explain\"|\"shift change\"|\"future...</td>\n",
       "      <td>256426</td>\n",
       "      <td>12654</td>\n",
       "      <td>1363</td>\n",
       "      <td>2368</td>\n",
       "      <td>https://i.ytimg.com/vi/TUmyygCMMGA/default.jpg</td>\n",
       "      <td>False</td>\n",
       "      <td>False</td>\n",
       "      <td>False</td>\n",
       "      <td>For now, at least, we have better things to wo...</td>\n",
       "    </tr>\n",
       "  </tbody>\n",
       "</table>\n",
       "</div>"
      ],
      "text/plain": [
       "      video_id trending_date  \\\n",
       "0  2kyS6SvSYSE      17.14.11   \n",
       "1  1ZAPwfrtAFY      17.14.11   \n",
       "2  5qpjK5DgCt4      17.14.11   \n",
       "3  puqaWrEC7tY      17.14.11   \n",
       "4  d380meD0W0M      17.14.11   \n",
       "5  gHZ1Qz0KiKM      17.14.11   \n",
       "6  39idVpFF7NQ      17.14.11   \n",
       "7  nc99ccSXST0      17.14.11   \n",
       "8  jr9QtXwC9vc      17.14.11   \n",
       "9  TUmyygCMMGA      17.14.11   \n",
       "\n",
       "                                               title          channel_title  \\\n",
       "0                 WE WANT TO TALK ABOUT OUR MARRIAGE           CaseyNeistat   \n",
       "1  The Trump Presidency: Last Week Tonight with J...        LastWeekTonight   \n",
       "2  Racist Superman | Rudy Mancuso, King Bach & Le...           Rudy Mancuso   \n",
       "3                   Nickelback Lyrics: Real or Fake?  Good Mythical Morning   \n",
       "4                           I Dare You: GOING BALD!?               nigahiga   \n",
       "5                              2 Weeks with iPhone X               iJustine   \n",
       "6          Roy Moore & Jeff Sessions Cold Open - SNL    Saturday Night Live   \n",
       "7                5 Ice Cream Gadgets put to the Test     CrazyRussianHacker   \n",
       "8  The Greatest Showman | Official Trailer 2 [HD]...       20th Century Fox   \n",
       "9  Why the rise of the robots won’t mean the end ...                    Vox   \n",
       "\n",
       "   category_id          category_name              publish_time  \\\n",
       "0           22         People & Blogs  2017-11-13T17:13:01.000Z   \n",
       "1           24          Entertainment  2017-11-13T07:30:00.000Z   \n",
       "2           23                 Comedy  2017-11-12T19:05:24.000Z   \n",
       "3           24          Entertainment  2017-11-13T11:00:04.000Z   \n",
       "4           24          Entertainment  2017-11-12T18:01:41.000Z   \n",
       "5           28   Science & Technology  2017-11-13T19:07:23.000Z   \n",
       "6           24          Entertainment  2017-11-12T05:37:17.000Z   \n",
       "7           28   Science & Technology  2017-11-12T21:50:37.000Z   \n",
       "8            1       Film & Animation  2017-11-13T14:00:23.000Z   \n",
       "9           25        News & Politics  2017-11-13T13:45:16.000Z   \n",
       "\n",
       "                                                tags    views   likes  \\\n",
       "0                                    SHANtell martin   748374   57527   \n",
       "1  last week tonight trump presidency|\"last week ...  2418783   97185   \n",
       "2  racist superman|\"rudy\"|\"mancuso\"|\"king\"|\"bach\"...  3191434  146033   \n",
       "3  rhett and link|\"gmm\"|\"good mythical morning\"|\"...   343168   10172   \n",
       "4  ryan|\"higa\"|\"higatv\"|\"nigahiga\"|\"i dare you\"|\"...  2095731  132235   \n",
       "5  ijustine|\"week with iPhone X\"|\"iphone x\"|\"appl...   119180    9763   \n",
       "6  SNL|\"Saturday Night Live\"|\"SNL Season 43\"|\"Epi...  2103417   15993   \n",
       "7  5 Ice Cream Gadgets|\"Ice Cream\"|\"Cream Sandwic...   817732   23663   \n",
       "8  Trailer|\"Hugh Jackman\"|\"Michelle Williams\"|\"Za...   826059    3543   \n",
       "9  vox.com|\"vox\"|\"explain\"|\"shift change\"|\"future...   256426   12654   \n",
       "\n",
       "   dislikes  comment_count                                  thumbnail_link  \\\n",
       "0      2966          15954  https://i.ytimg.com/vi/2kyS6SvSYSE/default.jpg   \n",
       "1      6146          12703  https://i.ytimg.com/vi/1ZAPwfrtAFY/default.jpg   \n",
       "2      5339           8181  https://i.ytimg.com/vi/5qpjK5DgCt4/default.jpg   \n",
       "3       666           2146  https://i.ytimg.com/vi/puqaWrEC7tY/default.jpg   \n",
       "4      1989          17518  https://i.ytimg.com/vi/d380meD0W0M/default.jpg   \n",
       "5       511           1434  https://i.ytimg.com/vi/gHZ1Qz0KiKM/default.jpg   \n",
       "6      2445           1970  https://i.ytimg.com/vi/39idVpFF7NQ/default.jpg   \n",
       "7       778           3432  https://i.ytimg.com/vi/nc99ccSXST0/default.jpg   \n",
       "8       119            340  https://i.ytimg.com/vi/jr9QtXwC9vc/default.jpg   \n",
       "9      1363           2368  https://i.ytimg.com/vi/TUmyygCMMGA/default.jpg   \n",
       "\n",
       "   comments_disabled  ratings_disabled  video_error_or_removed  \\\n",
       "0              False             False                   False   \n",
       "1              False             False                   False   \n",
       "2              False             False                   False   \n",
       "3              False             False                   False   \n",
       "4              False             False                   False   \n",
       "5              False             False                   False   \n",
       "6              False             False                   False   \n",
       "7              False             False                   False   \n",
       "8              False             False                   False   \n",
       "9              False             False                   False   \n",
       "\n",
       "                                         description  \n",
       "0  SHANTELL'S CHANNEL - https://www.youtube.com/s...  \n",
       "1  One year after the presidential election, John...  \n",
       "2  WATCH MY PREVIOUS VIDEO ▶ \\n\\nSUBSCRIBE ► http...  \n",
       "3  Today we find out if Link is a Nickelback amat...  \n",
       "4  I know it's been a while since we did this sho...  \n",
       "5  Using the iPhone for the past two weeks -- her...  \n",
       "6  Embattled Alabama Senate candidate Roy Moore (...  \n",
       "7  Ice Cream Pint Combination Lock - http://amzn....  \n",
       "8  Inspired by the imagination of P.T. Barnum, Th...  \n",
       "9  For now, at least, we have better things to wo...  "
      ]
     },
     "execution_count": 3,
     "metadata": {},
     "output_type": "execute_result"
    }
   ],
   "source": [
    "youtube.head(10)"
   ]
  },
  {
   "cell_type": "code",
   "execution_count": 4,
   "metadata": {},
   "outputs": [],
   "source": [
    "def ganti_tanggal_trending(cols):\n",
    "    year = cols[0:2]\n",
    "    month = cols[6:8]\n",
    "    day = cols[3:5]\n",
    "    cols = '20'+'{}.{}.{}'.format(year,month,day)\n",
    "    return cols\n",
    "\n",
    "youtube['trending_date'] = youtube['trending_date'].apply(ganti_tanggal_trending)"
   ]
  },
  {
   "cell_type": "code",
   "execution_count": 5,
   "metadata": {},
   "outputs": [],
   "source": [
    "youtube['trending_date'] = pd.to_datetime(youtube['trending_date'],utc='none')\n",
    "youtube['publish_time'] = pd.to_datetime(youtube['publish_time'])"
   ]
  },
  {
   "cell_type": "code",
   "execution_count": 6,
   "metadata": {},
   "outputs": [],
   "source": [
    "youtube['trending_gap'] = youtube['trending_date'] - youtube['publish_time']"
   ]
  },
  {
   "cell_type": "code",
   "execution_count": 7,
   "metadata": {},
   "outputs": [],
   "source": [
    "youtube['delta_like'] = youtube['likes']-youtube['dislikes']"
   ]
  },
  {
   "cell_type": "code",
   "execution_count": 8,
   "metadata": {
    "scrolled": true
   },
   "outputs": [
    {
     "data": {
      "text/html": [
       "<div>\n",
       "<style scoped>\n",
       "    .dataframe tbody tr th:only-of-type {\n",
       "        vertical-align: middle;\n",
       "    }\n",
       "\n",
       "    .dataframe tbody tr th {\n",
       "        vertical-align: top;\n",
       "    }\n",
       "\n",
       "    .dataframe thead th {\n",
       "        text-align: right;\n",
       "    }\n",
       "</style>\n",
       "<table border=\"1\" class=\"dataframe\">\n",
       "  <thead>\n",
       "    <tr style=\"text-align: right;\">\n",
       "      <th></th>\n",
       "      <th>video_id</th>\n",
       "      <th>trending_date</th>\n",
       "      <th>title</th>\n",
       "      <th>channel_title</th>\n",
       "      <th>category_id</th>\n",
       "      <th>category_name</th>\n",
       "      <th>publish_time</th>\n",
       "      <th>tags</th>\n",
       "      <th>views</th>\n",
       "      <th>likes</th>\n",
       "      <th>dislikes</th>\n",
       "      <th>comment_count</th>\n",
       "      <th>thumbnail_link</th>\n",
       "      <th>comments_disabled</th>\n",
       "      <th>ratings_disabled</th>\n",
       "      <th>video_error_or_removed</th>\n",
       "      <th>description</th>\n",
       "      <th>trending_gap</th>\n",
       "      <th>delta_like</th>\n",
       "    </tr>\n",
       "  </thead>\n",
       "  <tbody>\n",
       "    <tr>\n",
       "      <td>192</td>\n",
       "      <td>wRGldR_SQAA</td>\n",
       "      <td>2017-11-14 00:00:00+00:00</td>\n",
       "      <td>Apple Clips sample</td>\n",
       "      <td>Steve Kovach</td>\n",
       "      <td>22</td>\n",
       "      <td>People &amp; Blogs</td>\n",
       "      <td>2017-11-09 18:01:04+00:00</td>\n",
       "      <td>[none]</td>\n",
       "      <td>2259</td>\n",
       "      <td>0</td>\n",
       "      <td>0</td>\n",
       "      <td>0</td>\n",
       "      <td>https://i.ytimg.com/vi/wRGldR_SQAA/default.jpg</td>\n",
       "      <td>False</td>\n",
       "      <td>False</td>\n",
       "      <td>False</td>\n",
       "      <td>Clips 2.0 lets you use augmented reality and s...</td>\n",
       "      <td>4 days 05:58:56</td>\n",
       "      <td>0</td>\n",
       "    </tr>\n",
       "    <tr>\n",
       "      <td>1435</td>\n",
       "      <td>Kn5UgGQukYQ</td>\n",
       "      <td>2017-11-21 00:00:00+00:00</td>\n",
       "      <td>Breaking Bad's Bryan Cranston on Meeting Charl...</td>\n",
       "      <td>hudsonunionsociety</td>\n",
       "      <td>1</td>\n",
       "      <td>Film &amp; Animation</td>\n",
       "      <td>2016-10-14 21:14:51+00:00</td>\n",
       "      <td>Breaking Bad|\"Bryan Cranston\"|\"malcom in the m...</td>\n",
       "      <td>15058</td>\n",
       "      <td>0</td>\n",
       "      <td>0</td>\n",
       "      <td>0</td>\n",
       "      <td>https://i.ytimg.com/vi/Kn5UgGQukYQ/default.jpg</td>\n",
       "      <td>True</td>\n",
       "      <td>True</td>\n",
       "      <td>False</td>\n",
       "      <td>The Hudson Union www.hudsonunionsociety.com is...</td>\n",
       "      <td>402 days 02:45:09</td>\n",
       "      <td>0</td>\n",
       "    </tr>\n",
       "    <tr>\n",
       "      <td>1667</td>\n",
       "      <td>Kn5UgGQukYQ</td>\n",
       "      <td>2017-11-22 00:00:00+00:00</td>\n",
       "      <td>Breaking Bad's Bryan Cranston on Meeting Charl...</td>\n",
       "      <td>hudsonunionsociety</td>\n",
       "      <td>1</td>\n",
       "      <td>Film &amp; Animation</td>\n",
       "      <td>2016-10-14 21:14:51+00:00</td>\n",
       "      <td>Breaking Bad|\"Bryan Cranston\"|\"malcom in the m...</td>\n",
       "      <td>34207</td>\n",
       "      <td>0</td>\n",
       "      <td>0</td>\n",
       "      <td>0</td>\n",
       "      <td>https://i.ytimg.com/vi/Kn5UgGQukYQ/default.jpg</td>\n",
       "      <td>True</td>\n",
       "      <td>True</td>\n",
       "      <td>False</td>\n",
       "      <td>The Hudson Union www.hudsonunionsociety.com is...</td>\n",
       "      <td>403 days 02:45:09</td>\n",
       "      <td>0</td>\n",
       "    </tr>\n",
       "    <tr>\n",
       "      <td>1868</td>\n",
       "      <td>_akwfRuL4os</td>\n",
       "      <td>2017-11-23 00:00:00+00:00</td>\n",
       "      <td>Highlights of the EA predatory behavior announ...</td>\n",
       "      <td>chris lee</td>\n",
       "      <td>22</td>\n",
       "      <td>People &amp; Blogs</td>\n",
       "      <td>2017-11-21 19:29:03+00:00</td>\n",
       "      <td>[none]</td>\n",
       "      <td>160012</td>\n",
       "      <td>0</td>\n",
       "      <td>0</td>\n",
       "      <td>1722</td>\n",
       "      <td>https://i.ytimg.com/vi/_akwfRuL4os/default.jpg</td>\n",
       "      <td>False</td>\n",
       "      <td>True</td>\n",
       "      <td>False</td>\n",
       "      <td>The State of Hawaii announces action to addres...</td>\n",
       "      <td>1 days 04:30:57</td>\n",
       "      <td>0</td>\n",
       "    </tr>\n",
       "    <tr>\n",
       "      <td>1914</td>\n",
       "      <td>Kn5UgGQukYQ</td>\n",
       "      <td>2017-11-23 00:00:00+00:00</td>\n",
       "      <td>Breaking Bad's Bryan Cranston on Meeting Charl...</td>\n",
       "      <td>hudsonunionsociety</td>\n",
       "      <td>1</td>\n",
       "      <td>Film &amp; Animation</td>\n",
       "      <td>2016-10-14 21:14:51+00:00</td>\n",
       "      <td>Breaking Bad|\"Bryan Cranston\"|\"malcom in the m...</td>\n",
       "      <td>36137</td>\n",
       "      <td>0</td>\n",
       "      <td>0</td>\n",
       "      <td>0</td>\n",
       "      <td>https://i.ytimg.com/vi/Kn5UgGQukYQ/default.jpg</td>\n",
       "      <td>True</td>\n",
       "      <td>True</td>\n",
       "      <td>False</td>\n",
       "      <td>The Hudson Union www.hudsonunionsociety.com is...</td>\n",
       "      <td>404 days 02:45:09</td>\n",
       "      <td>0</td>\n",
       "    </tr>\n",
       "    <tr>\n",
       "      <td>...</td>\n",
       "      <td>...</td>\n",
       "      <td>...</td>\n",
       "      <td>...</td>\n",
       "      <td>...</td>\n",
       "      <td>...</td>\n",
       "      <td>...</td>\n",
       "      <td>...</td>\n",
       "      <td>...</td>\n",
       "      <td>...</td>\n",
       "      <td>...</td>\n",
       "      <td>...</td>\n",
       "      <td>...</td>\n",
       "      <td>...</td>\n",
       "      <td>...</td>\n",
       "      <td>...</td>\n",
       "      <td>...</td>\n",
       "      <td>...</td>\n",
       "      <td>...</td>\n",
       "      <td>...</td>\n",
       "    </tr>\n",
       "    <tr>\n",
       "      <td>28135</td>\n",
       "      <td>UwbO_xb1-Xo</td>\n",
       "      <td>2018-04-05 00:00:00+00:00</td>\n",
       "      <td>KKW BEAUTY: Conceal, Bake, Brighten with Mario...</td>\n",
       "      <td>Kim Kardashian West</td>\n",
       "      <td>22</td>\n",
       "      <td>People &amp; Blogs</td>\n",
       "      <td>2018-03-21 18:42:04+00:00</td>\n",
       "      <td>Mario Dedivanovic|\"KKW BEAUTY\"|\"CONCEALER\"|\"CO...</td>\n",
       "      <td>1040664</td>\n",
       "      <td>0</td>\n",
       "      <td>0</td>\n",
       "      <td>0</td>\n",
       "      <td>https://i.ytimg.com/vi/UwbO_xb1-Xo/default.jpg</td>\n",
       "      <td>True</td>\n",
       "      <td>True</td>\n",
       "      <td>False</td>\n",
       "      <td>Watch me conceal, bake and brighten with Mario...</td>\n",
       "      <td>14 days 05:17:56</td>\n",
       "      <td>0</td>\n",
       "    </tr>\n",
       "    <tr>\n",
       "      <td>28346</td>\n",
       "      <td>UwbO_xb1-Xo</td>\n",
       "      <td>2018-04-06 00:00:00+00:00</td>\n",
       "      <td>KKW BEAUTY: Conceal, Bake, Brighten with Mario...</td>\n",
       "      <td>Kim Kardashian West</td>\n",
       "      <td>22</td>\n",
       "      <td>People &amp; Blogs</td>\n",
       "      <td>2018-03-21 18:42:04+00:00</td>\n",
       "      <td>Mario Dedivanovic|\"KKW BEAUTY\"|\"CONCEALER\"|\"CO...</td>\n",
       "      <td>1045731</td>\n",
       "      <td>0</td>\n",
       "      <td>0</td>\n",
       "      <td>0</td>\n",
       "      <td>https://i.ytimg.com/vi/UwbO_xb1-Xo/default.jpg</td>\n",
       "      <td>True</td>\n",
       "      <td>True</td>\n",
       "      <td>False</td>\n",
       "      <td>Watch me conceal, bake and brighten with Mario...</td>\n",
       "      <td>15 days 05:17:56</td>\n",
       "      <td>0</td>\n",
       "    </tr>\n",
       "    <tr>\n",
       "      <td>28550</td>\n",
       "      <td>9TUBf6l7FBg</td>\n",
       "      <td>2018-04-14 00:00:00+00:00</td>\n",
       "      <td>Coachella 2018 LIVE Channel 1</td>\n",
       "      <td>Coachella</td>\n",
       "      <td>10</td>\n",
       "      <td>Music</td>\n",
       "      <td>2018-04-05 06:48:28+00:00</td>\n",
       "      <td>[none]</td>\n",
       "      <td>3598220</td>\n",
       "      <td>0</td>\n",
       "      <td>0</td>\n",
       "      <td>0</td>\n",
       "      <td>https://i.ytimg.com/vi/9TUBf6l7FBg/default_liv...</td>\n",
       "      <td>False</td>\n",
       "      <td>True</td>\n",
       "      <td>False</td>\n",
       "      <td>For more cameras and VR180 immersive experienc...</td>\n",
       "      <td>8 days 17:11:32</td>\n",
       "      <td>0</td>\n",
       "    </tr>\n",
       "    <tr>\n",
       "      <td>28751</td>\n",
       "      <td>9TUBf6l7FBg</td>\n",
       "      <td>2018-04-15 00:00:00+00:00</td>\n",
       "      <td>Coachella 2018 LIVE Channel 1</td>\n",
       "      <td>Coachella</td>\n",
       "      <td>10</td>\n",
       "      <td>Music</td>\n",
       "      <td>2018-04-05 06:48:28+00:00</td>\n",
       "      <td>[none]</td>\n",
       "      <td>11137071</td>\n",
       "      <td>0</td>\n",
       "      <td>0</td>\n",
       "      <td>2</td>\n",
       "      <td>https://i.ytimg.com/vi/9TUBf6l7FBg/default_liv...</td>\n",
       "      <td>False</td>\n",
       "      <td>True</td>\n",
       "      <td>False</td>\n",
       "      <td>For more cameras and VR180 immersive experienc...</td>\n",
       "      <td>9 days 17:11:32</td>\n",
       "      <td>0</td>\n",
       "    </tr>\n",
       "    <tr>\n",
       "      <td>28955</td>\n",
       "      <td>9TUBf6l7FBg</td>\n",
       "      <td>2018-04-16 00:00:00+00:00</td>\n",
       "      <td>Coachella 2018 LIVE Channel 1</td>\n",
       "      <td>Coachella</td>\n",
       "      <td>10</td>\n",
       "      <td>Music</td>\n",
       "      <td>2018-04-05 06:48:28+00:00</td>\n",
       "      <td>[none]</td>\n",
       "      <td>24004779</td>\n",
       "      <td>0</td>\n",
       "      <td>0</td>\n",
       "      <td>3</td>\n",
       "      <td>https://i.ytimg.com/vi/9TUBf6l7FBg/default_liv...</td>\n",
       "      <td>False</td>\n",
       "      <td>True</td>\n",
       "      <td>False</td>\n",
       "      <td>For more cameras and VR180 immersive experienc...</td>\n",
       "      <td>10 days 17:11:32</td>\n",
       "      <td>0</td>\n",
       "    </tr>\n",
       "  </tbody>\n",
       "</table>\n",
       "<p>181 rows × 19 columns</p>\n",
       "</div>"
      ],
      "text/plain": [
       "          video_id             trending_date  \\\n",
       "192    wRGldR_SQAA 2017-11-14 00:00:00+00:00   \n",
       "1435   Kn5UgGQukYQ 2017-11-21 00:00:00+00:00   \n",
       "1667   Kn5UgGQukYQ 2017-11-22 00:00:00+00:00   \n",
       "1868   _akwfRuL4os 2017-11-23 00:00:00+00:00   \n",
       "1914   Kn5UgGQukYQ 2017-11-23 00:00:00+00:00   \n",
       "...            ...                       ...   \n",
       "28135  UwbO_xb1-Xo 2018-04-05 00:00:00+00:00   \n",
       "28346  UwbO_xb1-Xo 2018-04-06 00:00:00+00:00   \n",
       "28550  9TUBf6l7FBg 2018-04-14 00:00:00+00:00   \n",
       "28751  9TUBf6l7FBg 2018-04-15 00:00:00+00:00   \n",
       "28955  9TUBf6l7FBg 2018-04-16 00:00:00+00:00   \n",
       "\n",
       "                                                   title        channel_title  \\\n",
       "192                                   Apple Clips sample         Steve Kovach   \n",
       "1435   Breaking Bad's Bryan Cranston on Meeting Charl...   hudsonunionsociety   \n",
       "1667   Breaking Bad's Bryan Cranston on Meeting Charl...   hudsonunionsociety   \n",
       "1868   Highlights of the EA predatory behavior announ...            chris lee   \n",
       "1914   Breaking Bad's Bryan Cranston on Meeting Charl...   hudsonunionsociety   \n",
       "...                                                  ...                  ...   \n",
       "28135  KKW BEAUTY: Conceal, Bake, Brighten with Mario...  Kim Kardashian West   \n",
       "28346  KKW BEAUTY: Conceal, Bake, Brighten with Mario...  Kim Kardashian West   \n",
       "28550                      Coachella 2018 LIVE Channel 1            Coachella   \n",
       "28751                      Coachella 2018 LIVE Channel 1            Coachella   \n",
       "28955                      Coachella 2018 LIVE Channel 1            Coachella   \n",
       "\n",
       "       category_id      category_name              publish_time  \\\n",
       "192             22     People & Blogs 2017-11-09 18:01:04+00:00   \n",
       "1435             1   Film & Animation 2016-10-14 21:14:51+00:00   \n",
       "1667             1   Film & Animation 2016-10-14 21:14:51+00:00   \n",
       "1868            22     People & Blogs 2017-11-21 19:29:03+00:00   \n",
       "1914             1   Film & Animation 2016-10-14 21:14:51+00:00   \n",
       "...            ...                ...                       ...   \n",
       "28135           22     People & Blogs 2018-03-21 18:42:04+00:00   \n",
       "28346           22     People & Blogs 2018-03-21 18:42:04+00:00   \n",
       "28550           10              Music 2018-04-05 06:48:28+00:00   \n",
       "28751           10              Music 2018-04-05 06:48:28+00:00   \n",
       "28955           10              Music 2018-04-05 06:48:28+00:00   \n",
       "\n",
       "                                                    tags     views  likes  \\\n",
       "192                                               [none]      2259      0   \n",
       "1435   Breaking Bad|\"Bryan Cranston\"|\"malcom in the m...     15058      0   \n",
       "1667   Breaking Bad|\"Bryan Cranston\"|\"malcom in the m...     34207      0   \n",
       "1868                                              [none]    160012      0   \n",
       "1914   Breaking Bad|\"Bryan Cranston\"|\"malcom in the m...     36137      0   \n",
       "...                                                  ...       ...    ...   \n",
       "28135  Mario Dedivanovic|\"KKW BEAUTY\"|\"CONCEALER\"|\"CO...   1040664      0   \n",
       "28346  Mario Dedivanovic|\"KKW BEAUTY\"|\"CONCEALER\"|\"CO...   1045731      0   \n",
       "28550                                             [none]   3598220      0   \n",
       "28751                                             [none]  11137071      0   \n",
       "28955                                             [none]  24004779      0   \n",
       "\n",
       "       dislikes  comment_count  \\\n",
       "192           0              0   \n",
       "1435          0              0   \n",
       "1667          0              0   \n",
       "1868          0           1722   \n",
       "1914          0              0   \n",
       "...         ...            ...   \n",
       "28135         0              0   \n",
       "28346         0              0   \n",
       "28550         0              0   \n",
       "28751         0              2   \n",
       "28955         0              3   \n",
       "\n",
       "                                          thumbnail_link  comments_disabled  \\\n",
       "192       https://i.ytimg.com/vi/wRGldR_SQAA/default.jpg              False   \n",
       "1435      https://i.ytimg.com/vi/Kn5UgGQukYQ/default.jpg               True   \n",
       "1667      https://i.ytimg.com/vi/Kn5UgGQukYQ/default.jpg               True   \n",
       "1868      https://i.ytimg.com/vi/_akwfRuL4os/default.jpg              False   \n",
       "1914      https://i.ytimg.com/vi/Kn5UgGQukYQ/default.jpg               True   \n",
       "...                                                  ...                ...   \n",
       "28135     https://i.ytimg.com/vi/UwbO_xb1-Xo/default.jpg               True   \n",
       "28346     https://i.ytimg.com/vi/UwbO_xb1-Xo/default.jpg               True   \n",
       "28550  https://i.ytimg.com/vi/9TUBf6l7FBg/default_liv...              False   \n",
       "28751  https://i.ytimg.com/vi/9TUBf6l7FBg/default_liv...              False   \n",
       "28955  https://i.ytimg.com/vi/9TUBf6l7FBg/default_liv...              False   \n",
       "\n",
       "       ratings_disabled  video_error_or_removed  \\\n",
       "192               False                   False   \n",
       "1435               True                   False   \n",
       "1667               True                   False   \n",
       "1868               True                   False   \n",
       "1914               True                   False   \n",
       "...                 ...                     ...   \n",
       "28135              True                   False   \n",
       "28346              True                   False   \n",
       "28550              True                   False   \n",
       "28751              True                   False   \n",
       "28955              True                   False   \n",
       "\n",
       "                                             description      trending_gap  \\\n",
       "192    Clips 2.0 lets you use augmented reality and s...   4 days 05:58:56   \n",
       "1435   The Hudson Union www.hudsonunionsociety.com is... 402 days 02:45:09   \n",
       "1667   The Hudson Union www.hudsonunionsociety.com is... 403 days 02:45:09   \n",
       "1868   The State of Hawaii announces action to addres...   1 days 04:30:57   \n",
       "1914   The Hudson Union www.hudsonunionsociety.com is... 404 days 02:45:09   \n",
       "...                                                  ...               ...   \n",
       "28135  Watch me conceal, bake and brighten with Mario...  14 days 05:17:56   \n",
       "28346  Watch me conceal, bake and brighten with Mario...  15 days 05:17:56   \n",
       "28550  For more cameras and VR180 immersive experienc...   8 days 17:11:32   \n",
       "28751  For more cameras and VR180 immersive experienc...   9 days 17:11:32   \n",
       "28955  For more cameras and VR180 immersive experienc...  10 days 17:11:32   \n",
       "\n",
       "       delta_like  \n",
       "192             0  \n",
       "1435            0  \n",
       "1667            0  \n",
       "1868            0  \n",
       "1914            0  \n",
       "...           ...  \n",
       "28135           0  \n",
       "28346           0  \n",
       "28550           0  \n",
       "28751           0  \n",
       "28955           0  \n",
       "\n",
       "[181 rows x 19 columns]"
      ]
     },
     "execution_count": 8,
     "metadata": {},
     "output_type": "execute_result"
    }
   ],
   "source": [
    "youtube_delta_0 = youtube[(youtube['delta_like'] == 0)]\n",
    "youtube_delta_0"
   ]
  },
  {
   "cell_type": "code",
   "execution_count": 9,
   "metadata": {},
   "outputs": [],
   "source": [
    "from scipy.stats import shapiro,normaltest,anderson\n",
    "\n",
    "def trynormal(data):\n",
    "    result={'Anderson': {i:j for i,j in zip(anderson(data)[2],anderson(data)[1])}, 'Shapiro': shapiro(data)[1],\n",
    "            'K^2': normaltest(data)[1]}\n",
    "    result['Anderson']['stat'] = anderson(data)[0]\n",
    "    return result"
   ]
  },
  {
   "cell_type": "code",
   "execution_count": 10,
   "metadata": {
    "scrolled": true
   },
   "outputs": [
    {
     "data": {
      "text/plain": [
       "{'Anderson': {15.0: 0.558,\n",
       "  10.0: 0.635,\n",
       "  5.0: 0.762,\n",
       "  2.5: 0.889,\n",
       "  1.0: 1.057,\n",
       "  'stat': 30.011856798477254},\n",
       " 'Shapiro': 6.093685768783008e-20,\n",
       " 'K^2': 7.23626649326126e-26}"
      ]
     },
     "execution_count": 10,
     "metadata": {},
     "output_type": "execute_result"
    }
   ],
   "source": [
    "trynormal(youtube_delta_0[youtube_delta_0['trending_gap'].dt.days <= 5]['views'])"
   ]
  },
  {
   "cell_type": "code",
   "execution_count": 11,
   "metadata": {
    "scrolled": false
   },
   "outputs": [
    {
     "name": "stderr",
     "output_type": "stream",
     "text": [
      "C:\\Users\\catin\\Anaconda3\\lib\\site-packages\\ipykernel_launcher.py:9: VisibleDeprecationWarning:\n",
      "\n",
      "Passing `normed=True` on non-uniform bins has always been broken, and computes neither the probability density function nor the probability mass function. The result is only correct if the bins are uniform, when density=True will produce the same result anyway. The argument will be removed in a future version of numpy.\n",
      "\n"
     ]
    },
    {
     "data": {
      "image/png": "[encoded data removed]",
      "text/plain": [
       "<Figure size 576x576 with 1 Axes>"
      ]
     },
     "metadata": {
      "needs_background": "light"
     },
     "output_type": "display_data"
    }
   ],
   "source": [
    "def mean_differencies(x1, x2, n_boot):\n",
    "    ori_mean = x1.mean() - x2.mean()\n",
    "    mean_diff = []\n",
    "    for i in range(n_boot):\n",
    "        x1_mean = x1.sample(len(x1), replace = True).mean()\n",
    "        x2_mean = x2.sample(len(x2), replace = True).mean()\n",
    "        mean_diff.append(x1_mean-x2_mean)\n",
    "\n",
    "    hist,hist_edges = np.histogram(mean_diff, bins = 10, normed = True)\n",
    "    dx = hist_edges[1] - hist_edges[0]\n",
    "    F1 = np.cumsum(hist)*dx\n",
    "    plt.figure(figsize = (8,8))\n",
    "    plt.plot(hist_edges[1:], F1)\n",
    "    plt.axvline(ori_mean, ls = '--', c = 'r')\n",
    "    plt.axvline(ori_mean*-1, ls= '--' , c = 'r')\n",
    "\n",
    "mean_differencies(youtube_delta_0[youtube_delta_0['trending_gap'].dt.days <= 5]['views'],\n",
    "                  youtube_delta_0[youtube_delta_0['trending_gap'].dt.days > 5]['views'],1000)"
   ]
  },
  {
   "cell_type": "code",
   "execution_count": 12,
   "metadata": {},
   "outputs": [
    {
     "data": {
      "text/plain": [
       "<matplotlib.axes._subplots.AxesSubplot at 0x1e584b562c8>"
      ]
     },
     "execution_count": 12,
     "metadata": {},
     "output_type": "execute_result"
    },
    {
     "data": {
      "image/png": "[encoded data removed]",
      "text/plain": [
       "<Figure size 432x288 with 1 Axes>"
      ]
     },
     "metadata": {
      "needs_background": "light"
     },
     "output_type": "display_data"
    }
   ],
   "source": [
    "sns.barplot(data = youtube, x = 'category_id', y ='views')"
   ]
  },
  {
   "cell_type": "markdown",
   "metadata": {},
   "source": [
    "## QUESTION\n",
    "\n",
    "###### Saya pernah membaca bahwa Trend video juga tergantung kategori, jika kita barplot kan category 10 dan 29 memiliki mean yang tertinggi (walau mean dari 29 besar jaraknya) berarti mereka menarik banyak view. Tetapi apakah mereka berbeda secara view, like, dan dislikesnya?\n",
    "\n",
    "##### H0 = Tidak ada perbedaan antara kategori 10 dan 29 dalam view, like, dan dislike.\n",
    "##### H1 = Ada perbedaan antara kategori 10 dan 29 dalam view, like, dan dislike."
   ]
  },
  {
   "cell_type": "code",
   "execution_count": null,
   "metadata": {},
   "outputs": [],
   "source": []
  },
  {
   "cell_type": "markdown",
   "metadata": {},
   "source": [
    "#### Dari hasil test distribusi normal menggunakan:\n",
    "- metode Anderson, terlihat bahwa H1 dapat diterima karena Statnya lebih dari Alpha yang telah ditentukan(dalam case ini 95%(0.05))\n",
    "- metode Shapiro & K-Square, juga dapat dilihat bahwa H1 dapat diterima karena nilai p-valuenya lebih kecil dari Alpha(0.05)"
   ]
  },
  {
   "cell_type": "code",
   "execution_count": 13,
   "metadata": {},
   "outputs": [
    {
     "name": "stderr",
     "output_type": "stream",
     "text": [
      "C:\\Users\\catin\\Anaconda3\\lib\\site-packages\\scipy\\stats\\morestats.py:1660: UserWarning:\n",
      "\n",
      "p-value may not be accurate for N > 5000.\n",
      "\n"
     ]
    },
    {
     "data": {
      "text/plain": [
       "{'Anderson': {15.0: 0.576,\n",
       "  10.0: 0.656,\n",
       "  5.0: 0.787,\n",
       "  2.5: 0.917,\n",
       "  1.0: 1.091,\n",
       "  'stat': 1190.1770512259227},\n",
       " 'Shapiro': 0.0,\n",
       " 'K^2': 0.0}"
      ]
     },
     "execution_count": 13,
     "metadata": {},
     "output_type": "execute_result"
    }
   ],
   "source": [
    "trynormal(youtube[(youtube['category_id']==10)]['views'])"
   ]
  },
  {
   "cell_type": "code",
   "execution_count": 14,
   "metadata": {},
   "outputs": [
    {
     "data": {
      "text/plain": [
       "{'Anderson': {15.0: 0.542,\n",
       "  10.0: 0.617,\n",
       "  5.0: 0.741,\n",
       "  2.5: 0.864,\n",
       "  1.0: 1.028,\n",
       "  'stat': 15.03917848327174},\n",
       " 'Shapiro': 3.174725022800362e-13,\n",
       " 'K^2': 7.110325304841888e-09}"
      ]
     },
     "execution_count": 14,
     "metadata": {},
     "output_type": "execute_result"
    }
   ],
   "source": [
    "trynormal(youtube[(youtube['category_id']==29)]['views'])"
   ]
  },
  {
   "cell_type": "code",
   "execution_count": 15,
   "metadata": {},
   "outputs": [
    {
     "data": {
      "text/plain": [
       "{'Anderson': {15.0: 0.576,\n",
       "  10.0: 0.656,\n",
       "  5.0: 0.787,\n",
       "  2.5: 0.917,\n",
       "  1.0: 1.091,\n",
       "  'stat': 1059.63100476604},\n",
       " 'Shapiro': 0.0,\n",
       " 'K^2': 0.0}"
      ]
     },
     "execution_count": 15,
     "metadata": {},
     "output_type": "execute_result"
    }
   ],
   "source": [
    "trynormal(youtube[(youtube['category_id']==10)]['likes'])"
   ]
  },
  {
   "cell_type": "code",
   "execution_count": 16,
   "metadata": {},
   "outputs": [
    {
     "data": {
      "text/plain": [
       "{'Anderson': {15.0: 0.542,\n",
       "  10.0: 0.617,\n",
       "  5.0: 0.741,\n",
       "  2.5: 0.864,\n",
       "  1.0: 1.028,\n",
       "  'stat': 15.770348198612865},\n",
       " 'Shapiro': 2.335269564529563e-13,\n",
       " 'K^2': 4.61018340359511e-08}"
      ]
     },
     "execution_count": 16,
     "metadata": {},
     "output_type": "execute_result"
    }
   ],
   "source": [
    "trynormal(youtube[(youtube['category_id']==29)]['likes'])"
   ]
  },
  {
   "cell_type": "code",
   "execution_count": 17,
   "metadata": {},
   "outputs": [
    {
     "data": {
      "text/plain": [
       "{'Anderson': {15.0: 0.576,\n",
       "  10.0: 0.656,\n",
       "  5.0: 0.787,\n",
       "  2.5: 0.917,\n",
       "  1.0: 1.091,\n",
       "  'stat': 1398.5780660629043},\n",
       " 'Shapiro': 0.0,\n",
       " 'K^2': 0.0}"
      ]
     },
     "execution_count": 17,
     "metadata": {},
     "output_type": "execute_result"
    }
   ],
   "source": [
    "trynormal(youtube[(youtube['category_id']==10)]['dislikes'])"
   ]
  },
  {
   "cell_type": "code",
   "execution_count": 18,
   "metadata": {},
   "outputs": [
    {
     "data": {
      "text/plain": [
       "{'Anderson': {15.0: 0.542,\n",
       "  10.0: 0.617,\n",
       "  5.0: 0.741,\n",
       "  2.5: 0.864,\n",
       "  1.0: 1.028,\n",
       "  'stat': 15.941865855475612},\n",
       " 'Shapiro': 1.6795371788214802e-13,\n",
       " 'K^2': 5.222212259578384e-09}"
      ]
     },
     "execution_count": 18,
     "metadata": {},
     "output_type": "execute_result"
    }
   ],
   "source": [
    "trynormal(youtube[(youtube['category_id']==29)]['dislikes'])"
   ]
  },
  {
   "cell_type": "markdown",
   "metadata": {},
   "source": [
    "#### Dari hasil test menggunakan metode Mannwhitneyu menunjukkan hasil yang sama, yaitu p-value lebih kecil dari Alpha (0.05) yang berarti H0 ditolak (H1 diterima)."
   ]
  },
  {
   "cell_type": "code",
   "execution_count": 19,
   "metadata": {},
   "outputs": [
    {
     "name": "stdout",
     "output_type": "stream",
     "text": [
      "U-Statistic: 78978.5\n",
      "P-value: 4.876291818247057e-14\n"
     ]
    }
   ],
   "source": [
    "from scipy.stats import mannwhitneyu\n",
    "result1 = list(mannwhitneyu(youtube[(youtube['category_id']==10)]['views'],\n",
    "                           youtube[(youtube['category_id']==29)]['views']))\n",
    "print('U-Statistic:',result1[0])\n",
    "print('P-value:',result1[1])"
   ]
  },
  {
   "cell_type": "code",
   "execution_count": 20,
   "metadata": {},
   "outputs": [
    {
     "name": "stdout",
     "output_type": "stream",
     "text": [
      "U-Statistic: 81875.0\n",
      "P-value: 2.2471001015367116e-13\n"
     ]
    }
   ],
   "source": [
    "result2 = list(mannwhitneyu(youtube[(youtube['category_id']==10)]['likes'],\n",
    "                           youtube[(youtube['category_id']==29)]['likes']))\n",
    "print('U-Statistic:',result2[0])\n",
    "print('P-value:',result2[1])"
   ]
  },
  {
   "cell_type": "code",
   "execution_count": 21,
   "metadata": {},
   "outputs": [
    {
     "name": "stdout",
     "output_type": "stream",
     "text": [
      "U-Statistic: 91647.5\n",
      "P-value: 2.876019645817286e-11\n"
     ]
    }
   ],
   "source": [
    "result3 = list(mannwhitneyu(youtube[(youtube['category_id']==10)]['dislikes'],\n",
    "                           youtube[(youtube['category_id']==29)]['dislikes']))\n",
    "print('U-Statistic:',result3[0])\n",
    "print('P-value:',result3[1])"
   ]
  },
  {
   "cell_type": "markdown",
   "metadata": {},
   "source": [
    "## BARTLETT & LEVENE -- UNTUK MENENTUKAN APAKAH  VARIANCE DATA KITA EQUAL ATAU UNEQUAL"
   ]
  },
  {
   "cell_type": "code",
   "execution_count": 22,
   "metadata": {},
   "outputs": [
    {
     "data": {
      "text/plain": [
       "{'Bartlett': {'Bartlett-Stat': 42.17774401543469,\n",
       "  'P-Value': 8.334313062671943e-11},\n",
       " 'Levene': {'Levene-Stat': 1.8972437360796675, 'P-Value': 0.16843438710372255}}"
      ]
     },
     "execution_count": 22,
     "metadata": {},
     "output_type": "execute_result"
    }
   ],
   "source": [
    "from scipy.stats import levene, bartlett, f_oneway, kruskal\n",
    "\n",
    "\n",
    "def try_equal_var(x1,x2):\n",
    "    result = {'Bartlett': {'Bartlett-Stat': bartlett(x1,x2)[0], 'P-Value': bartlett(x1,x2)[1]},\n",
    "             'Levene': {'Levene-Stat': levene(x1,x2)[0], 'P-Value': levene(x1,x2)[1]}}\n",
    "    return result\n",
    "\n",
    "try_equal_var(youtube[(youtube['category_id']==10)]['views'], youtube[(youtube['category_id']==29)]['views'])"
   ]
  },
  {
   "cell_type": "markdown",
   "metadata": {},
   "source": [
    "- ada perbedaan karena p-value Bartlett(data distribusi normal) < Alpha (0.05) == DATA VARIANCE UNEQUAL"
   ]
  },
  {
   "cell_type": "code",
   "execution_count": 23,
   "metadata": {},
   "outputs": [
    {
     "data": {
      "text/html": [
       "<div>\n",
       "<style scoped>\n",
       "    .dataframe tbody tr th:only-of-type {\n",
       "        vertical-align: middle;\n",
       "    }\n",
       "\n",
       "    .dataframe tbody tr th {\n",
       "        vertical-align: top;\n",
       "    }\n",
       "\n",
       "    .dataframe thead th {\n",
       "        text-align: right;\n",
       "    }\n",
       "</style>\n",
       "<table border=\"1\" class=\"dataframe\">\n",
       "  <thead>\n",
       "    <tr style=\"text-align: right;\">\n",
       "      <th></th>\n",
       "      <th>Source</th>\n",
       "      <th>ddof1</th>\n",
       "      <th>ddof2</th>\n",
       "      <th>F</th>\n",
       "      <th>p-unc</th>\n",
       "    </tr>\n",
       "  </thead>\n",
       "  <tbody>\n",
       "    <tr>\n",
       "      <td>0</td>\n",
       "      <td>category_id</td>\n",
       "      <td>2</td>\n",
       "      <td>150.976</td>\n",
       "      <td>129.873</td>\n",
       "      <td>1.548307e-33</td>\n",
       "    </tr>\n",
       "  </tbody>\n",
       "</table>\n",
       "</div>"
      ],
      "text/plain": [
       "        Source  ddof1    ddof2        F         p-unc\n",
       "0  category_id      2  150.976  129.873  1.548307e-33"
      ]
     },
     "execution_count": 23,
     "metadata": {},
     "output_type": "execute_result"
    }
   ],
   "source": [
    "from pingouin import welch_anova\n",
    "\n",
    "youtube_10_20_29 = youtube[(youtube['category_id']==10) | (youtube['category_id']==20) | (youtube['category_id']==29)]\n",
    "\n",
    "welch_anova(data = youtube_10_20_29, dv='views', between = 'category_id')"
   ]
  },
  {
   "cell_type": "code",
   "execution_count": 24,
   "metadata": {},
   "outputs": [],
   "source": [
    "from pingouin import pairwise_tukey, pairwise_gameshowell"
   ]
  },
  {
   "cell_type": "markdown",
   "metadata": {},
   "source": [
    "## P-TUKEY DIGUNAKAN JIKA DATA KITA EQUAL VARIANCE"
   ]
  },
  {
   "cell_type": "code",
   "execution_count": 25,
   "metadata": {},
   "outputs": [
    {
     "data": {
      "text/html": [
       "<div>\n",
       "<style scoped>\n",
       "    .dataframe tbody tr th:only-of-type {\n",
       "        vertical-align: middle;\n",
       "    }\n",
       "\n",
       "    .dataframe tbody tr th {\n",
       "        vertical-align: top;\n",
       "    }\n",
       "\n",
       "    .dataframe thead th {\n",
       "        text-align: right;\n",
       "    }\n",
       "</style>\n",
       "<table border=\"1\" class=\"dataframe\">\n",
       "  <thead>\n",
       "    <tr style=\"text-align: right;\">\n",
       "      <th></th>\n",
       "      <th>A</th>\n",
       "      <th>B</th>\n",
       "      <th>mean(A)</th>\n",
       "      <th>mean(B)</th>\n",
       "      <th>diff</th>\n",
       "      <th>se</th>\n",
       "      <th>tail</th>\n",
       "      <th>T</th>\n",
       "      <th>p-tukey</th>\n",
       "      <th>hedges</th>\n",
       "    </tr>\n",
       "  </thead>\n",
       "  <tbody>\n",
       "    <tr>\n",
       "      <td>0</td>\n",
       "      <td>10</td>\n",
       "      <td>20</td>\n",
       "      <td>6201003.12</td>\n",
       "      <td>2620830.63</td>\n",
       "      <td>3580172.489</td>\n",
       "      <td>540755.504</td>\n",
       "      <td>two-sided</td>\n",
       "      <td>6.621</td>\n",
       "      <td>0.001000</td>\n",
       "      <td>0.246</td>\n",
       "    </tr>\n",
       "    <tr>\n",
       "      <td>1</td>\n",
       "      <td>10</td>\n",
       "      <td>29</td>\n",
       "      <td>6201003.12</td>\n",
       "      <td>2963884.07</td>\n",
       "      <td>3237119.049</td>\n",
       "      <td>1937599.027</td>\n",
       "      <td>two-sided</td>\n",
       "      <td>1.671</td>\n",
       "      <td>0.216797</td>\n",
       "      <td>0.222</td>\n",
       "    </tr>\n",
       "    <tr>\n",
       "      <td>2</td>\n",
       "      <td>20</td>\n",
       "      <td>29</td>\n",
       "      <td>2620830.63</td>\n",
       "      <td>2963884.07</td>\n",
       "      <td>-343053.440</td>\n",
       "      <td>1995283.062</td>\n",
       "      <td>two-sided</td>\n",
       "      <td>-0.172</td>\n",
       "      <td>0.900000</td>\n",
       "      <td>-0.024</td>\n",
       "    </tr>\n",
       "  </tbody>\n",
       "</table>\n",
       "</div>"
      ],
      "text/plain": [
       "    A   B     mean(A)     mean(B)         diff           se       tail      T  \\\n",
       "0  10  20  6201003.12  2620830.63  3580172.489   540755.504  two-sided  6.621   \n",
       "1  10  29  6201003.12  2963884.07  3237119.049  1937599.027  two-sided  1.671   \n",
       "2  20  29  2620830.63  2963884.07  -343053.440  1995283.062  two-sided -0.172   \n",
       "\n",
       "    p-tukey  hedges  \n",
       "0  0.001000   0.246  \n",
       "1  0.216797   0.222  \n",
       "2  0.900000  -0.024  "
      ]
     },
     "execution_count": 25,
     "metadata": {},
     "output_type": "execute_result"
    }
   ],
   "source": [
    "pairwise_tukey(data = youtube_10_20_29, dv='views', between = 'category_id')"
   ]
  },
  {
   "cell_type": "markdown",
   "metadata": {},
   "source": [
    "- 10 & 20 : ada perbedaan variance karena (p-tukey < alpha(0.05))\n",
    "- 10 & 29 : tidak ada perbedaan variance karena (p-tukey > alpha(0.05))\n",
    "- 20 & 29 : tidak ada perbedaan variance karena (p-tukey > alpha(0.05))"
   ]
  },
  {
   "cell_type": "markdown",
   "metadata": {},
   "source": [
    "## P-GAMESHOWELL DIGUNAKAN JIKA DATA KITA UNEQUAL VARIANCE"
   ]
  },
  {
   "cell_type": "code",
   "execution_count": 26,
   "metadata": {},
   "outputs": [
    {
     "data": {
      "text/html": [
       "<div>\n",
       "<style scoped>\n",
       "    .dataframe tbody tr th:only-of-type {\n",
       "        vertical-align: middle;\n",
       "    }\n",
       "\n",
       "    .dataframe tbody tr th {\n",
       "        vertical-align: top;\n",
       "    }\n",
       "\n",
       "    .dataframe thead th {\n",
       "        text-align: right;\n",
       "    }\n",
       "</style>\n",
       "<table border=\"1\" class=\"dataframe\">\n",
       "  <thead>\n",
       "    <tr style=\"text-align: right;\">\n",
       "      <th></th>\n",
       "      <th>A</th>\n",
       "      <th>B</th>\n",
       "      <th>mean(A)</th>\n",
       "      <th>mean(B)</th>\n",
       "      <th>diff</th>\n",
       "      <th>se</th>\n",
       "      <th>tail</th>\n",
       "      <th>T</th>\n",
       "      <th>df</th>\n",
       "      <th>pval</th>\n",
       "      <th>hedges</th>\n",
       "    </tr>\n",
       "  </thead>\n",
       "  <tbody>\n",
       "    <tr>\n",
       "      <td>0</td>\n",
       "      <td>10</td>\n",
       "      <td>20</td>\n",
       "      <td>6201003.12</td>\n",
       "      <td>2620830.63</td>\n",
       "      <td>3580172.489</td>\n",
       "      <td>156832.668</td>\n",
       "      <td>two-sided</td>\n",
       "      <td>16.142</td>\n",
       "      <td>6125.549</td>\n",
       "      <td>0.001000</td>\n",
       "      <td>0.599</td>\n",
       "    </tr>\n",
       "    <tr>\n",
       "      <td>1</td>\n",
       "      <td>10</td>\n",
       "      <td>29</td>\n",
       "      <td>6201003.12</td>\n",
       "      <td>2963884.07</td>\n",
       "      <td>3237119.049</td>\n",
       "      <td>681572.891</td>\n",
       "      <td>two-sided</td>\n",
       "      <td>3.358</td>\n",
       "      <td>60.731</td>\n",
       "      <td>0.002461</td>\n",
       "      <td>0.447</td>\n",
       "    </tr>\n",
       "    <tr>\n",
       "      <td>2</td>\n",
       "      <td>20</td>\n",
       "      <td>29</td>\n",
       "      <td>2620830.63</td>\n",
       "      <td>2963884.07</td>\n",
       "      <td>-343053.440</td>\n",
       "      <td>672464.548</td>\n",
       "      <td>two-sided</td>\n",
       "      <td>-0.361</td>\n",
       "      <td>57.549</td>\n",
       "      <td>0.900000</td>\n",
       "      <td>-0.049</td>\n",
       "    </tr>\n",
       "  </tbody>\n",
       "</table>\n",
       "</div>"
      ],
      "text/plain": [
       "    A   B     mean(A)     mean(B)         diff          se       tail       T  \\\n",
       "0  10  20  6201003.12  2620830.63  3580172.489  156832.668  two-sided  16.142   \n",
       "1  10  29  6201003.12  2963884.07  3237119.049  681572.891  two-sided   3.358   \n",
       "2  20  29  2620830.63  2963884.07  -343053.440  672464.548  two-sided  -0.361   \n",
       "\n",
       "         df      pval  hedges  \n",
       "0  6125.549  0.001000   0.599  \n",
       "1    60.731  0.002461   0.447  \n",
       "2    57.549  0.900000  -0.049  "
      ]
     },
     "execution_count": 26,
     "metadata": {},
     "output_type": "execute_result"
    }
   ],
   "source": [
    "pairwise_gameshowell(data = youtube_10_20_29, dv='views', between = 'category_id')"
   ]
  },
  {
   "cell_type": "markdown",
   "metadata": {},
   "source": [
    "- 10 & 20 : ada perbedaan variance karena (p-val < alpha(0.05))\n",
    "- 10 & 29 : ada perbedaan variance karena (p-val < alpha(0.05))\n",
    "- 20 & 29 : tidak ada perbedaan variance karena (p-val > alpha(0.05))"
   ]
  },
  {
   "cell_type": "markdown",
   "metadata": {},
   "source": [
    "## UJI 3 KELOMPOK ATAU LEBIH YANG BERBEDA MENGGUNAKAN KRUSKAL"
   ]
  },
  {
   "cell_type": "code",
   "execution_count": 31,
   "metadata": {},
   "outputs": [
    {
     "data": {
      "text/plain": [
       "KruskalResult(statistic=57.21993458049006, pvalue=3.757068198005064e-13)"
      ]
     },
     "execution_count": 31,
     "metadata": {},
     "output_type": "execute_result"
    }
   ],
   "source": [
    "kruskal(youtube[(youtube['category_id']==10)]['views'], youtube[(youtube['category_id']==20)]['views'], \n",
    "                youtube[(youtube['category_id']==29)]['views'])"
   ]
  },
  {
   "cell_type": "markdown",
   "metadata": {},
   "source": [
    "##### pvalue < Alpha (0.05) == H1 DITERIMA / UNEQUAL MEDIAN / ADA PERBEDAAN"
   ]
  },
  {
   "cell_type": "code",
   "execution_count": 32,
   "metadata": {},
   "outputs": [],
   "source": [
    "from pingouin import pairwise_ttests"
   ]
  },
  {
   "cell_type": "markdown",
   "metadata": {},
   "source": [
    "## TTEST"
   ]
  },
  {
   "cell_type": "code",
   "execution_count": 34,
   "metadata": {},
   "outputs": [
    {
     "data": {
      "text/html": [
       "<div>\n",
       "<style scoped>\n",
       "    .dataframe tbody tr th:only-of-type {\n",
       "        vertical-align: middle;\n",
       "    }\n",
       "\n",
       "    .dataframe tbody tr th {\n",
       "        vertical-align: top;\n",
       "    }\n",
       "\n",
       "    .dataframe thead th {\n",
       "        text-align: right;\n",
       "    }\n",
       "</style>\n",
       "<table border=\"1\" class=\"dataframe\">\n",
       "  <thead>\n",
       "    <tr style=\"text-align: right;\">\n",
       "      <th></th>\n",
       "      <th>Contrast</th>\n",
       "      <th>A</th>\n",
       "      <th>B</th>\n",
       "      <th>Paired</th>\n",
       "      <th>Parametric</th>\n",
       "      <th>U-val</th>\n",
       "      <th>Tail</th>\n",
       "      <th>p-unc</th>\n",
       "      <th>hedges</th>\n",
       "    </tr>\n",
       "  </thead>\n",
       "  <tbody>\n",
       "    <tr>\n",
       "      <td>0</td>\n",
       "      <td>category_id</td>\n",
       "      <td>10</td>\n",
       "      <td>20</td>\n",
       "      <td>False</td>\n",
       "      <td>False</td>\n",
       "      <td>2721072.5</td>\n",
       "      <td>two-sided</td>\n",
       "      <td>1.728277e-01</td>\n",
       "      <td>0.245</td>\n",
       "    </tr>\n",
       "    <tr>\n",
       "      <td>1</td>\n",
       "      <td>category_id</td>\n",
       "      <td>10</td>\n",
       "      <td>29</td>\n",
       "      <td>False</td>\n",
       "      <td>False</td>\n",
       "      <td>289925.5</td>\n",
       "      <td>two-sided</td>\n",
       "      <td>9.752584e-14</td>\n",
       "      <td>0.210</td>\n",
       "    </tr>\n",
       "    <tr>\n",
       "      <td>2</td>\n",
       "      <td>category_id</td>\n",
       "      <td>20</td>\n",
       "      <td>29</td>\n",
       "      <td>False</td>\n",
       "      <td>False</td>\n",
       "      <td>36507.5</td>\n",
       "      <td>two-sided</td>\n",
       "      <td>7.204730e-13</td>\n",
       "      <td>-0.096</td>\n",
       "    </tr>\n",
       "  </tbody>\n",
       "</table>\n",
       "</div>"
      ],
      "text/plain": [
       "      Contrast   A   B  Paired  Parametric      U-val       Tail  \\\n",
       "0  category_id  10  20   False       False  2721072.5  two-sided   \n",
       "1  category_id  10  29   False       False   289925.5  two-sided   \n",
       "2  category_id  20  29   False       False    36507.5  two-sided   \n",
       "\n",
       "          p-unc  hedges  \n",
       "0  1.728277e-01   0.245  \n",
       "1  9.752584e-14   0.210  \n",
       "2  7.204730e-13  -0.096  "
      ]
     },
     "execution_count": 34,
     "metadata": {},
     "output_type": "execute_result"
    }
   ],
   "source": [
    "pairwise_ttests(data = youtube_10_20_29, dv = 'views', between = 'category_id', parametric =  False)"
   ]
  },
  {
   "cell_type": "markdown",
   "metadata": {},
   "source": [
    "- category 10 & 20 : tidak ada perbedaan median (p-unc > alpha(0.05))\n",
    "- category 10 & 29 : ada perbedaan median karena (p-unc < alpha(0.05))\n",
    "- category 20 & 29 : ada perbedaan median karena (p-unc < alpha(0.05))"
   ]
  },
  {
   "cell_type": "code",
   "execution_count": null,
   "metadata": {},
   "outputs": [],
   "source": []
  }
 ],
 "metadata": {
  "kernelspec": {
   "display_name": "Python 3",
   "language": "python",
   "name": "python3"
  },
  "language_info": {
   "codemirror_mode": {
    "name": "ipython",
    "version": 3
   },
   "file_extension": ".py",
   "mimetype": "text/x-python",
   "name": "python",
   "nbconvert_exporter": "python",
   "pygments_lexer": "ipython3",
   "version": "3.7.4"
  }
 },
 "nbformat": 4,
 "nbformat_minor": 2
}
