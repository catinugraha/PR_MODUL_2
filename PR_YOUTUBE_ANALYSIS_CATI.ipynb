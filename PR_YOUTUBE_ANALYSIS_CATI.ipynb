{
 "cells": [
  {
   "cell_type": "code",
   "execution_count": 2,
   "metadata": {},
   "outputs": [],
   "source": [
    "import pandas as pd\n",
    "import numpy as np\n",
    "import matplotlib.pyplot as plt\n",
    "import seaborn as sns\n",
    "import plotly.express as px\n",
    "%matplotlib inline"
   ]
  },
  {
   "cell_type": "code",
   "execution_count": 3,
   "metadata": {},
   "outputs": [],
   "source": [
    "youtube = pd.read_csv('USvideos1.csv')"
   ]
  },
  {
   "cell_type": "code",
   "execution_count": 4,
   "metadata": {},
   "outputs": [],
   "source": [
    "def ganti_tanggal_trending(cols):\n",
    "    year = cols[0:2]\n",
    "    month = cols[6:8]\n",
    "    day = cols[3:5]\n",
    "    cols = '20'+'{}.{}.{}'.format(year,month,day)\n",
    "    return cols\n",
    "\n",
    "youtube['trending_date'] = youtube['trending_date'].apply(ganti_tanggal_trending)"
   ]
  },
  {
   "cell_type": "code",
   "execution_count": 5,
   "metadata": {},
   "outputs": [],
   "source": [
    "youtube['trending_date'] = pd.to_datetime(youtube['trending_date'],utc='none')\n",
    "youtube['publish_time'] = pd.to_datetime(youtube['publish_time'])"
   ]
  },
  {
   "cell_type": "code",
   "execution_count": 6,
   "metadata": {},
   "outputs": [],
   "source": [
    "youtube['trending_gap'] = youtube['trending_date'] - youtube['publish_time']"
   ]
  },
  {
   "cell_type": "code",
   "execution_count": 7,
   "metadata": {},
   "outputs": [],
   "source": [
    "youtube['delta_like'] = youtube['likes']-youtube['dislikes']"
   ]
  },
  {
   "cell_type": "code",
   "execution_count": 109,
   "metadata": {
    "scrolled": false
   },
   "outputs": [
    {
     "data": {
      "text/html": [
       "<div>\n",
       "<style scoped>\n",
       "    .dataframe tbody tr th:only-of-type {\n",
       "        vertical-align: middle;\n",
       "    }\n",
       "\n",
       "    .dataframe tbody tr th {\n",
       "        vertical-align: top;\n",
       "    }\n",
       "\n",
       "    .dataframe thead th {\n",
       "        text-align: right;\n",
       "    }\n",
       "</style>\n",
       "<table border=\"1\" class=\"dataframe\">\n",
       "  <thead>\n",
       "    <tr style=\"text-align: right;\">\n",
       "      <th></th>\n",
       "      <th>video_id</th>\n",
       "      <th>trending_date</th>\n",
       "      <th>title</th>\n",
       "      <th>channel_title</th>\n",
       "      <th>category_id</th>\n",
       "      <th>category_name</th>\n",
       "      <th>publish_time</th>\n",
       "      <th>tags</th>\n",
       "      <th>views</th>\n",
       "      <th>likes</th>\n",
       "      <th>...</th>\n",
       "      <th>comment_count</th>\n",
       "      <th>thumbnail_link</th>\n",
       "      <th>comments_disabled</th>\n",
       "      <th>ratings_disabled</th>\n",
       "      <th>video_error_or_removed</th>\n",
       "      <th>description</th>\n",
       "      <th>trending_gap</th>\n",
       "      <th>delta_like</th>\n",
       "      <th>day_name</th>\n",
       "      <th>upload_time</th>\n",
       "    </tr>\n",
       "  </thead>\n",
       "  <tbody>\n",
       "    <tr>\n",
       "      <td>192</td>\n",
       "      <td>wRGldR_SQAA</td>\n",
       "      <td>2017-11-14 00:00:00+00:00</td>\n",
       "      <td>Apple Clips sample</td>\n",
       "      <td>Steve Kovach</td>\n",
       "      <td>22</td>\n",
       "      <td>People &amp; Blogs</td>\n",
       "      <td>2017-11-09 18:01:04+00:00</td>\n",
       "      <td>[none]</td>\n",
       "      <td>2259</td>\n",
       "      <td>0</td>\n",
       "      <td>...</td>\n",
       "      <td>0</td>\n",
       "      <td>https://i.ytimg.com/vi/wRGldR_SQAA/default.jpg</td>\n",
       "      <td>False</td>\n",
       "      <td>False</td>\n",
       "      <td>False</td>\n",
       "      <td>Clips 2.0 lets you use augmented reality and s...</td>\n",
       "      <td>4 days 05:58:56</td>\n",
       "      <td>0</td>\n",
       "      <td>Thursday</td>\n",
       "      <td>18</td>\n",
       "    </tr>\n",
       "    <tr>\n",
       "      <td>1435</td>\n",
       "      <td>Kn5UgGQukYQ</td>\n",
       "      <td>2017-11-21 00:00:00+00:00</td>\n",
       "      <td>Breaking Bad's Bryan Cranston on Meeting Charl...</td>\n",
       "      <td>hudsonunionsociety</td>\n",
       "      <td>1</td>\n",
       "      <td>Film &amp; Animation</td>\n",
       "      <td>2016-10-14 21:14:51+00:00</td>\n",
       "      <td>Breaking Bad|\"Bryan Cranston\"|\"malcom in the m...</td>\n",
       "      <td>15058</td>\n",
       "      <td>0</td>\n",
       "      <td>...</td>\n",
       "      <td>0</td>\n",
       "      <td>https://i.ytimg.com/vi/Kn5UgGQukYQ/default.jpg</td>\n",
       "      <td>True</td>\n",
       "      <td>True</td>\n",
       "      <td>False</td>\n",
       "      <td>The Hudson Union www.hudsonunionsociety.com is...</td>\n",
       "      <td>402 days 02:45:09</td>\n",
       "      <td>0</td>\n",
       "      <td>Friday</td>\n",
       "      <td>21</td>\n",
       "    </tr>\n",
       "    <tr>\n",
       "      <td>1667</td>\n",
       "      <td>Kn5UgGQukYQ</td>\n",
       "      <td>2017-11-22 00:00:00+00:00</td>\n",
       "      <td>Breaking Bad's Bryan Cranston on Meeting Charl...</td>\n",
       "      <td>hudsonunionsociety</td>\n",
       "      <td>1</td>\n",
       "      <td>Film &amp; Animation</td>\n",
       "      <td>2016-10-14 21:14:51+00:00</td>\n",
       "      <td>Breaking Bad|\"Bryan Cranston\"|\"malcom in the m...</td>\n",
       "      <td>34207</td>\n",
       "      <td>0</td>\n",
       "      <td>...</td>\n",
       "      <td>0</td>\n",
       "      <td>https://i.ytimg.com/vi/Kn5UgGQukYQ/default.jpg</td>\n",
       "      <td>True</td>\n",
       "      <td>True</td>\n",
       "      <td>False</td>\n",
       "      <td>The Hudson Union www.hudsonunionsociety.com is...</td>\n",
       "      <td>403 days 02:45:09</td>\n",
       "      <td>0</td>\n",
       "      <td>Friday</td>\n",
       "      <td>21</td>\n",
       "    </tr>\n",
       "    <tr>\n",
       "      <td>1868</td>\n",
       "      <td>_akwfRuL4os</td>\n",
       "      <td>2017-11-23 00:00:00+00:00</td>\n",
       "      <td>Highlights of the EA predatory behavior announ...</td>\n",
       "      <td>chris lee</td>\n",
       "      <td>22</td>\n",
       "      <td>People &amp; Blogs</td>\n",
       "      <td>2017-11-21 19:29:03+00:00</td>\n",
       "      <td>[none]</td>\n",
       "      <td>160012</td>\n",
       "      <td>0</td>\n",
       "      <td>...</td>\n",
       "      <td>1722</td>\n",
       "      <td>https://i.ytimg.com/vi/_akwfRuL4os/default.jpg</td>\n",
       "      <td>False</td>\n",
       "      <td>True</td>\n",
       "      <td>False</td>\n",
       "      <td>The State of Hawaii announces action to addres...</td>\n",
       "      <td>1 days 04:30:57</td>\n",
       "      <td>0</td>\n",
       "      <td>Tuesday</td>\n",
       "      <td>19</td>\n",
       "    </tr>\n",
       "    <tr>\n",
       "      <td>1914</td>\n",
       "      <td>Kn5UgGQukYQ</td>\n",
       "      <td>2017-11-23 00:00:00+00:00</td>\n",
       "      <td>Breaking Bad's Bryan Cranston on Meeting Charl...</td>\n",
       "      <td>hudsonunionsociety</td>\n",
       "      <td>1</td>\n",
       "      <td>Film &amp; Animation</td>\n",
       "      <td>2016-10-14 21:14:51+00:00</td>\n",
       "      <td>Breaking Bad|\"Bryan Cranston\"|\"malcom in the m...</td>\n",
       "      <td>36137</td>\n",
       "      <td>0</td>\n",
       "      <td>...</td>\n",
       "      <td>0</td>\n",
       "      <td>https://i.ytimg.com/vi/Kn5UgGQukYQ/default.jpg</td>\n",
       "      <td>True</td>\n",
       "      <td>True</td>\n",
       "      <td>False</td>\n",
       "      <td>The Hudson Union www.hudsonunionsociety.com is...</td>\n",
       "      <td>404 days 02:45:09</td>\n",
       "      <td>0</td>\n",
       "      <td>Friday</td>\n",
       "      <td>21</td>\n",
       "    </tr>\n",
       "  </tbody>\n",
       "</table>\n",
       "<p>5 rows × 21 columns</p>\n",
       "</div>"
      ],
      "text/plain": [
       "         video_id             trending_date  \\\n",
       "192   wRGldR_SQAA 2017-11-14 00:00:00+00:00   \n",
       "1435  Kn5UgGQukYQ 2017-11-21 00:00:00+00:00   \n",
       "1667  Kn5UgGQukYQ 2017-11-22 00:00:00+00:00   \n",
       "1868  _akwfRuL4os 2017-11-23 00:00:00+00:00   \n",
       "1914  Kn5UgGQukYQ 2017-11-23 00:00:00+00:00   \n",
       "\n",
       "                                                  title       channel_title  \\\n",
       "192                                  Apple Clips sample        Steve Kovach   \n",
       "1435  Breaking Bad's Bryan Cranston on Meeting Charl...  hudsonunionsociety   \n",
       "1667  Breaking Bad's Bryan Cranston on Meeting Charl...  hudsonunionsociety   \n",
       "1868  Highlights of the EA predatory behavior announ...           chris lee   \n",
       "1914  Breaking Bad's Bryan Cranston on Meeting Charl...  hudsonunionsociety   \n",
       "\n",
       "      category_id      category_name              publish_time  \\\n",
       "192            22     People & Blogs 2017-11-09 18:01:04+00:00   \n",
       "1435            1   Film & Animation 2016-10-14 21:14:51+00:00   \n",
       "1667            1   Film & Animation 2016-10-14 21:14:51+00:00   \n",
       "1868           22     People & Blogs 2017-11-21 19:29:03+00:00   \n",
       "1914            1   Film & Animation 2016-10-14 21:14:51+00:00   \n",
       "\n",
       "                                                   tags   views  likes  ...  \\\n",
       "192                                              [none]    2259      0  ...   \n",
       "1435  Breaking Bad|\"Bryan Cranston\"|\"malcom in the m...   15058      0  ...   \n",
       "1667  Breaking Bad|\"Bryan Cranston\"|\"malcom in the m...   34207      0  ...   \n",
       "1868                                             [none]  160012      0  ...   \n",
       "1914  Breaking Bad|\"Bryan Cranston\"|\"malcom in the m...   36137      0  ...   \n",
       "\n",
       "      comment_count                                  thumbnail_link  \\\n",
       "192               0  https://i.ytimg.com/vi/wRGldR_SQAA/default.jpg   \n",
       "1435              0  https://i.ytimg.com/vi/Kn5UgGQukYQ/default.jpg   \n",
       "1667              0  https://i.ytimg.com/vi/Kn5UgGQukYQ/default.jpg   \n",
       "1868           1722  https://i.ytimg.com/vi/_akwfRuL4os/default.jpg   \n",
       "1914              0  https://i.ytimg.com/vi/Kn5UgGQukYQ/default.jpg   \n",
       "\n",
       "     comments_disabled  ratings_disabled  video_error_or_removed  \\\n",
       "192              False             False                   False   \n",
       "1435              True              True                   False   \n",
       "1667              True              True                   False   \n",
       "1868             False              True                   False   \n",
       "1914              True              True                   False   \n",
       "\n",
       "                                            description      trending_gap  \\\n",
       "192   Clips 2.0 lets you use augmented reality and s...   4 days 05:58:56   \n",
       "1435  The Hudson Union www.hudsonunionsociety.com is... 402 days 02:45:09   \n",
       "1667  The Hudson Union www.hudsonunionsociety.com is... 403 days 02:45:09   \n",
       "1868  The State of Hawaii announces action to addres...   1 days 04:30:57   \n",
       "1914  The Hudson Union www.hudsonunionsociety.com is... 404 days 02:45:09   \n",
       "\n",
       "     delta_like  day_name upload_time  \n",
       "192           0  Thursday          18  \n",
       "1435          0    Friday          21  \n",
       "1667          0    Friday          21  \n",
       "1868          0   Tuesday          19  \n",
       "1914          0    Friday          21  \n",
       "\n",
       "[5 rows x 21 columns]"
      ]
     },
     "execution_count": 109,
     "metadata": {},
     "output_type": "execute_result"
    }
   ],
   "source": [
    "youtube_delta_0 = youtube[(youtube['delta_like'] == 0)]\n",
    "youtube_delta_0.head()"
   ]
  },
  {
   "cell_type": "markdown",
   "metadata": {},
   "source": [
    "### why do you think there is a trend video that did not had no difference at all between the number of likes and dislikes?\n",
    "\n",
    "##### Jawab: Answer: because most videos that delta_like == 0 from the creator content mostly have ratings_disabled value True, the way to disable YouTube video rating can be seen in the following link https://support.google.com/youtube/thread/17854344?hl=en"
   ]
  },
  {
   "cell_type": "code",
   "execution_count": 9,
   "metadata": {
    "scrolled": true
   },
   "outputs": [
    {
     "data": {
      "image/png": "[encoded data removed]",
      "text/plain": [
       "<Figure size 432x288 with 1 Axes>"
      ]
     },
     "metadata": {
      "needs_background": "light"
     },
     "output_type": "display_data"
    },
    {
     "data": {
      "text/plain": [
       "<Figure size 864x864 with 0 Axes>"
      ]
     },
     "metadata": {},
     "output_type": "display_data"
    }
   ],
   "source": [
    "from matplotlib.pyplot import show\n",
    "ax = sns.countplot(x = 'ratings_disabled', data = youtube[(youtube['delta_like'] == 0)])\n",
    "total = int(len(youtube[(youtube['delta_like'] == 0)]))\n",
    "plt.figure(figsize=(12,12))\n",
    "plt\n",
    "for p in ax.patches:\n",
    "    height = p.get_height()\n",
    "    ax.text(p.get_x()+p.get_width()/2.,\n",
    "            height + 3,\n",
    "            '{}%'.format(round(height/total*100)),\n",
    "            ha=\"center\") \n",
    "show()"
   ]
  },
  {
   "cell_type": "code",
   "execution_count": 10,
   "metadata": {},
   "outputs": [
    {
     "data": {
      "text/plain": [
       "<matplotlib.axes._subplots.AxesSubplot at 0x1bcbbc912c8>"
      ]
     },
     "execution_count": 10,
     "metadata": {},
     "output_type": "execute_result"
    },
    {
     "data": {
      "image/png": "[encoded data removed]",
      "text/plain": [
       "<Figure size 432x288 with 1 Axes>"
      ]
     },
     "metadata": {
      "needs_background": "light"
     },
     "output_type": "display_data"
    }
   ],
   "source": [
    "sns.stripplot(x='ratings_disabled', y='views',data=youtube[(youtube['delta_like'] == 0)],jitter=True,hue='delta_like')"
   ]
  },
  {
   "cell_type": "markdown",
   "metadata": {},
   "source": [
    "##### As for videos that are rating_disabled == False but delta_like == 0 because the views are less than 7400 as can be seen in the table below, which means that the video is less desirable by Youtube viewers."
   ]
  },
  {
   "cell_type": "code",
   "execution_count": 11,
   "metadata": {
    "scrolled": true
   },
   "outputs": [
    {
     "data": {
      "text/html": [
       "<div>\n",
       "<style scoped>\n",
       "    .dataframe tbody tr th:only-of-type {\n",
       "        vertical-align: middle;\n",
       "    }\n",
       "\n",
       "    .dataframe tbody tr th {\n",
       "        vertical-align: top;\n",
       "    }\n",
       "\n",
       "    .dataframe thead th {\n",
       "        text-align: right;\n",
       "    }\n",
       "</style>\n",
       "<table border=\"1\" class=\"dataframe\">\n",
       "  <thead>\n",
       "    <tr style=\"text-align: right;\">\n",
       "      <th></th>\n",
       "      <th>video_id</th>\n",
       "      <th>trending_date</th>\n",
       "      <th>title</th>\n",
       "      <th>channel_title</th>\n",
       "      <th>category_id</th>\n",
       "      <th>category_name</th>\n",
       "      <th>publish_time</th>\n",
       "      <th>tags</th>\n",
       "      <th>views</th>\n",
       "      <th>likes</th>\n",
       "      <th>dislikes</th>\n",
       "      <th>comment_count</th>\n",
       "      <th>thumbnail_link</th>\n",
       "      <th>comments_disabled</th>\n",
       "      <th>ratings_disabled</th>\n",
       "      <th>video_error_or_removed</th>\n",
       "      <th>description</th>\n",
       "      <th>trending_gap</th>\n",
       "      <th>delta_like</th>\n",
       "    </tr>\n",
       "  </thead>\n",
       "  <tbody>\n",
       "    <tr>\n",
       "      <td>192</td>\n",
       "      <td>wRGldR_SQAA</td>\n",
       "      <td>2017-11-14 00:00:00+00:00</td>\n",
       "      <td>Apple Clips sample</td>\n",
       "      <td>Steve Kovach</td>\n",
       "      <td>22</td>\n",
       "      <td>People &amp; Blogs</td>\n",
       "      <td>2017-11-09 18:01:04+00:00</td>\n",
       "      <td>[none]</td>\n",
       "      <td>2259</td>\n",
       "      <td>0</td>\n",
       "      <td>0</td>\n",
       "      <td>0</td>\n",
       "      <td>https://i.ytimg.com/vi/wRGldR_SQAA/default.jpg</td>\n",
       "      <td>False</td>\n",
       "      <td>False</td>\n",
       "      <td>False</td>\n",
       "      <td>Clips 2.0 lets you use augmented reality and s...</td>\n",
       "      <td>4 days 05:58:56</td>\n",
       "      <td>0</td>\n",
       "    </tr>\n",
       "    <tr>\n",
       "      <td>1921</td>\n",
       "      <td>v6d1rShfyZk</td>\n",
       "      <td>2017-11-23 00:00:00+00:00</td>\n",
       "      <td>YouTube Back on Echo Show</td>\n",
       "      <td>Voicebot</td>\n",
       "      <td>22</td>\n",
       "      <td>People &amp; Blogs</td>\n",
       "      <td>2017-11-21 16:02:44+00:00</td>\n",
       "      <td>Amazon Alexa|\"Amazon Echo Show\"|\"Echo Show\"|\"Y...</td>\n",
       "      <td>2869</td>\n",
       "      <td>2</td>\n",
       "      <td>2</td>\n",
       "      <td>0</td>\n",
       "      <td>https://i.ytimg.com/vi/v6d1rShfyZk/default.jpg</td>\n",
       "      <td>False</td>\n",
       "      <td>False</td>\n",
       "      <td>False</td>\n",
       "      <td>NaN</td>\n",
       "      <td>1 days 07:57:16</td>\n",
       "      <td>0</td>\n",
       "    </tr>\n",
       "    <tr>\n",
       "      <td>2122</td>\n",
       "      <td>v6d1rShfyZk</td>\n",
       "      <td>2017-11-24 00:00:00+00:00</td>\n",
       "      <td>YouTube Back on Echo Show</td>\n",
       "      <td>Voicebot</td>\n",
       "      <td>22</td>\n",
       "      <td>People &amp; Blogs</td>\n",
       "      <td>2017-11-21 16:02:44+00:00</td>\n",
       "      <td>Amazon Alexa|\"Amazon Echo Show\"|\"Echo Show\"|\"Y...</td>\n",
       "      <td>3409</td>\n",
       "      <td>2</td>\n",
       "      <td>2</td>\n",
       "      <td>0</td>\n",
       "      <td>https://i.ytimg.com/vi/v6d1rShfyZk/default.jpg</td>\n",
       "      <td>False</td>\n",
       "      <td>False</td>\n",
       "      <td>False</td>\n",
       "      <td>NaN</td>\n",
       "      <td>2 days 07:57:16</td>\n",
       "      <td>0</td>\n",
       "    </tr>\n",
       "    <tr>\n",
       "      <td>2337</td>\n",
       "      <td>v6d1rShfyZk</td>\n",
       "      <td>2017-11-25 00:00:00+00:00</td>\n",
       "      <td>YouTube Back on Echo Show</td>\n",
       "      <td>Voicebot</td>\n",
       "      <td>22</td>\n",
       "      <td>People &amp; Blogs</td>\n",
       "      <td>2017-11-21 16:02:44+00:00</td>\n",
       "      <td>Amazon Alexa|\"Amazon Echo Show\"|\"Echo Show\"|\"Y...</td>\n",
       "      <td>3800</td>\n",
       "      <td>2</td>\n",
       "      <td>2</td>\n",
       "      <td>0</td>\n",
       "      <td>https://i.ytimg.com/vi/v6d1rShfyZk/default.jpg</td>\n",
       "      <td>False</td>\n",
       "      <td>False</td>\n",
       "      <td>False</td>\n",
       "      <td>NaN</td>\n",
       "      <td>3 days 07:57:16</td>\n",
       "      <td>0</td>\n",
       "    </tr>\n",
       "    <tr>\n",
       "      <td>2557</td>\n",
       "      <td>v6d1rShfyZk</td>\n",
       "      <td>2017-11-26 00:00:00+00:00</td>\n",
       "      <td>YouTube Back on Echo Show</td>\n",
       "      <td>Voicebot</td>\n",
       "      <td>22</td>\n",
       "      <td>People &amp; Blogs</td>\n",
       "      <td>2017-11-21 16:02:44+00:00</td>\n",
       "      <td>Amazon Alexa|\"Amazon Echo Show\"|\"Echo Show\"|\"Y...</td>\n",
       "      <td>4114</td>\n",
       "      <td>2</td>\n",
       "      <td>2</td>\n",
       "      <td>0</td>\n",
       "      <td>https://i.ytimg.com/vi/v6d1rShfyZk/default.jpg</td>\n",
       "      <td>False</td>\n",
       "      <td>False</td>\n",
       "      <td>False</td>\n",
       "      <td>NaN</td>\n",
       "      <td>4 days 07:57:16</td>\n",
       "      <td>0</td>\n",
       "    </tr>\n",
       "    <tr>\n",
       "      <td>2778</td>\n",
       "      <td>v6d1rShfyZk</td>\n",
       "      <td>2017-11-27 00:00:00+00:00</td>\n",
       "      <td>YouTube Back on Echo Show</td>\n",
       "      <td>Voicebot</td>\n",
       "      <td>22</td>\n",
       "      <td>People &amp; Blogs</td>\n",
       "      <td>2017-11-21 16:02:44+00:00</td>\n",
       "      <td>Amazon Alexa|\"Amazon Echo Show\"|\"Echo Show\"|\"Y...</td>\n",
       "      <td>4386</td>\n",
       "      <td>2</td>\n",
       "      <td>2</td>\n",
       "      <td>1</td>\n",
       "      <td>https://i.ytimg.com/vi/v6d1rShfyZk/default.jpg</td>\n",
       "      <td>False</td>\n",
       "      <td>False</td>\n",
       "      <td>False</td>\n",
       "      <td>NaN</td>\n",
       "      <td>5 days 07:57:16</td>\n",
       "      <td>0</td>\n",
       "    </tr>\n",
       "    <tr>\n",
       "      <td>10704</td>\n",
       "      <td>Wwyxaow1wWg</td>\n",
       "      <td>2018-01-06 00:00:00+00:00</td>\n",
       "      <td>Inventing The Wheel</td>\n",
       "      <td>J Gasser</td>\n",
       "      <td>24</td>\n",
       "      <td>Entertainment</td>\n",
       "      <td>2017-11-08 22:27:53+00:00</td>\n",
       "      <td>[none]</td>\n",
       "      <td>987</td>\n",
       "      <td>1</td>\n",
       "      <td>1</td>\n",
       "      <td>0</td>\n",
       "      <td>https://i.ytimg.com/vi/Wwyxaow1wWg/default.jpg</td>\n",
       "      <td>False</td>\n",
       "      <td>False</td>\n",
       "      <td>False</td>\n",
       "      <td>How The Wheel Was Really Invented.</td>\n",
       "      <td>58 days 01:32:07</td>\n",
       "      <td>0</td>\n",
       "    </tr>\n",
       "    <tr>\n",
       "      <td>12559</td>\n",
       "      <td>yUMalTN2OvM</td>\n",
       "      <td>2018-01-17 00:00:00+00:00</td>\n",
       "      <td>IoT kit robot #3</td>\n",
       "      <td>eba era</td>\n",
       "      <td>10</td>\n",
       "      <td>Music</td>\n",
       "      <td>2014-03-07 22:39:36+00:00</td>\n",
       "      <td>Aruduino|\"Robot\"|\"Sensor\"</td>\n",
       "      <td>3456</td>\n",
       "      <td>4</td>\n",
       "      <td>4</td>\n",
       "      <td>5</td>\n",
       "      <td>https://i.ytimg.com/vi/yUMalTN2OvM/default.jpg</td>\n",
       "      <td>False</td>\n",
       "      <td>False</td>\n",
       "      <td>False</td>\n",
       "      <td>NaN</td>\n",
       "      <td>1411 days 01:20:24</td>\n",
       "      <td>0</td>\n",
       "    </tr>\n",
       "    <tr>\n",
       "      <td>13714</td>\n",
       "      <td>Ow-plaMZHT8</td>\n",
       "      <td>2018-01-23 00:00:00+00:00</td>\n",
       "      <td>old dodge stratus commercial</td>\n",
       "      <td>jeremiah johnson</td>\n",
       "      <td>2</td>\n",
       "      <td>Autos &amp; Vehicles</td>\n",
       "      <td>2016-05-13 20:47:57+00:00</td>\n",
       "      <td>dodge stratus|\"dodge stratus commercial\"|\"comm...</td>\n",
       "      <td>3215</td>\n",
       "      <td>4</td>\n",
       "      <td>4</td>\n",
       "      <td>4</td>\n",
       "      <td>https://i.ytimg.com/vi/Ow-plaMZHT8/default.jpg</td>\n",
       "      <td>False</td>\n",
       "      <td>False</td>\n",
       "      <td>False</td>\n",
       "      <td>old dodge stratus commercial Check this out! h...</td>\n",
       "      <td>619 days 03:12:03</td>\n",
       "      <td>0</td>\n",
       "    </tr>\n",
       "    <tr>\n",
       "      <td>13965</td>\n",
       "      <td>Ow-plaMZHT8</td>\n",
       "      <td>2018-01-24 00:00:00+00:00</td>\n",
       "      <td>old dodge stratus commercial</td>\n",
       "      <td>jeremiah johnson</td>\n",
       "      <td>2</td>\n",
       "      <td>Autos &amp; Vehicles</td>\n",
       "      <td>2016-05-13 20:47:57+00:00</td>\n",
       "      <td>dodge stratus|\"dodge stratus commercial\"|\"comm...</td>\n",
       "      <td>3312</td>\n",
       "      <td>4</td>\n",
       "      <td>4</td>\n",
       "      <td>4</td>\n",
       "      <td>https://i.ytimg.com/vi/Ow-plaMZHT8/default.jpg</td>\n",
       "      <td>False</td>\n",
       "      <td>False</td>\n",
       "      <td>False</td>\n",
       "      <td>old dodge stratus commercial Check this out! h...</td>\n",
       "      <td>620 days 03:12:03</td>\n",
       "      <td>0</td>\n",
       "    </tr>\n",
       "    <tr>\n",
       "      <td>14196</td>\n",
       "      <td>Ow-plaMZHT8</td>\n",
       "      <td>2018-01-25 00:00:00+00:00</td>\n",
       "      <td>old dodge stratus commercial</td>\n",
       "      <td>jeremiah johnson</td>\n",
       "      <td>2</td>\n",
       "      <td>Autos &amp; Vehicles</td>\n",
       "      <td>2016-05-13 20:47:57+00:00</td>\n",
       "      <td>dodge stratus|\"dodge stratus commercial\"|\"comm...</td>\n",
       "      <td>3362</td>\n",
       "      <td>4</td>\n",
       "      <td>4</td>\n",
       "      <td>4</td>\n",
       "      <td>https://i.ytimg.com/vi/Ow-plaMZHT8/default.jpg</td>\n",
       "      <td>False</td>\n",
       "      <td>False</td>\n",
       "      <td>False</td>\n",
       "      <td>old dodge stratus commercial Check this out! h...</td>\n",
       "      <td>621 days 03:12:03</td>\n",
       "      <td>0</td>\n",
       "    </tr>\n",
       "    <tr>\n",
       "      <td>14794</td>\n",
       "      <td>AmZJwThOfzE</td>\n",
       "      <td>2018-01-28 00:00:00+00:00</td>\n",
       "      <td>This fox being a derp...</td>\n",
       "      <td>Dean Anderson</td>\n",
       "      <td>15</td>\n",
       "      <td>Pets &amp; Animals</td>\n",
       "      <td>2017-12-09 19:47:45+00:00</td>\n",
       "      <td>Animal|\"Animals\"|\"Cute\"|\"Derp\"|\"Animals being ...</td>\n",
       "      <td>7325</td>\n",
       "      <td>6</td>\n",
       "      <td>6</td>\n",
       "      <td>1</td>\n",
       "      <td>https://i.ytimg.com/vi/AmZJwThOfzE/default.jpg</td>\n",
       "      <td>False</td>\n",
       "      <td>False</td>\n",
       "      <td>False</td>\n",
       "      <td>I'm not really sure what he was trying to acco...</td>\n",
       "      <td>49 days 04:12:15</td>\n",
       "      <td>0</td>\n",
       "    </tr>\n",
       "  </tbody>\n",
       "</table>\n",
       "</div>"
      ],
      "text/plain": [
       "          video_id             trending_date                         title  \\\n",
       "192    wRGldR_SQAA 2017-11-14 00:00:00+00:00            Apple Clips sample   \n",
       "1921   v6d1rShfyZk 2017-11-23 00:00:00+00:00     YouTube Back on Echo Show   \n",
       "2122   v6d1rShfyZk 2017-11-24 00:00:00+00:00     YouTube Back on Echo Show   \n",
       "2337   v6d1rShfyZk 2017-11-25 00:00:00+00:00     YouTube Back on Echo Show   \n",
       "2557   v6d1rShfyZk 2017-11-26 00:00:00+00:00     YouTube Back on Echo Show   \n",
       "2778   v6d1rShfyZk 2017-11-27 00:00:00+00:00     YouTube Back on Echo Show   \n",
       "10704  Wwyxaow1wWg 2018-01-06 00:00:00+00:00           Inventing The Wheel   \n",
       "12559  yUMalTN2OvM 2018-01-17 00:00:00+00:00              IoT kit robot #3   \n",
       "13714  Ow-plaMZHT8 2018-01-23 00:00:00+00:00  old dodge stratus commercial   \n",
       "13965  Ow-plaMZHT8 2018-01-24 00:00:00+00:00  old dodge stratus commercial   \n",
       "14196  Ow-plaMZHT8 2018-01-25 00:00:00+00:00  old dodge stratus commercial   \n",
       "14794  AmZJwThOfzE 2018-01-28 00:00:00+00:00      This fox being a derp...   \n",
       "\n",
       "          channel_title  category_id      category_name  \\\n",
       "192        Steve Kovach           22     People & Blogs   \n",
       "1921           Voicebot           22     People & Blogs   \n",
       "2122           Voicebot           22     People & Blogs   \n",
       "2337           Voicebot           22     People & Blogs   \n",
       "2557           Voicebot           22     People & Blogs   \n",
       "2778           Voicebot           22     People & Blogs   \n",
       "10704          J Gasser           24      Entertainment   \n",
       "12559           eba era           10              Music   \n",
       "13714  jeremiah johnson            2   Autos & Vehicles   \n",
       "13965  jeremiah johnson            2   Autos & Vehicles   \n",
       "14196  jeremiah johnson            2   Autos & Vehicles   \n",
       "14794     Dean Anderson           15     Pets & Animals   \n",
       "\n",
       "                   publish_time  \\\n",
       "192   2017-11-09 18:01:04+00:00   \n",
       "1921  2017-11-21 16:02:44+00:00   \n",
       "2122  2017-11-21 16:02:44+00:00   \n",
       "2337  2017-11-21 16:02:44+00:00   \n",
       "2557  2017-11-21 16:02:44+00:00   \n",
       "2778  2017-11-21 16:02:44+00:00   \n",
       "10704 2017-11-08 22:27:53+00:00   \n",
       "12559 2014-03-07 22:39:36+00:00   \n",
       "13714 2016-05-13 20:47:57+00:00   \n",
       "13965 2016-05-13 20:47:57+00:00   \n",
       "14196 2016-05-13 20:47:57+00:00   \n",
       "14794 2017-12-09 19:47:45+00:00   \n",
       "\n",
       "                                                    tags  views  likes  \\\n",
       "192                                               [none]   2259      0   \n",
       "1921   Amazon Alexa|\"Amazon Echo Show\"|\"Echo Show\"|\"Y...   2869      2   \n",
       "2122   Amazon Alexa|\"Amazon Echo Show\"|\"Echo Show\"|\"Y...   3409      2   \n",
       "2337   Amazon Alexa|\"Amazon Echo Show\"|\"Echo Show\"|\"Y...   3800      2   \n",
       "2557   Amazon Alexa|\"Amazon Echo Show\"|\"Echo Show\"|\"Y...   4114      2   \n",
       "2778   Amazon Alexa|\"Amazon Echo Show\"|\"Echo Show\"|\"Y...   4386      2   \n",
       "10704                                             [none]    987      1   \n",
       "12559                          Aruduino|\"Robot\"|\"Sensor\"   3456      4   \n",
       "13714  dodge stratus|\"dodge stratus commercial\"|\"comm...   3215      4   \n",
       "13965  dodge stratus|\"dodge stratus commercial\"|\"comm...   3312      4   \n",
       "14196  dodge stratus|\"dodge stratus commercial\"|\"comm...   3362      4   \n",
       "14794  Animal|\"Animals\"|\"Cute\"|\"Derp\"|\"Animals being ...   7325      6   \n",
       "\n",
       "       dislikes  comment_count  \\\n",
       "192           0              0   \n",
       "1921          2              0   \n",
       "2122          2              0   \n",
       "2337          2              0   \n",
       "2557          2              0   \n",
       "2778          2              1   \n",
       "10704         1              0   \n",
       "12559         4              5   \n",
       "13714         4              4   \n",
       "13965         4              4   \n",
       "14196         4              4   \n",
       "14794         6              1   \n",
       "\n",
       "                                       thumbnail_link  comments_disabled  \\\n",
       "192    https://i.ytimg.com/vi/wRGldR_SQAA/default.jpg              False   \n",
       "1921   https://i.ytimg.com/vi/v6d1rShfyZk/default.jpg              False   \n",
       "2122   https://i.ytimg.com/vi/v6d1rShfyZk/default.jpg              False   \n",
       "2337   https://i.ytimg.com/vi/v6d1rShfyZk/default.jpg              False   \n",
       "2557   https://i.ytimg.com/vi/v6d1rShfyZk/default.jpg              False   \n",
       "2778   https://i.ytimg.com/vi/v6d1rShfyZk/default.jpg              False   \n",
       "10704  https://i.ytimg.com/vi/Wwyxaow1wWg/default.jpg              False   \n",
       "12559  https://i.ytimg.com/vi/yUMalTN2OvM/default.jpg              False   \n",
       "13714  https://i.ytimg.com/vi/Ow-plaMZHT8/default.jpg              False   \n",
       "13965  https://i.ytimg.com/vi/Ow-plaMZHT8/default.jpg              False   \n",
       "14196  https://i.ytimg.com/vi/Ow-plaMZHT8/default.jpg              False   \n",
       "14794  https://i.ytimg.com/vi/AmZJwThOfzE/default.jpg              False   \n",
       "\n",
       "       ratings_disabled  video_error_or_removed  \\\n",
       "192               False                   False   \n",
       "1921              False                   False   \n",
       "2122              False                   False   \n",
       "2337              False                   False   \n",
       "2557              False                   False   \n",
       "2778              False                   False   \n",
       "10704             False                   False   \n",
       "12559             False                   False   \n",
       "13714             False                   False   \n",
       "13965             False                   False   \n",
       "14196             False                   False   \n",
       "14794             False                   False   \n",
       "\n",
       "                                             description       trending_gap  \\\n",
       "192    Clips 2.0 lets you use augmented reality and s...    4 days 05:58:56   \n",
       "1921                                                 NaN    1 days 07:57:16   \n",
       "2122                                                 NaN    2 days 07:57:16   \n",
       "2337                                                 NaN    3 days 07:57:16   \n",
       "2557                                                 NaN    4 days 07:57:16   \n",
       "2778                                                 NaN    5 days 07:57:16   \n",
       "10704                 How The Wheel Was Really Invented.   58 days 01:32:07   \n",
       "12559                                                NaN 1411 days 01:20:24   \n",
       "13714  old dodge stratus commercial Check this out! h...  619 days 03:12:03   \n",
       "13965  old dodge stratus commercial Check this out! h...  620 days 03:12:03   \n",
       "14196  old dodge stratus commercial Check this out! h...  621 days 03:12:03   \n",
       "14794  I'm not really sure what he was trying to acco...   49 days 04:12:15   \n",
       "\n",
       "       delta_like  \n",
       "192             0  \n",
       "1921            0  \n",
       "2122            0  \n",
       "2337            0  \n",
       "2557            0  \n",
       "2778            0  \n",
       "10704           0  \n",
       "12559           0  \n",
       "13714           0  \n",
       "13965           0  \n",
       "14196           0  \n",
       "14794           0  "
      ]
     },
     "execution_count": 11,
     "metadata": {},
     "output_type": "execute_result"
    }
   ],
   "source": [
    "youtube[(youtube['delta_like'] == 0) & (youtube['ratings_disabled'] == False)]"
   ]
  },
  {
   "cell_type": "code",
   "execution_count": 12,
   "metadata": {},
   "outputs": [],
   "source": [
    "youtube['publish_time'] = pd.to_datetime(youtube['publish_time'])\n",
    "youtube['day_name'] = youtube['publish_time'].dt.day_name()\n",
    "youtube['upload_time'] = youtube['publish_time'].dt.hour"
   ]
  },
  {
   "cell_type": "code",
   "execution_count": 13,
   "metadata": {
    "scrolled": true
   },
   "outputs": [
    {
     "data": {
      "text/html": [
       "<div>\n",
       "<style scoped>\n",
       "    .dataframe tbody tr th:only-of-type {\n",
       "        vertical-align: middle;\n",
       "    }\n",
       "\n",
       "    .dataframe tbody tr th {\n",
       "        vertical-align: top;\n",
       "    }\n",
       "\n",
       "    .dataframe thead th {\n",
       "        text-align: right;\n",
       "    }\n",
       "</style>\n",
       "<table border=\"1\" class=\"dataframe\">\n",
       "  <thead>\n",
       "    <tr style=\"text-align: right;\">\n",
       "      <th></th>\n",
       "      <th>video_id</th>\n",
       "      <th>trending_date</th>\n",
       "      <th>title</th>\n",
       "      <th>channel_title</th>\n",
       "      <th>category_id</th>\n",
       "      <th>category_name</th>\n",
       "      <th>publish_time</th>\n",
       "      <th>tags</th>\n",
       "      <th>views</th>\n",
       "      <th>likes</th>\n",
       "      <th>...</th>\n",
       "      <th>comment_count</th>\n",
       "      <th>thumbnail_link</th>\n",
       "      <th>comments_disabled</th>\n",
       "      <th>ratings_disabled</th>\n",
       "      <th>video_error_or_removed</th>\n",
       "      <th>description</th>\n",
       "      <th>trending_gap</th>\n",
       "      <th>delta_like</th>\n",
       "      <th>day_name</th>\n",
       "      <th>upload_time</th>\n",
       "    </tr>\n",
       "  </thead>\n",
       "  <tbody>\n",
       "    <tr>\n",
       "      <td>0</td>\n",
       "      <td>2kyS6SvSYSE</td>\n",
       "      <td>2017-11-14 00:00:00+00:00</td>\n",
       "      <td>WE WANT TO TALK ABOUT OUR MARRIAGE</td>\n",
       "      <td>CaseyNeistat</td>\n",
       "      <td>22</td>\n",
       "      <td>People &amp; Blogs</td>\n",
       "      <td>2017-11-13 17:13:01+00:00</td>\n",
       "      <td>SHANtell martin</td>\n",
       "      <td>748374</td>\n",
       "      <td>57527</td>\n",
       "      <td>...</td>\n",
       "      <td>15954</td>\n",
       "      <td>https://i.ytimg.com/vi/2kyS6SvSYSE/default.jpg</td>\n",
       "      <td>False</td>\n",
       "      <td>False</td>\n",
       "      <td>False</td>\n",
       "      <td>SHANTELL'S CHANNEL - https://www.youtube.com/s...</td>\n",
       "      <td>0 days 06:46:59</td>\n",
       "      <td>54561</td>\n",
       "      <td>Monday</td>\n",
       "      <td>17</td>\n",
       "    </tr>\n",
       "    <tr>\n",
       "      <td>1</td>\n",
       "      <td>1ZAPwfrtAFY</td>\n",
       "      <td>2017-11-14 00:00:00+00:00</td>\n",
       "      <td>The Trump Presidency: Last Week Tonight with J...</td>\n",
       "      <td>LastWeekTonight</td>\n",
       "      <td>24</td>\n",
       "      <td>Entertainment</td>\n",
       "      <td>2017-11-13 07:30:00+00:00</td>\n",
       "      <td>last week tonight trump presidency|\"last week ...</td>\n",
       "      <td>2418783</td>\n",
       "      <td>97185</td>\n",
       "      <td>...</td>\n",
       "      <td>12703</td>\n",
       "      <td>https://i.ytimg.com/vi/1ZAPwfrtAFY/default.jpg</td>\n",
       "      <td>False</td>\n",
       "      <td>False</td>\n",
       "      <td>False</td>\n",
       "      <td>One year after the presidential election, John...</td>\n",
       "      <td>0 days 16:30:00</td>\n",
       "      <td>91039</td>\n",
       "      <td>Monday</td>\n",
       "      <td>7</td>\n",
       "    </tr>\n",
       "    <tr>\n",
       "      <td>2</td>\n",
       "      <td>5qpjK5DgCt4</td>\n",
       "      <td>2017-11-14 00:00:00+00:00</td>\n",
       "      <td>Racist Superman | Rudy Mancuso, King Bach &amp; Le...</td>\n",
       "      <td>Rudy Mancuso</td>\n",
       "      <td>23</td>\n",
       "      <td>Comedy</td>\n",
       "      <td>2017-11-12 19:05:24+00:00</td>\n",
       "      <td>racist superman|\"rudy\"|\"mancuso\"|\"king\"|\"bach\"...</td>\n",
       "      <td>3191434</td>\n",
       "      <td>146033</td>\n",
       "      <td>...</td>\n",
       "      <td>8181</td>\n",
       "      <td>https://i.ytimg.com/vi/5qpjK5DgCt4/default.jpg</td>\n",
       "      <td>False</td>\n",
       "      <td>False</td>\n",
       "      <td>False</td>\n",
       "      <td>WATCH MY PREVIOUS VIDEO ▶ \\n\\nSUBSCRIBE ► http...</td>\n",
       "      <td>1 days 04:54:36</td>\n",
       "      <td>140694</td>\n",
       "      <td>Sunday</td>\n",
       "      <td>19</td>\n",
       "    </tr>\n",
       "    <tr>\n",
       "      <td>3</td>\n",
       "      <td>puqaWrEC7tY</td>\n",
       "      <td>2017-11-14 00:00:00+00:00</td>\n",
       "      <td>Nickelback Lyrics: Real or Fake?</td>\n",
       "      <td>Good Mythical Morning</td>\n",
       "      <td>24</td>\n",
       "      <td>Entertainment</td>\n",
       "      <td>2017-11-13 11:00:04+00:00</td>\n",
       "      <td>rhett and link|\"gmm\"|\"good mythical morning\"|\"...</td>\n",
       "      <td>343168</td>\n",
       "      <td>10172</td>\n",
       "      <td>...</td>\n",
       "      <td>2146</td>\n",
       "      <td>https://i.ytimg.com/vi/puqaWrEC7tY/default.jpg</td>\n",
       "      <td>False</td>\n",
       "      <td>False</td>\n",
       "      <td>False</td>\n",
       "      <td>Today we find out if Link is a Nickelback amat...</td>\n",
       "      <td>0 days 12:59:56</td>\n",
       "      <td>9506</td>\n",
       "      <td>Monday</td>\n",
       "      <td>11</td>\n",
       "    </tr>\n",
       "    <tr>\n",
       "      <td>4</td>\n",
       "      <td>d380meD0W0M</td>\n",
       "      <td>2017-11-14 00:00:00+00:00</td>\n",
       "      <td>I Dare You: GOING BALD!?</td>\n",
       "      <td>nigahiga</td>\n",
       "      <td>24</td>\n",
       "      <td>Entertainment</td>\n",
       "      <td>2017-11-12 18:01:41+00:00</td>\n",
       "      <td>ryan|\"higa\"|\"higatv\"|\"nigahiga\"|\"i dare you\"|\"...</td>\n",
       "      <td>2095731</td>\n",
       "      <td>132235</td>\n",
       "      <td>...</td>\n",
       "      <td>17518</td>\n",
       "      <td>https://i.ytimg.com/vi/d380meD0W0M/default.jpg</td>\n",
       "      <td>False</td>\n",
       "      <td>False</td>\n",
       "      <td>False</td>\n",
       "      <td>I know it's been a while since we did this sho...</td>\n",
       "      <td>1 days 05:58:19</td>\n",
       "      <td>130246</td>\n",
       "      <td>Sunday</td>\n",
       "      <td>18</td>\n",
       "    </tr>\n",
       "  </tbody>\n",
       "</table>\n",
       "<p>5 rows × 21 columns</p>\n",
       "</div>"
      ],
      "text/plain": [
       "      video_id             trending_date  \\\n",
       "0  2kyS6SvSYSE 2017-11-14 00:00:00+00:00   \n",
       "1  1ZAPwfrtAFY 2017-11-14 00:00:00+00:00   \n",
       "2  5qpjK5DgCt4 2017-11-14 00:00:00+00:00   \n",
       "3  puqaWrEC7tY 2017-11-14 00:00:00+00:00   \n",
       "4  d380meD0W0M 2017-11-14 00:00:00+00:00   \n",
       "\n",
       "                                               title          channel_title  \\\n",
       "0                 WE WANT TO TALK ABOUT OUR MARRIAGE           CaseyNeistat   \n",
       "1  The Trump Presidency: Last Week Tonight with J...        LastWeekTonight   \n",
       "2  Racist Superman | Rudy Mancuso, King Bach & Le...           Rudy Mancuso   \n",
       "3                   Nickelback Lyrics: Real or Fake?  Good Mythical Morning   \n",
       "4                           I Dare You: GOING BALD!?               nigahiga   \n",
       "\n",
       "   category_id    category_name              publish_time  \\\n",
       "0           22   People & Blogs 2017-11-13 17:13:01+00:00   \n",
       "1           24    Entertainment 2017-11-13 07:30:00+00:00   \n",
       "2           23           Comedy 2017-11-12 19:05:24+00:00   \n",
       "3           24    Entertainment 2017-11-13 11:00:04+00:00   \n",
       "4           24    Entertainment 2017-11-12 18:01:41+00:00   \n",
       "\n",
       "                                                tags    views   likes  ...  \\\n",
       "0                                    SHANtell martin   748374   57527  ...   \n",
       "1  last week tonight trump presidency|\"last week ...  2418783   97185  ...   \n",
       "2  racist superman|\"rudy\"|\"mancuso\"|\"king\"|\"bach\"...  3191434  146033  ...   \n",
       "3  rhett and link|\"gmm\"|\"good mythical morning\"|\"...   343168   10172  ...   \n",
       "4  ryan|\"higa\"|\"higatv\"|\"nigahiga\"|\"i dare you\"|\"...  2095731  132235  ...   \n",
       "\n",
       "   comment_count                                  thumbnail_link  \\\n",
       "0          15954  https://i.ytimg.com/vi/2kyS6SvSYSE/default.jpg   \n",
       "1          12703  https://i.ytimg.com/vi/1ZAPwfrtAFY/default.jpg   \n",
       "2           8181  https://i.ytimg.com/vi/5qpjK5DgCt4/default.jpg   \n",
       "3           2146  https://i.ytimg.com/vi/puqaWrEC7tY/default.jpg   \n",
       "4          17518  https://i.ytimg.com/vi/d380meD0W0M/default.jpg   \n",
       "\n",
       "  comments_disabled  ratings_disabled  video_error_or_removed  \\\n",
       "0             False             False                   False   \n",
       "1             False             False                   False   \n",
       "2             False             False                   False   \n",
       "3             False             False                   False   \n",
       "4             False             False                   False   \n",
       "\n",
       "                                         description    trending_gap  \\\n",
       "0  SHANTELL'S CHANNEL - https://www.youtube.com/s... 0 days 06:46:59   \n",
       "1  One year after the presidential election, John... 0 days 16:30:00   \n",
       "2  WATCH MY PREVIOUS VIDEO ▶ \\n\\nSUBSCRIBE ► http... 1 days 04:54:36   \n",
       "3  Today we find out if Link is a Nickelback amat... 0 days 12:59:56   \n",
       "4  I know it's been a while since we did this sho... 1 days 05:58:19   \n",
       "\n",
       "  delta_like  day_name upload_time  \n",
       "0      54561    Monday          17  \n",
       "1      91039    Monday           7  \n",
       "2     140694    Sunday          19  \n",
       "3       9506    Monday          11  \n",
       "4     130246    Sunday          18  \n",
       "\n",
       "[5 rows x 21 columns]"
      ]
     },
     "execution_count": 13,
     "metadata": {},
     "output_type": "execute_result"
    }
   ],
   "source": [
    "youtube.head()"
   ]
  },
  {
   "cell_type": "code",
   "execution_count": 14,
   "metadata": {},
   "outputs": [],
   "source": [
    "youtube_test = youtube.copy()\n",
    "youtube_test['upload_time'].replace(0, 24,inplace=True)"
   ]
  },
  {
   "cell_type": "markdown",
   "metadata": {},
   "source": [
    "## MOST VIEWED YOUTUBE VIDEO BASED ON DAY\n",
    "###### content creator can upload on Friday or Sunday if they want to get more viewers"
   ]
  },
  {
   "cell_type": "code",
   "execution_count": 15,
   "metadata": {},
   "outputs": [
    {
     "data": {
      "text/plain": [
       "<seaborn.axisgrid.FacetGrid at 0x1bcbb613488>"
      ]
     },
     "execution_count": 15,
     "metadata": {},
     "output_type": "execute_result"
    },
    {
     "data": {
      "text/plain": [
       "<Figure size 720x720 with 0 Axes>"
      ]
     },
     "metadata": {},
     "output_type": "display_data"
    },
    {
     "data": {
      "image/png": "[encoded data removed]",
      "text/plain": [
       "<Figure size 720x360 with 1 Axes>"
      ]
     },
     "metadata": {
      "needs_background": "light"
     },
     "output_type": "display_data"
    }
   ],
   "source": [
    "plt.figure(figsize=(10,10))\n",
    "sns.catplot(x='day_name',y='views',data=youtube_test,kind='bar',\n",
    "               order=['Monday','Tuesday','Wednesday','Thursday','Friday','Saturday','Sunday'],aspect=2)"
   ]
  },
  {
   "cell_type": "markdown",
   "metadata": {},
   "source": [
    "## Most Viewed (Green Highlight) Youtube Video Based on Upload Time & Day of Week\n",
    "#### This can be useful if the content creator wants to upload video everyday (and can choose the right time for upload the video) then get more viewer"
   ]
  },
  {
   "cell_type": "code",
   "execution_count": 16,
   "metadata": {
    "scrolled": false
   },
   "outputs": [
    {
     "data": {
      "text/html": [
       "<style  type=\"text/css\" >\n",
       "    #T_f1ab6ca8_3cc0_11ea_b7fa_98fa9bcb9c99row1_col5 {\n",
       "            background-color:  green;\n",
       "        }    #T_f1ab6ca8_3cc0_11ea_b7fa_98fa9bcb9c99row2_col1 {\n",
       "            background-color:  green;\n",
       "        }    #T_f1ab6ca8_3cc0_11ea_b7fa_98fa9bcb9c99row3_col6 {\n",
       "            background-color:  green;\n",
       "        }    #T_f1ab6ca8_3cc0_11ea_b7fa_98fa9bcb9c99row6_col2 {\n",
       "            background-color:  green;\n",
       "        }    #T_f1ab6ca8_3cc0_11ea_b7fa_98fa9bcb9c99row7_col0 {\n",
       "            background-color:  green;\n",
       "        }    #T_f1ab6ca8_3cc0_11ea_b7fa_98fa9bcb9c99row9_col4 {\n",
       "            background-color:  green;\n",
       "        }    #T_f1ab6ca8_3cc0_11ea_b7fa_98fa9bcb9c99row11_col3 {\n",
       "            background-color:  green;\n",
       "        }</style><table id=\"T_f1ab6ca8_3cc0_11ea_b7fa_98fa9bcb9c99\" ><thead>    <tr>        <th class=\"index_name level0\" >day_name</th>        <th class=\"col_heading level0 col0\" >Monday</th>        <th class=\"col_heading level0 col1\" >Tuesday</th>        <th class=\"col_heading level0 col2\" >Wednesday</th>        <th class=\"col_heading level0 col3\" >Thursday</th>        <th class=\"col_heading level0 col4\" >Friday</th>        <th class=\"col_heading level0 col5\" >Saturday</th>        <th class=\"col_heading level0 col6\" >Sunday</th>    </tr>    <tr>        <th class=\"index_name level0\" >upload_time</th>        <th class=\"blank\" ></th>        <th class=\"blank\" ></th>        <th class=\"blank\" ></th>        <th class=\"blank\" ></th>        <th class=\"blank\" ></th>        <th class=\"blank\" ></th>        <th class=\"blank\" ></th>    </tr></thead><tbody>\n",
       "                <tr>\n",
       "                        <th id=\"T_f1ab6ca8_3cc0_11ea_b7fa_98fa9bcb9c99level0_row0\" class=\"row_heading level0 row0\" >1</th>\n",
       "                        <td id=\"T_f1ab6ca8_3cc0_11ea_b7fa_98fa9bcb9c99row0_col0\" class=\"data row0 col0\" >4.51971e+06</td>\n",
       "                        <td id=\"T_f1ab6ca8_3cc0_11ea_b7fa_98fa9bcb9c99row0_col1\" class=\"data row0 col1\" >1.33158e+06</td>\n",
       "                        <td id=\"T_f1ab6ca8_3cc0_11ea_b7fa_98fa9bcb9c99row0_col2\" class=\"data row0 col2\" >1.63609e+06</td>\n",
       "                        <td id=\"T_f1ab6ca8_3cc0_11ea_b7fa_98fa9bcb9c99row0_col3\" class=\"data row0 col3\" >1.10914e+06</td>\n",
       "                        <td id=\"T_f1ab6ca8_3cc0_11ea_b7fa_98fa9bcb9c99row0_col4\" class=\"data row0 col4\" >1.98528e+06</td>\n",
       "                        <td id=\"T_f1ab6ca8_3cc0_11ea_b7fa_98fa9bcb9c99row0_col5\" class=\"data row0 col5\" >855275</td>\n",
       "                        <td id=\"T_f1ab6ca8_3cc0_11ea_b7fa_98fa9bcb9c99row0_col6\" class=\"data row0 col6\" >1.00845e+06</td>\n",
       "            </tr>\n",
       "            <tr>\n",
       "                        <th id=\"T_f1ab6ca8_3cc0_11ea_b7fa_98fa9bcb9c99level0_row1\" class=\"row_heading level0 row1\" >2</th>\n",
       "                        <td id=\"T_f1ab6ca8_3cc0_11ea_b7fa_98fa9bcb9c99row1_col0\" class=\"data row1 col0\" >2.78632e+06</td>\n",
       "                        <td id=\"T_f1ab6ca8_3cc0_11ea_b7fa_98fa9bcb9c99row1_col1\" class=\"data row1 col1\" >1.32404e+06</td>\n",
       "                        <td id=\"T_f1ab6ca8_3cc0_11ea_b7fa_98fa9bcb9c99row1_col2\" class=\"data row1 col2\" >1.42478e+06</td>\n",
       "                        <td id=\"T_f1ab6ca8_3cc0_11ea_b7fa_98fa9bcb9c99row1_col3\" class=\"data row1 col3\" >464695</td>\n",
       "                        <td id=\"T_f1ab6ca8_3cc0_11ea_b7fa_98fa9bcb9c99row1_col4\" class=\"data row1 col4\" >1.53094e+06</td>\n",
       "                        <td id=\"T_f1ab6ca8_3cc0_11ea_b7fa_98fa9bcb9c99row1_col5\" class=\"data row1 col5\" >6.3236e+06</td>\n",
       "                        <td id=\"T_f1ab6ca8_3cc0_11ea_b7fa_98fa9bcb9c99row1_col6\" class=\"data row1 col6\" >378171</td>\n",
       "            </tr>\n",
       "            <tr>\n",
       "                        <th id=\"T_f1ab6ca8_3cc0_11ea_b7fa_98fa9bcb9c99level0_row2\" class=\"row_heading level0 row2\" >3</th>\n",
       "                        <td id=\"T_f1ab6ca8_3cc0_11ea_b7fa_98fa9bcb9c99row2_col0\" class=\"data row2 col0\" >814035</td>\n",
       "                        <td id=\"T_f1ab6ca8_3cc0_11ea_b7fa_98fa9bcb9c99row2_col1\" class=\"data row2 col1\" >8.29358e+06</td>\n",
       "                        <td id=\"T_f1ab6ca8_3cc0_11ea_b7fa_98fa9bcb9c99row2_col2\" class=\"data row2 col2\" >790647</td>\n",
       "                        <td id=\"T_f1ab6ca8_3cc0_11ea_b7fa_98fa9bcb9c99row2_col3\" class=\"data row2 col3\" >2.47043e+06</td>\n",
       "                        <td id=\"T_f1ab6ca8_3cc0_11ea_b7fa_98fa9bcb9c99row2_col4\" class=\"data row2 col4\" >4.2823e+06</td>\n",
       "                        <td id=\"T_f1ab6ca8_3cc0_11ea_b7fa_98fa9bcb9c99row2_col5\" class=\"data row2 col5\" >1.00396e+06</td>\n",
       "                        <td id=\"T_f1ab6ca8_3cc0_11ea_b7fa_98fa9bcb9c99row2_col6\" class=\"data row2 col6\" >2.65624e+06</td>\n",
       "            </tr>\n",
       "            <tr>\n",
       "                        <th id=\"T_f1ab6ca8_3cc0_11ea_b7fa_98fa9bcb9c99level0_row3\" class=\"row_heading level0 row3\" >4</th>\n",
       "                        <td id=\"T_f1ab6ca8_3cc0_11ea_b7fa_98fa9bcb9c99row3_col0\" class=\"data row3 col0\" >1.51775e+06</td>\n",
       "                        <td id=\"T_f1ab6ca8_3cc0_11ea_b7fa_98fa9bcb9c99row3_col1\" class=\"data row3 col1\" >2.43231e+06</td>\n",
       "                        <td id=\"T_f1ab6ca8_3cc0_11ea_b7fa_98fa9bcb9c99row3_col2\" class=\"data row3 col2\" >1.0724e+06</td>\n",
       "                        <td id=\"T_f1ab6ca8_3cc0_11ea_b7fa_98fa9bcb9c99row3_col3\" class=\"data row3 col3\" >5.93029e+06</td>\n",
       "                        <td id=\"T_f1ab6ca8_3cc0_11ea_b7fa_98fa9bcb9c99row3_col4\" class=\"data row3 col4\" >6.83859e+06</td>\n",
       "                        <td id=\"T_f1ab6ca8_3cc0_11ea_b7fa_98fa9bcb9c99row3_col5\" class=\"data row3 col5\" >689264</td>\n",
       "                        <td id=\"T_f1ab6ca8_3cc0_11ea_b7fa_98fa9bcb9c99row3_col6\" class=\"data row3 col6\" >4.16669e+07</td>\n",
       "            </tr>\n",
       "            <tr>\n",
       "                        <th id=\"T_f1ab6ca8_3cc0_11ea_b7fa_98fa9bcb9c99level0_row4\" class=\"row_heading level0 row4\" >5</th>\n",
       "                        <td id=\"T_f1ab6ca8_3cc0_11ea_b7fa_98fa9bcb9c99row4_col0\" class=\"data row4 col0\" >1.05453e+06</td>\n",
       "                        <td id=\"T_f1ab6ca8_3cc0_11ea_b7fa_98fa9bcb9c99row4_col1\" class=\"data row4 col1\" >3.04278e+06</td>\n",
       "                        <td id=\"T_f1ab6ca8_3cc0_11ea_b7fa_98fa9bcb9c99row4_col2\" class=\"data row4 col2\" >885135</td>\n",
       "                        <td id=\"T_f1ab6ca8_3cc0_11ea_b7fa_98fa9bcb9c99row4_col3\" class=\"data row4 col3\" >1.0186e+06</td>\n",
       "                        <td id=\"T_f1ab6ca8_3cc0_11ea_b7fa_98fa9bcb9c99row4_col4\" class=\"data row4 col4\" >3.42047e+06</td>\n",
       "                        <td id=\"T_f1ab6ca8_3cc0_11ea_b7fa_98fa9bcb9c99row4_col5\" class=\"data row4 col5\" >4.64711e+06</td>\n",
       "                        <td id=\"T_f1ab6ca8_3cc0_11ea_b7fa_98fa9bcb9c99row4_col6\" class=\"data row4 col6\" >992974</td>\n",
       "            </tr>\n",
       "            <tr>\n",
       "                        <th id=\"T_f1ab6ca8_3cc0_11ea_b7fa_98fa9bcb9c99level0_row5\" class=\"row_heading level0 row5\" >6</th>\n",
       "                        <td id=\"T_f1ab6ca8_3cc0_11ea_b7fa_98fa9bcb9c99row5_col0\" class=\"data row5 col0\" >775111</td>\n",
       "                        <td id=\"T_f1ab6ca8_3cc0_11ea_b7fa_98fa9bcb9c99row5_col1\" class=\"data row5 col1\" >287565</td>\n",
       "                        <td id=\"T_f1ab6ca8_3cc0_11ea_b7fa_98fa9bcb9c99row5_col2\" class=\"data row5 col2\" >3.99938e+06</td>\n",
       "                        <td id=\"T_f1ab6ca8_3cc0_11ea_b7fa_98fa9bcb9c99row5_col3\" class=\"data row5 col3\" >1.62209e+06</td>\n",
       "                        <td id=\"T_f1ab6ca8_3cc0_11ea_b7fa_98fa9bcb9c99row5_col4\" class=\"data row5 col4\" >1.33857e+06</td>\n",
       "                        <td id=\"T_f1ab6ca8_3cc0_11ea_b7fa_98fa9bcb9c99row5_col5\" class=\"data row5 col5\" >516637</td>\n",
       "                        <td id=\"T_f1ab6ca8_3cc0_11ea_b7fa_98fa9bcb9c99row5_col6\" class=\"data row5 col6\" >1.6314e+06</td>\n",
       "            </tr>\n",
       "            <tr>\n",
       "                        <th id=\"T_f1ab6ca8_3cc0_11ea_b7fa_98fa9bcb9c99level0_row6\" class=\"row_heading level0 row6\" >7</th>\n",
       "                        <td id=\"T_f1ab6ca8_3cc0_11ea_b7fa_98fa9bcb9c99row6_col0\" class=\"data row6 col0\" >1.68741e+06</td>\n",
       "                        <td id=\"T_f1ab6ca8_3cc0_11ea_b7fa_98fa9bcb9c99row6_col1\" class=\"data row6 col1\" >7.3732e+06</td>\n",
       "                        <td id=\"T_f1ab6ca8_3cc0_11ea_b7fa_98fa9bcb9c99row6_col2\" class=\"data row6 col2\" >8.40145e+06</td>\n",
       "                        <td id=\"T_f1ab6ca8_3cc0_11ea_b7fa_98fa9bcb9c99row6_col3\" class=\"data row6 col3\" >935675</td>\n",
       "                        <td id=\"T_f1ab6ca8_3cc0_11ea_b7fa_98fa9bcb9c99row6_col4\" class=\"data row6 col4\" >4.20745e+06</td>\n",
       "                        <td id=\"T_f1ab6ca8_3cc0_11ea_b7fa_98fa9bcb9c99row6_col5\" class=\"data row6 col5\" >1.54875e+06</td>\n",
       "                        <td id=\"T_f1ab6ca8_3cc0_11ea_b7fa_98fa9bcb9c99row6_col6\" class=\"data row6 col6\" >2.41525e+06</td>\n",
       "            </tr>\n",
       "            <tr>\n",
       "                        <th id=\"T_f1ab6ca8_3cc0_11ea_b7fa_98fa9bcb9c99level0_row7\" class=\"row_heading level0 row7\" >8</th>\n",
       "                        <td id=\"T_f1ab6ca8_3cc0_11ea_b7fa_98fa9bcb9c99row7_col0\" class=\"data row7 col0\" >8.51913e+06</td>\n",
       "                        <td id=\"T_f1ab6ca8_3cc0_11ea_b7fa_98fa9bcb9c99row7_col1\" class=\"data row7 col1\" >473637</td>\n",
       "                        <td id=\"T_f1ab6ca8_3cc0_11ea_b7fa_98fa9bcb9c99row7_col2\" class=\"data row7 col2\" >710412</td>\n",
       "                        <td id=\"T_f1ab6ca8_3cc0_11ea_b7fa_98fa9bcb9c99row7_col3\" class=\"data row7 col3\" >1.014e+06</td>\n",
       "                        <td id=\"T_f1ab6ca8_3cc0_11ea_b7fa_98fa9bcb9c99row7_col4\" class=\"data row7 col4\" >3.20352e+06</td>\n",
       "                        <td id=\"T_f1ab6ca8_3cc0_11ea_b7fa_98fa9bcb9c99row7_col5\" class=\"data row7 col5\" >4.40174e+06</td>\n",
       "                        <td id=\"T_f1ab6ca8_3cc0_11ea_b7fa_98fa9bcb9c99row7_col6\" class=\"data row7 col6\" >8.15819e+06</td>\n",
       "            </tr>\n",
       "            <tr>\n",
       "                        <th id=\"T_f1ab6ca8_3cc0_11ea_b7fa_98fa9bcb9c99level0_row8\" class=\"row_heading level0 row8\" >9</th>\n",
       "                        <td id=\"T_f1ab6ca8_3cc0_11ea_b7fa_98fa9bcb9c99row8_col0\" class=\"data row8 col0\" >8.17878e+06</td>\n",
       "                        <td id=\"T_f1ab6ca8_3cc0_11ea_b7fa_98fa9bcb9c99row8_col1\" class=\"data row8 col1\" >1.58531e+06</td>\n",
       "                        <td id=\"T_f1ab6ca8_3cc0_11ea_b7fa_98fa9bcb9c99row8_col2\" class=\"data row8 col2\" >3.80572e+06</td>\n",
       "                        <td id=\"T_f1ab6ca8_3cc0_11ea_b7fa_98fa9bcb9c99row8_col3\" class=\"data row8 col3\" >2.57886e+06</td>\n",
       "                        <td id=\"T_f1ab6ca8_3cc0_11ea_b7fa_98fa9bcb9c99row8_col4\" class=\"data row8 col4\" >1.27904e+07</td>\n",
       "                        <td id=\"T_f1ab6ca8_3cc0_11ea_b7fa_98fa9bcb9c99row8_col5\" class=\"data row8 col5\" >45268</td>\n",
       "                        <td id=\"T_f1ab6ca8_3cc0_11ea_b7fa_98fa9bcb9c99row8_col6\" class=\"data row8 col6\" >1.535e+06</td>\n",
       "            </tr>\n",
       "            <tr>\n",
       "                        <th id=\"T_f1ab6ca8_3cc0_11ea_b7fa_98fa9bcb9c99level0_row9\" class=\"row_heading level0 row9\" >10</th>\n",
       "                        <td id=\"T_f1ab6ca8_3cc0_11ea_b7fa_98fa9bcb9c99row9_col0\" class=\"data row9 col0\" >1.02901e+06</td>\n",
       "                        <td id=\"T_f1ab6ca8_3cc0_11ea_b7fa_98fa9bcb9c99row9_col1\" class=\"data row9 col1\" >761943</td>\n",
       "                        <td id=\"T_f1ab6ca8_3cc0_11ea_b7fa_98fa9bcb9c99row9_col2\" class=\"data row9 col2\" >1.94689e+06</td>\n",
       "                        <td id=\"T_f1ab6ca8_3cc0_11ea_b7fa_98fa9bcb9c99row9_col3\" class=\"data row9 col3\" >693783</td>\n",
       "                        <td id=\"T_f1ab6ca8_3cc0_11ea_b7fa_98fa9bcb9c99row9_col4\" class=\"data row9 col4\" >1.43817e+07</td>\n",
       "                        <td id=\"T_f1ab6ca8_3cc0_11ea_b7fa_98fa9bcb9c99row9_col5\" class=\"data row9 col5\" >603972</td>\n",
       "                        <td id=\"T_f1ab6ca8_3cc0_11ea_b7fa_98fa9bcb9c99row9_col6\" class=\"data row9 col6\" >1.67682e+06</td>\n",
       "            </tr>\n",
       "            <tr>\n",
       "                        <th id=\"T_f1ab6ca8_3cc0_11ea_b7fa_98fa9bcb9c99level0_row10\" class=\"row_heading level0 row10\" >11</th>\n",
       "                        <td id=\"T_f1ab6ca8_3cc0_11ea_b7fa_98fa9bcb9c99row10_col0\" class=\"data row10 col0\" >931726</td>\n",
       "                        <td id=\"T_f1ab6ca8_3cc0_11ea_b7fa_98fa9bcb9c99row10_col1\" class=\"data row10 col1\" >455129</td>\n",
       "                        <td id=\"T_f1ab6ca8_3cc0_11ea_b7fa_98fa9bcb9c99row10_col2\" class=\"data row10 col2\" >823224</td>\n",
       "                        <td id=\"T_f1ab6ca8_3cc0_11ea_b7fa_98fa9bcb9c99row10_col3\" class=\"data row10 col3\" >2.58560e+06</td>\n",
       "                        <td id=\"T_f1ab6ca8_3cc0_11ea_b7fa_98fa9bcb9c99row10_col4\" class=\"data row10 col4\" >5.68362e+06</td>\n",
       "                        <td id=\"T_f1ab6ca8_3cc0_11ea_b7fa_98fa9bcb9c99row10_col5\" class=\"data row10 col5\" >2.21148e+06</td>\n",
       "                        <td id=\"T_f1ab6ca8_3cc0_11ea_b7fa_98fa9bcb9c99row10_col6\" class=\"data row10 col6\" >4.91478e+06</td>\n",
       "            </tr>\n",
       "            <tr>\n",
       "                        <th id=\"T_f1ab6ca8_3cc0_11ea_b7fa_98fa9bcb9c99level0_row11\" class=\"row_heading level0 row11\" >12</th>\n",
       "                        <td id=\"T_f1ab6ca8_3cc0_11ea_b7fa_98fa9bcb9c99row11_col0\" class=\"data row11 col0\" >2.17924e+06</td>\n",
       "                        <td id=\"T_f1ab6ca8_3cc0_11ea_b7fa_98fa9bcb9c99row11_col1\" class=\"data row11 col1\" >1.59742e+06</td>\n",
       "                        <td id=\"T_f1ab6ca8_3cc0_11ea_b7fa_98fa9bcb9c99row11_col2\" class=\"data row11 col2\" >1.12729e+06</td>\n",
       "                        <td id=\"T_f1ab6ca8_3cc0_11ea_b7fa_98fa9bcb9c99row11_col3\" class=\"data row11 col3\" >6.74037e+06</td>\n",
       "                        <td id=\"T_f1ab6ca8_3cc0_11ea_b7fa_98fa9bcb9c99row11_col4\" class=\"data row11 col4\" >2.83356e+06</td>\n",
       "                        <td id=\"T_f1ab6ca8_3cc0_11ea_b7fa_98fa9bcb9c99row11_col5\" class=\"data row11 col5\" >3.44852e+06</td>\n",
       "                        <td id=\"T_f1ab6ca8_3cc0_11ea_b7fa_98fa9bcb9c99row11_col6\" class=\"data row11 col6\" >1.79836e+06</td>\n",
       "            </tr>\n",
       "            <tr>\n",
       "                        <th id=\"T_f1ab6ca8_3cc0_11ea_b7fa_98fa9bcb9c99level0_row12\" class=\"row_heading level0 row12\" >13</th>\n",
       "                        <td id=\"T_f1ab6ca8_3cc0_11ea_b7fa_98fa9bcb9c99row12_col0\" class=\"data row12 col0\" >1.11726e+06</td>\n",
       "                        <td id=\"T_f1ab6ca8_3cc0_11ea_b7fa_98fa9bcb9c99row12_col1\" class=\"data row12 col1\" >2.84779e+06</td>\n",
       "                        <td id=\"T_f1ab6ca8_3cc0_11ea_b7fa_98fa9bcb9c99row12_col2\" class=\"data row12 col2\" >4.64397e+06</td>\n",
       "                        <td id=\"T_f1ab6ca8_3cc0_11ea_b7fa_98fa9bcb9c99row12_col3\" class=\"data row12 col3\" >2.52396e+06</td>\n",
       "                        <td id=\"T_f1ab6ca8_3cc0_11ea_b7fa_98fa9bcb9c99row12_col4\" class=\"data row12 col4\" >4.46624e+06</td>\n",
       "                        <td id=\"T_f1ab6ca8_3cc0_11ea_b7fa_98fa9bcb9c99row12_col5\" class=\"data row12 col5\" >606962</td>\n",
       "                        <td id=\"T_f1ab6ca8_3cc0_11ea_b7fa_98fa9bcb9c99row12_col6\" class=\"data row12 col6\" >901322</td>\n",
       "            </tr>\n",
       "            <tr>\n",
       "                        <th id=\"T_f1ab6ca8_3cc0_11ea_b7fa_98fa9bcb9c99level0_row13\" class=\"row_heading level0 row13\" >14</th>\n",
       "                        <td id=\"T_f1ab6ca8_3cc0_11ea_b7fa_98fa9bcb9c99row13_col0\" class=\"data row13 col0\" >2.06582e+06</td>\n",
       "                        <td id=\"T_f1ab6ca8_3cc0_11ea_b7fa_98fa9bcb9c99row13_col1\" class=\"data row13 col1\" >3.88624e+06</td>\n",
       "                        <td id=\"T_f1ab6ca8_3cc0_11ea_b7fa_98fa9bcb9c99row13_col2\" class=\"data row13 col2\" >1.50002e+06</td>\n",
       "                        <td id=\"T_f1ab6ca8_3cc0_11ea_b7fa_98fa9bcb9c99row13_col3\" class=\"data row13 col3\" >2.32230e+06</td>\n",
       "                        <td id=\"T_f1ab6ca8_3cc0_11ea_b7fa_98fa9bcb9c99row13_col4\" class=\"data row13 col4\" >3.9591e+06</td>\n",
       "                        <td id=\"T_f1ab6ca8_3cc0_11ea_b7fa_98fa9bcb9c99row13_col5\" class=\"data row13 col5\" >1.81326e+06</td>\n",
       "                        <td id=\"T_f1ab6ca8_3cc0_11ea_b7fa_98fa9bcb9c99row13_col6\" class=\"data row13 col6\" >683630</td>\n",
       "            </tr>\n",
       "            <tr>\n",
       "                        <th id=\"T_f1ab6ca8_3cc0_11ea_b7fa_98fa9bcb9c99level0_row14\" class=\"row_heading level0 row14\" >15</th>\n",
       "                        <td id=\"T_f1ab6ca8_3cc0_11ea_b7fa_98fa9bcb9c99row14_col0\" class=\"data row14 col0\" >1.84908e+06</td>\n",
       "                        <td id=\"T_f1ab6ca8_3cc0_11ea_b7fa_98fa9bcb9c99row14_col1\" class=\"data row14 col1\" >2.35666e+06</td>\n",
       "                        <td id=\"T_f1ab6ca8_3cc0_11ea_b7fa_98fa9bcb9c99row14_col2\" class=\"data row14 col2\" >2.03556e+06</td>\n",
       "                        <td id=\"T_f1ab6ca8_3cc0_11ea_b7fa_98fa9bcb9c99row14_col3\" class=\"data row14 col3\" >1.84715e+06</td>\n",
       "                        <td id=\"T_f1ab6ca8_3cc0_11ea_b7fa_98fa9bcb9c99row14_col4\" class=\"data row14 col4\" >1.75119e+06</td>\n",
       "                        <td id=\"T_f1ab6ca8_3cc0_11ea_b7fa_98fa9bcb9c99row14_col5\" class=\"data row14 col5\" >2.03468e+06</td>\n",
       "                        <td id=\"T_f1ab6ca8_3cc0_11ea_b7fa_98fa9bcb9c99row14_col6\" class=\"data row14 col6\" >2.03056e+06</td>\n",
       "            </tr>\n",
       "            <tr>\n",
       "                        <th id=\"T_f1ab6ca8_3cc0_11ea_b7fa_98fa9bcb9c99level0_row15\" class=\"row_heading level0 row15\" >16</th>\n",
       "                        <td id=\"T_f1ab6ca8_3cc0_11ea_b7fa_98fa9bcb9c99row15_col0\" class=\"data row15 col0\" >787922</td>\n",
       "                        <td id=\"T_f1ab6ca8_3cc0_11ea_b7fa_98fa9bcb9c99row15_col1\" class=\"data row15 col1\" >1.38393e+06</td>\n",
       "                        <td id=\"T_f1ab6ca8_3cc0_11ea_b7fa_98fa9bcb9c99row15_col2\" class=\"data row15 col2\" >1.7427e+06</td>\n",
       "                        <td id=\"T_f1ab6ca8_3cc0_11ea_b7fa_98fa9bcb9c99row15_col3\" class=\"data row15 col3\" >3.88153e+06</td>\n",
       "                        <td id=\"T_f1ab6ca8_3cc0_11ea_b7fa_98fa9bcb9c99row15_col4\" class=\"data row15 col4\" >2.40806e+06</td>\n",
       "                        <td id=\"T_f1ab6ca8_3cc0_11ea_b7fa_98fa9bcb9c99row15_col5\" class=\"data row15 col5\" >1.53715e+06</td>\n",
       "                        <td id=\"T_f1ab6ca8_3cc0_11ea_b7fa_98fa9bcb9c99row15_col6\" class=\"data row15 col6\" >1.17894e+06</td>\n",
       "            </tr>\n",
       "            <tr>\n",
       "                        <th id=\"T_f1ab6ca8_3cc0_11ea_b7fa_98fa9bcb9c99level0_row16\" class=\"row_heading level0 row16\" >17</th>\n",
       "                        <td id=\"T_f1ab6ca8_3cc0_11ea_b7fa_98fa9bcb9c99row16_col0\" class=\"data row16 col0\" >655972</td>\n",
       "                        <td id=\"T_f1ab6ca8_3cc0_11ea_b7fa_98fa9bcb9c99row16_col1\" class=\"data row16 col1\" >1.31999e+06</td>\n",
       "                        <td id=\"T_f1ab6ca8_3cc0_11ea_b7fa_98fa9bcb9c99row16_col2\" class=\"data row16 col2\" >3.18428e+06</td>\n",
       "                        <td id=\"T_f1ab6ca8_3cc0_11ea_b7fa_98fa9bcb9c99row16_col3\" class=\"data row16 col3\" >1.46712e+06</td>\n",
       "                        <td id=\"T_f1ab6ca8_3cc0_11ea_b7fa_98fa9bcb9c99row16_col4\" class=\"data row16 col4\" >1.30598e+06</td>\n",
       "                        <td id=\"T_f1ab6ca8_3cc0_11ea_b7fa_98fa9bcb9c99row16_col5\" class=\"data row16 col5\" >1.16751e+06</td>\n",
       "                        <td id=\"T_f1ab6ca8_3cc0_11ea_b7fa_98fa9bcb9c99row16_col6\" class=\"data row16 col6\" >1.77591e+06</td>\n",
       "            </tr>\n",
       "            <tr>\n",
       "                        <th id=\"T_f1ab6ca8_3cc0_11ea_b7fa_98fa9bcb9c99level0_row17\" class=\"row_heading level0 row17\" >18</th>\n",
       "                        <td id=\"T_f1ab6ca8_3cc0_11ea_b7fa_98fa9bcb9c99row17_col0\" class=\"data row17 col0\" >1.50332e+06</td>\n",
       "                        <td id=\"T_f1ab6ca8_3cc0_11ea_b7fa_98fa9bcb9c99row17_col1\" class=\"data row17 col1\" >1.21848e+06</td>\n",
       "                        <td id=\"T_f1ab6ca8_3cc0_11ea_b7fa_98fa9bcb9c99row17_col2\" class=\"data row17 col2\" >2.51341e+06</td>\n",
       "                        <td id=\"T_f1ab6ca8_3cc0_11ea_b7fa_98fa9bcb9c99row17_col3\" class=\"data row17 col3\" >1.78980e+06</td>\n",
       "                        <td id=\"T_f1ab6ca8_3cc0_11ea_b7fa_98fa9bcb9c99row17_col4\" class=\"data row17 col4\" >1.46583e+06</td>\n",
       "                        <td id=\"T_f1ab6ca8_3cc0_11ea_b7fa_98fa9bcb9c99row17_col5\" class=\"data row17 col5\" >1.67766e+06</td>\n",
       "                        <td id=\"T_f1ab6ca8_3cc0_11ea_b7fa_98fa9bcb9c99row17_col6\" class=\"data row17 col6\" >2.20387e+06</td>\n",
       "            </tr>\n",
       "            <tr>\n",
       "                        <th id=\"T_f1ab6ca8_3cc0_11ea_b7fa_98fa9bcb9c99level0_row18\" class=\"row_heading level0 row18\" >19</th>\n",
       "                        <td id=\"T_f1ab6ca8_3cc0_11ea_b7fa_98fa9bcb9c99row18_col0\" class=\"data row18 col0\" >1.61705e+06</td>\n",
       "                        <td id=\"T_f1ab6ca8_3cc0_11ea_b7fa_98fa9bcb9c99row18_col1\" class=\"data row18 col1\" >1.02218e+06</td>\n",
       "                        <td id=\"T_f1ab6ca8_3cc0_11ea_b7fa_98fa9bcb9c99row18_col2\" class=\"data row18 col2\" >655859</td>\n",
       "                        <td id=\"T_f1ab6ca8_3cc0_11ea_b7fa_98fa9bcb9c99row18_col3\" class=\"data row18 col3\" >1.58648e+06</td>\n",
       "                        <td id=\"T_f1ab6ca8_3cc0_11ea_b7fa_98fa9bcb9c99row18_col4\" class=\"data row18 col4\" >1.62067e+06</td>\n",
       "                        <td id=\"T_f1ab6ca8_3cc0_11ea_b7fa_98fa9bcb9c99row18_col5\" class=\"data row18 col5\" >1.76603e+06</td>\n",
       "                        <td id=\"T_f1ab6ca8_3cc0_11ea_b7fa_98fa9bcb9c99row18_col6\" class=\"data row18 col6\" >2.0307e+06</td>\n",
       "            </tr>\n",
       "            <tr>\n",
       "                        <th id=\"T_f1ab6ca8_3cc0_11ea_b7fa_98fa9bcb9c99level0_row19\" class=\"row_heading level0 row19\" >20</th>\n",
       "                        <td id=\"T_f1ab6ca8_3cc0_11ea_b7fa_98fa9bcb9c99row19_col0\" class=\"data row19 col0\" >1.08632e+06</td>\n",
       "                        <td id=\"T_f1ab6ca8_3cc0_11ea_b7fa_98fa9bcb9c99row19_col1\" class=\"data row19 col1\" >2.35253e+06</td>\n",
       "                        <td id=\"T_f1ab6ca8_3cc0_11ea_b7fa_98fa9bcb9c99row19_col2\" class=\"data row19 col2\" >1.46596e+06</td>\n",
       "                        <td id=\"T_f1ab6ca8_3cc0_11ea_b7fa_98fa9bcb9c99row19_col3\" class=\"data row19 col3\" >1.85472e+06</td>\n",
       "                        <td id=\"T_f1ab6ca8_3cc0_11ea_b7fa_98fa9bcb9c99row19_col4\" class=\"data row19 col4\" >1.88041e+06</td>\n",
       "                        <td id=\"T_f1ab6ca8_3cc0_11ea_b7fa_98fa9bcb9c99row19_col5\" class=\"data row19 col5\" >1.97571e+06</td>\n",
       "                        <td id=\"T_f1ab6ca8_3cc0_11ea_b7fa_98fa9bcb9c99row19_col6\" class=\"data row19 col6\" >4.71179e+06</td>\n",
       "            </tr>\n",
       "            <tr>\n",
       "                        <th id=\"T_f1ab6ca8_3cc0_11ea_b7fa_98fa9bcb9c99level0_row20\" class=\"row_heading level0 row20\" >21</th>\n",
       "                        <td id=\"T_f1ab6ca8_3cc0_11ea_b7fa_98fa9bcb9c99row20_col0\" class=\"data row20 col0\" >4.387e+06</td>\n",
       "                        <td id=\"T_f1ab6ca8_3cc0_11ea_b7fa_98fa9bcb9c99row20_col1\" class=\"data row20 col1\" >1.98142e+06</td>\n",
       "                        <td id=\"T_f1ab6ca8_3cc0_11ea_b7fa_98fa9bcb9c99row20_col2\" class=\"data row20 col2\" >1.02784e+06</td>\n",
       "                        <td id=\"T_f1ab6ca8_3cc0_11ea_b7fa_98fa9bcb9c99row20_col3\" class=\"data row20 col3\" >1.76535e+06</td>\n",
       "                        <td id=\"T_f1ab6ca8_3cc0_11ea_b7fa_98fa9bcb9c99row20_col4\" class=\"data row20 col4\" >2.30619e+06</td>\n",
       "                        <td id=\"T_f1ab6ca8_3cc0_11ea_b7fa_98fa9bcb9c99row20_col5\" class=\"data row20 col5\" >1.339e+06</td>\n",
       "                        <td id=\"T_f1ab6ca8_3cc0_11ea_b7fa_98fa9bcb9c99row20_col6\" class=\"data row20 col6\" >1.97186e+06</td>\n",
       "            </tr>\n",
       "            <tr>\n",
       "                        <th id=\"T_f1ab6ca8_3cc0_11ea_b7fa_98fa9bcb9c99level0_row21\" class=\"row_heading level0 row21\" >22</th>\n",
       "                        <td id=\"T_f1ab6ca8_3cc0_11ea_b7fa_98fa9bcb9c99row21_col0\" class=\"data row21 col0\" >4.66173e+06</td>\n",
       "                        <td id=\"T_f1ab6ca8_3cc0_11ea_b7fa_98fa9bcb9c99row21_col1\" class=\"data row21 col1\" >1.38088e+06</td>\n",
       "                        <td id=\"T_f1ab6ca8_3cc0_11ea_b7fa_98fa9bcb9c99row21_col2\" class=\"data row21 col2\" >1.02903e+06</td>\n",
       "                        <td id=\"T_f1ab6ca8_3cc0_11ea_b7fa_98fa9bcb9c99row21_col3\" class=\"data row21 col3\" >1.0621e+06</td>\n",
       "                        <td id=\"T_f1ab6ca8_3cc0_11ea_b7fa_98fa9bcb9c99row21_col4\" class=\"data row21 col4\" >2.79838e+06</td>\n",
       "                        <td id=\"T_f1ab6ca8_3cc0_11ea_b7fa_98fa9bcb9c99row21_col5\" class=\"data row21 col5\" >621725</td>\n",
       "                        <td id=\"T_f1ab6ca8_3cc0_11ea_b7fa_98fa9bcb9c99row21_col6\" class=\"data row21 col6\" >1.00659e+06</td>\n",
       "            </tr>\n",
       "            <tr>\n",
       "                        <th id=\"T_f1ab6ca8_3cc0_11ea_b7fa_98fa9bcb9c99level0_row22\" class=\"row_heading level0 row22\" >23</th>\n",
       "                        <td id=\"T_f1ab6ca8_3cc0_11ea_b7fa_98fa9bcb9c99row22_col0\" class=\"data row22 col0\" >732819</td>\n",
       "                        <td id=\"T_f1ab6ca8_3cc0_11ea_b7fa_98fa9bcb9c99row22_col1\" class=\"data row22 col1\" >766388</td>\n",
       "                        <td id=\"T_f1ab6ca8_3cc0_11ea_b7fa_98fa9bcb9c99row22_col2\" class=\"data row22 col2\" >2.95098e+06</td>\n",
       "                        <td id=\"T_f1ab6ca8_3cc0_11ea_b7fa_98fa9bcb9c99row22_col3\" class=\"data row22 col3\" >1.0764e+06</td>\n",
       "                        <td id=\"T_f1ab6ca8_3cc0_11ea_b7fa_98fa9bcb9c99row22_col4\" class=\"data row22 col4\" >799750</td>\n",
       "                        <td id=\"T_f1ab6ca8_3cc0_11ea_b7fa_98fa9bcb9c99row22_col5\" class=\"data row22 col5\" >826781</td>\n",
       "                        <td id=\"T_f1ab6ca8_3cc0_11ea_b7fa_98fa9bcb9c99row22_col6\" class=\"data row22 col6\" >2.64511e+06</td>\n",
       "            </tr>\n",
       "            <tr>\n",
       "                        <th id=\"T_f1ab6ca8_3cc0_11ea_b7fa_98fa9bcb9c99level0_row23\" class=\"row_heading level0 row23\" >24</th>\n",
       "                        <td id=\"T_f1ab6ca8_3cc0_11ea_b7fa_98fa9bcb9c99row23_col0\" class=\"data row23 col0\" >1.89308e+06</td>\n",
       "                        <td id=\"T_f1ab6ca8_3cc0_11ea_b7fa_98fa9bcb9c99row23_col1\" class=\"data row23 col1\" >1.562e+06</td>\n",
       "                        <td id=\"T_f1ab6ca8_3cc0_11ea_b7fa_98fa9bcb9c99row23_col2\" class=\"data row23 col2\" >1.10774e+06</td>\n",
       "                        <td id=\"T_f1ab6ca8_3cc0_11ea_b7fa_98fa9bcb9c99row23_col3\" class=\"data row23 col3\" >730392</td>\n",
       "                        <td id=\"T_f1ab6ca8_3cc0_11ea_b7fa_98fa9bcb9c99row23_col4\" class=\"data row23 col4\" >1.93726e+06</td>\n",
       "                        <td id=\"T_f1ab6ca8_3cc0_11ea_b7fa_98fa9bcb9c99row23_col5\" class=\"data row23 col5\" >1.07214e+06</td>\n",
       "                        <td id=\"T_f1ab6ca8_3cc0_11ea_b7fa_98fa9bcb9c99row23_col6\" class=\"data row23 col6\" >1.98334e+06</td>\n",
       "            </tr>\n",
       "    </tbody></table>"
      ],
      "text/plain": [
       "<pandas.io.formats.style.Styler at 0x1bcbbcdeb48>"
      ]
     },
     "execution_count": 16,
     "metadata": {},
     "output_type": "execute_result"
    }
   ],
   "source": [
    "pd.options.display.float_format = '{:,.0f}'.format\n",
    "def highlight_max(s):\n",
    "    is_max = s.round() == s.max()\n",
    "    return ['background-color: green' if v else '' for v in is_max]\n",
    "\n",
    "pvt_ytb = youtube_test.pivot_table(values='views',index='upload_time',columns='day_name')\n",
    "a = pvt_ytb.round()\n",
    "a = a[['Monday','Tuesday','Wednesday','Thursday','Friday','Saturday','Sunday']]\n",
    "a.style.apply(highlight_max)"
   ]
  },
  {
   "cell_type": "markdown",
   "metadata": {},
   "source": [
    "## MOST VIEWED VIDEO BASED ON CATEGORY NAME(https://gist.github.com/dgp/1b24bf2961521bd75d6c)\n",
    "#### This can be useful for company if they want to put ads on Youtube to be more effective"
   ]
  },
  {
   "cell_type": "code",
   "execution_count": 81,
   "metadata": {},
   "outputs": [
    {
     "data": {
      "text/plain": [
       "<seaborn.axisgrid.FacetGrid at 0x1bcc3984248>"
      ]
     },
     "execution_count": 81,
     "metadata": {},
     "output_type": "execute_result"
    },
    {
     "data": {
      "image/png": "[encoded data removed]",
      "text/plain": [
       "<Figure size 1800x360 with 1 Axes>"
      ]
     },
     "metadata": {
      "needs_background": "light"
     },
     "output_type": "display_data"
    }
   ],
   "source": [
    "# plt.figure(figsize=(30,30))\n",
    "sns.catplot(x='category_name',y='views',data=youtube_test,kind='bar', aspect=5)"
   ]
  },
  {
   "cell_type": "markdown",
   "metadata": {},
   "source": [
    "## QQ PLOT"
   ]
  },
  {
   "cell_type": "code",
   "execution_count": 18,
   "metadata": {},
   "outputs": [
    {
     "data": {
      "image/png": "[encoded data removed]",
      "text/plain": [
       "<Figure size 432x288 with 1 Axes>"
      ]
     },
     "metadata": {
      "needs_background": "light"
     },
     "output_type": "display_data"
    },
    {
     "data": {
      "image/png": "[encoded data removed]",
      "text/plain": [
       "<Figure size 432x288 with 1 Axes>"
      ]
     },
     "metadata": {
      "needs_background": "light"
     },
     "output_type": "display_data"
    }
   ],
   "source": [
    "import statsmodels.api as sm\n",
    "import pylab\n",
    "\n",
    "sm.qqplot(youtube_delta_0[youtube_delta_0['trending_gap'].dt.days <= 5]['views'],line = '45')\n",
    "plt.title('Less than 5 no log')\n",
    "\n",
    "sm.qqplot(np.log(youtube_delta_0[youtube_delta_0['trending_gap'].dt.days <= 5]['views']),line = '45')\n",
    "plt.title('Less than 5 log')\n",
    "pylab.show()"
   ]
  },
  {
   "cell_type": "code",
   "execution_count": 19,
   "metadata": {},
   "outputs": [],
   "source": [
    "from scipy.stats import shapiro,normaltest,anderson\n",
    "\n",
    "def trynormal(data):\n",
    "    result={'Anderson': {i:j for i,j in zip(anderson(data)[2],anderson(data)[1])}, 'Shapiro': shapiro(data)[1],\n",
    "            'K^2': normaltest(data)[1]}\n",
    "    result['Anderson']['stat'] = anderson(data)[0]\n",
    "    return result"
   ]
  },
  {
   "cell_type": "code",
   "execution_count": 20,
   "metadata": {},
   "outputs": [
    {
     "data": {
      "text/plain": [
       "AndersonResult(statistic=30.011856798477254, critical_values=array([0.558, 0.635, 0.762, 0.889, 1.057]), significance_level=array([15. , 10. ,  5. ,  2.5,  1. ]))"
      ]
     },
     "execution_count": 20,
     "metadata": {},
     "output_type": "execute_result"
    }
   ],
   "source": [
    "anderson(youtube_delta_0[youtube_delta_0['trending_gap'].dt.days <= 5]['views'])"
   ]
  },
  {
   "cell_type": "code",
   "execution_count": 21,
   "metadata": {},
   "outputs": [
    {
     "data": {
      "text/plain": [
       "{'Anderson': {15.0: 0.558,\n",
       "  10.0: 0.635,\n",
       "  5.0: 0.762,\n",
       "  2.5: 0.889,\n",
       "  1.0: 1.057,\n",
       "  'stat': 30.011856798477254},\n",
       " 'Shapiro': 6.093685768783008e-20,\n",
       " 'K^2': 7.23626649326126e-26}"
      ]
     },
     "execution_count": 21,
     "metadata": {},
     "output_type": "execute_result"
    }
   ],
   "source": [
    "trynormal(youtube_delta_0[youtube_delta_0['trending_gap'].dt.days <= 5]['views'])"
   ]
  },
  {
   "cell_type": "code",
   "execution_count": 70,
   "metadata": {
    "scrolled": false
   },
   "outputs": [
    {
     "name": "stderr",
     "output_type": "stream",
     "text": [
      "C:\\Users\\catin\\Anaconda3\\lib\\site-packages\\ipykernel_launcher.py:9: VisibleDeprecationWarning:\n",
      "\n",
      "Passing `normed=True` on non-uniform bins has always been broken, and computes neither the probability density function nor the probability mass function. The result is only correct if the bins are uniform, when density=True will produce the same result anyway. The argument will be removed in a future version of numpy.\n",
      "\n"
     ]
    },
    {
     "data": {
      "image/png": "[encoded data removed]",
      "text/plain": [
       "<Figure size 576x576 with 1 Axes>"
      ]
     },
     "metadata": {
      "needs_background": "light"
     },
     "output_type": "display_data"
    }
   ],
   "source": [
    "def mean_differencies(x1, x2, n_boot):\n",
    "    ori_mean = x1.mean() - x2.mean()\n",
    "    mean_diff = []\n",
    "    for i in range(n_boot):\n",
    "        x1_mean = x1.sample(len(x1), replace = True).mean()\n",
    "        x2_mean = x2.sample(len(x2), replace = True).mean()\n",
    "        mean_diff.append(x1_mean-x2_mean)\n",
    "\n",
    "    hist,hist_edges = np.histogram(mean_diff, bins = 10, normed = True)\n",
    "    dx = hist_edges[1] - hist_edges[0]\n",
    "    F1 = np.cumsum(hist)*dx\n",
    "    plt.figure(figsize = (8,8))\n",
    "    plt.plot(hist_edges[1:], F1)\n",
    "    plt.axvline(ori_mean, ls = '--', c = 'r')\n",
    "    plt.axvline(ori_mean*-1, ls= '--' , c = 'r')\n",
    "\n",
    "mean_differencies(youtube_delta_0[youtube_delta_0['trending_gap'].dt.days <= 5]['views'],\n",
    "                  youtube_delta_0[youtube_delta_0['trending_gap'].dt.days > 5]['views'],1000)"
   ]
  },
  {
   "cell_type": "markdown",
   "metadata": {},
   "source": [
    "## NON PARAMETRIC TEST"
   ]
  },
  {
   "cell_type": "code",
   "execution_count": 74,
   "metadata": {},
   "outputs": [
    {
     "data": {
      "text/html": [
       "<div>\n",
       "<style scoped>\n",
       "    .dataframe tbody tr th:only-of-type {\n",
       "        vertical-align: middle;\n",
       "    }\n",
       "\n",
       "    .dataframe tbody tr th {\n",
       "        vertical-align: top;\n",
       "    }\n",
       "\n",
       "    .dataframe thead th {\n",
       "        text-align: right;\n",
       "    }\n",
       "</style>\n",
       "<table border=\"1\" class=\"dataframe\">\n",
       "  <thead>\n",
       "    <tr style=\"text-align: right;\">\n",
       "      <th></th>\n",
       "      <th>views</th>\n",
       "      <th>views</th>\n",
       "    </tr>\n",
       "  </thead>\n",
       "  <tbody>\n",
       "    <tr>\n",
       "      <td>views</td>\n",
       "      <td>1</td>\n",
       "      <td>-0</td>\n",
       "    </tr>\n",
       "    <tr>\n",
       "      <td>views</td>\n",
       "      <td>-0</td>\n",
       "      <td>1</td>\n",
       "    </tr>\n",
       "  </tbody>\n",
       "</table>\n",
       "</div>"
      ],
      "text/plain": [
       "       views  views\n",
       "views      1     -0\n",
       "views     -0      1"
      ]
     },
     "execution_count": 74,
     "metadata": {},
     "output_type": "execute_result"
    }
   ],
   "source": [
    "pd.concat([youtube_delta_0[youtube_delta_0['trending_gap'].dt.days <= 5]['views'].reset_index(drop=True),\n",
    "          youtube_delta_0[youtube_delta_0['trending_gap'].dt.days > 5]['views'].reset_index(drop=True)],axis = 1).corr()"
   ]
  },
  {
   "cell_type": "code",
   "execution_count": 77,
   "metadata": {},
   "outputs": [
    {
     "name": "stdout",
     "output_type": "stream",
     "text": [
      "U-Statistic: 2875.0\n",
      "P-value: 0.00278489919300189\n"
     ]
    }
   ],
   "source": [
    "from scipy.stats import mannwhitneyu\n",
    "result = list(mannwhitneyu(youtube_delta_0[youtube_delta_0['trending_gap'].dt.days <= 5]['views'],\n",
    "                           youtube_delta_0[youtube_delta_0['trending_gap'].dt.days > 5]['views']))\n",
    "print('U-Statistic:',result[0])\n",
    "print('P-value:',result[1])"
   ]
  },
  {
   "cell_type": "code",
   "execution_count": 82,
   "metadata": {},
   "outputs": [
    {
     "data": {
      "text/plain": [
       "<matplotlib.axes._subplots.AxesSubplot at 0x1bcc0d63a88>"
      ]
     },
     "execution_count": 82,
     "metadata": {},
     "output_type": "execute_result"
    },
    {
     "data": {
      "image/png": "[encoded data removed]",
      "text/plain": [
       "<Figure size 432x288 with 1 Axes>"
      ]
     },
     "metadata": {
      "needs_background": "light"
     },
     "output_type": "display_data"
    }
   ],
   "source": [
    "sns.barplot(data = youtube, x = 'category_id', y ='views')"
   ]
  },
  {
   "cell_type": "markdown",
   "metadata": {},
   "source": [
    "## QUESTION\n",
    "\n",
    "###### Saya pernah membaca bahwa Trend video juga tergantung kategori, jika kita barplot kan category 10 dan 29 memiliki mean yang tertinggi (walau mean dari 29 besar jaraknya) berarti mereka menarik banyak view. Tetapi apakah mereka berbeda secara view, like, dan dislikesnya?\n",
    "\n",
    "##### H0 = Tidak ada perbedaan antara kategori 10 dan 29 dalam view, like, dan dislike.\n",
    "##### H1 = Ada perbedaan antara kategori 10 dan 29 dalam view, like, dan dislike."
   ]
  },
  {
   "cell_type": "code",
   "execution_count": null,
   "metadata": {},
   "outputs": [],
   "source": []
  },
  {
   "cell_type": "markdown",
   "metadata": {},
   "source": [
    "#### Dari hasil test distribusi normal dapat menggunakan:\n",
    "- metode Anderson, terlihat bahwa H1 dapat diterima karena Statnya lebih dari Alpha yang telah ditentukan(dalam case ini 95%(0.05))\n",
    "- metode Shapiro & K-Square, juga dapat dilihat bahwa H1 dapat diterima karena nilai p-valuenya lebih kecil dari Alpha(0.05)"
   ]
  },
  {
   "cell_type": "code",
   "execution_count": 104,
   "metadata": {},
   "outputs": [
    {
     "data": {
      "text/plain": [
       "{'Anderson': {15.0: 0.576,\n",
       "  10.0: 0.656,\n",
       "  5.0: 0.787,\n",
       "  2.5: 0.917,\n",
       "  1.0: 1.091,\n",
       "  'stat': 1190.1770512259227},\n",
       " 'Shapiro': 0.0,\n",
       " 'K^2': 0.0}"
      ]
     },
     "execution_count": 104,
     "metadata": {},
     "output_type": "execute_result"
    }
   ],
   "source": [
    "trynormal(youtube[(youtube['category_id']==10)]['views'])"
   ]
  },
  {
   "cell_type": "code",
   "execution_count": 105,
   "metadata": {},
   "outputs": [
    {
     "data": {
      "text/plain": [
       "{'Anderson': {15.0: 0.542,\n",
       "  10.0: 0.617,\n",
       "  5.0: 0.741,\n",
       "  2.5: 0.864,\n",
       "  1.0: 1.028,\n",
       "  'stat': 15.03917848327174},\n",
       " 'Shapiro': 3.174725022800362e-13,\n",
       " 'K^2': 7.110325304841888e-09}"
      ]
     },
     "execution_count": 105,
     "metadata": {},
     "output_type": "execute_result"
    }
   ],
   "source": [
    "trynormal(youtube[(youtube['category_id']==29)]['views'])"
   ]
  },
  {
   "cell_type": "code",
   "execution_count": 100,
   "metadata": {},
   "outputs": [
    {
     "data": {
      "text/plain": [
       "{'Anderson': {15.0: 0.576,\n",
       "  10.0: 0.656,\n",
       "  5.0: 0.787,\n",
       "  2.5: 0.917,\n",
       "  1.0: 1.091,\n",
       "  'stat': 1059.63100476604},\n",
       " 'Shapiro': 0.0,\n",
       " 'K^2': 0.0}"
      ]
     },
     "execution_count": 100,
     "metadata": {},
     "output_type": "execute_result"
    }
   ],
   "source": [
    "trynormal(youtube[(youtube['category_id']==10)]['likes'])"
   ]
  },
  {
   "cell_type": "code",
   "execution_count": 101,
   "metadata": {},
   "outputs": [
    {
     "data": {
      "text/plain": [
       "{'Anderson': {15.0: 0.542,\n",
       "  10.0: 0.617,\n",
       "  5.0: 0.741,\n",
       "  2.5: 0.864,\n",
       "  1.0: 1.028,\n",
       "  'stat': 15.770348198612865},\n",
       " 'Shapiro': 2.335269564529563e-13,\n",
       " 'K^2': 4.61018340359511e-08}"
      ]
     },
     "execution_count": 101,
     "metadata": {},
     "output_type": "execute_result"
    }
   ],
   "source": [
    "trynormal(youtube[(youtube['category_id']==29)]['likes'])"
   ]
  },
  {
   "cell_type": "code",
   "execution_count": 102,
   "metadata": {},
   "outputs": [
    {
     "data": {
      "text/plain": [
       "{'Anderson': {15.0: 0.576,\n",
       "  10.0: 0.656,\n",
       "  5.0: 0.787,\n",
       "  2.5: 0.917,\n",
       "  1.0: 1.091,\n",
       "  'stat': 1398.5780660629043},\n",
       " 'Shapiro': 0.0,\n",
       " 'K^2': 0.0}"
      ]
     },
     "execution_count": 102,
     "metadata": {},
     "output_type": "execute_result"
    }
   ],
   "source": [
    "trynormal(youtube[(youtube['category_id']==10)]['dislikes'])"
   ]
  },
  {
   "cell_type": "code",
   "execution_count": 103,
   "metadata": {},
   "outputs": [
    {
     "data": {
      "text/plain": [
       "{'Anderson': {15.0: 0.542,\n",
       "  10.0: 0.617,\n",
       "  5.0: 0.741,\n",
       "  2.5: 0.864,\n",
       "  1.0: 1.028,\n",
       "  'stat': 15.941865855475612},\n",
       " 'Shapiro': 1.6795371788214802e-13,\n",
       " 'K^2': 5.222212259578384e-09}"
      ]
     },
     "execution_count": 103,
     "metadata": {},
     "output_type": "execute_result"
    }
   ],
   "source": [
    "trynormal(youtube[(youtube['category_id']==29)]['dislikes'])"
   ]
  },
  {
   "cell_type": "markdown",
   "metadata": {},
   "source": [
    "#### Dari hasil test menggunakan metode Mannwhitneyu menunjukkan hasil yang sama, yaitu p-value lebih kecil dari Alpha (0.05) yang berarti H0 ditolak (H1 diterima)."
   ]
  },
  {
   "cell_type": "code",
   "execution_count": 106,
   "metadata": {},
   "outputs": [
    {
     "name": "stdout",
     "output_type": "stream",
     "text": [
      "U-Statistic: 78978.5\n",
      "P-value: 4.876291818247057e-14\n"
     ]
    }
   ],
   "source": [
    "result1 = list(mannwhitneyu(youtube[(youtube['category_id']==10)]['views'],\n",
    "                           youtube[(youtube['category_id']==29)]['views']))\n",
    "print('U-Statistic:',result1[0])\n",
    "print('P-value:',result1[1])"
   ]
  },
  {
   "cell_type": "code",
   "execution_count": 107,
   "metadata": {},
   "outputs": [
    {
     "name": "stdout",
     "output_type": "stream",
     "text": [
      "U-Statistic: 81875.0\n",
      "P-value: 2.2471001015367116e-13\n"
     ]
    }
   ],
   "source": [
    "result2 = list(mannwhitneyu(youtube[(youtube['category_id']==10)]['likes'],\n",
    "                           youtube[(youtube['category_id']==29)]['likes']))\n",
    "print('U-Statistic:',result2[0])\n",
    "print('P-value:',result2[1])"
   ]
  },
  {
   "cell_type": "code",
   "execution_count": 108,
   "metadata": {},
   "outputs": [
    {
     "name": "stdout",
     "output_type": "stream",
     "text": [
      "U-Statistic: 91647.5\n",
      "P-value: 2.876019645817286e-11\n"
     ]
    }
   ],
   "source": [
    "result3 = list(mannwhitneyu(youtube[(youtube['category_id']==10)]['dislikes'],\n",
    "                           youtube[(youtube['category_id']==29)]['dislikes']))\n",
    "print('U-Statistic:',result3[0])\n",
    "print('P-value:',result3[1])"
   ]
  },
  {
   "cell_type": "code",
   "execution_count": 8,
   "metadata": {},
   "outputs": [
    {
     "name": "stdout",
     "output_type": "stream",
     "text": [
      "<class 'pandas.core.frame.DataFrame'>\n",
      "RangeIndex: 40949 entries, 0 to 40948\n",
      "Data columns (total 19 columns):\n",
      "video_id                  40949 non-null object\n",
      "trending_date             40949 non-null datetime64[ns, UTC]\n",
      "title                     40949 non-null object\n",
      "channel_title             40949 non-null object\n",
      "category_id               40949 non-null int64\n",
      "category_name             40949 non-null object\n",
      "publish_time              40949 non-null datetime64[ns, UTC]\n",
      "tags                      40949 non-null object\n",
      "views                     40949 non-null int64\n",
      "likes                     40949 non-null int64\n",
      "dislikes                  40949 non-null int64\n",
      "comment_count             40949 non-null int64\n",
      "thumbnail_link            40949 non-null object\n",
      "comments_disabled         40949 non-null bool\n",
      "ratings_disabled          40949 non-null bool\n",
      "video_error_or_removed    40949 non-null bool\n",
      "description               40379 non-null object\n",
      "trending_gap              40949 non-null timedelta64[ns]\n",
      "delta_like                40949 non-null int64\n",
      "dtypes: bool(3), datetime64[ns, UTC](2), int64(6), object(7), timedelta64[ns](1)\n",
      "memory usage: 5.1+ MB\n"
     ]
    }
   ],
   "source": [
    "youtube.info()"
   ]
  },
  {
   "cell_type": "code",
   "execution_count": null,
   "metadata": {},
   "outputs": [],
   "source": []
  }
 ],
 "metadata": {
  "kernelspec": {
   "display_name": "Python 3",
   "language": "python",
   "name": "python3"
  },
  "language_info": {
   "codemirror_mode": {
    "name": "ipython",
    "version": 3
   },
   "file_extension": ".py",
   "mimetype": "text/x-python",
   "name": "python",
   "nbconvert_exporter": "python",
   "pygments_lexer": "ipython3",
   "version": "3.7.6"
  }
 },
 "nbformat": 4,
 "nbformat_minor": 2
}
