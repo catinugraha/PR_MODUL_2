{
 "cells": [
  {
   "cell_type": "code",
   "execution_count": 1,
   "metadata": {},
   "outputs": [],
   "source": [
    "import pandas as pd\n",
    "import numpy as np\n",
    "import matplotlib.pyplot as plt\n",
    "import seaborn as sns\n",
    "import plotly.express as px\n",
    "%matplotlib inline"
   ]
  },
  {
   "cell_type": "code",
   "execution_count": 2,
   "metadata": {},
   "outputs": [],
   "source": [
    "youtube = pd.read_csv('USvideos1.csv')"
   ]
  },
  {
   "cell_type": "code",
   "execution_count": 3,
   "metadata": {
    "scrolled": true
   },
   "outputs": [
    {
     "data": {
      "text/html": [
       "<div>\n",
       "<style scoped>\n",
       "    .dataframe tbody tr th:only-of-type {\n",
       "        vertical-align: middle;\n",
       "    }\n",
       "\n",
       "    .dataframe tbody tr th {\n",
       "        vertical-align: top;\n",
       "    }\n",
       "\n",
       "    .dataframe thead th {\n",
       "        text-align: right;\n",
       "    }\n",
       "</style>\n",
       "<table border=\"1\" class=\"dataframe\">\n",
       "  <thead>\n",
       "    <tr style=\"text-align: right;\">\n",
       "      <th></th>\n",
       "      <th>video_id</th>\n",
       "      <th>trending_date</th>\n",
       "      <th>title</th>\n",
       "      <th>channel_title</th>\n",
       "      <th>category_id</th>\n",
       "      <th>category_name</th>\n",
       "      <th>publish_time</th>\n",
       "      <th>tags</th>\n",
       "      <th>views</th>\n",
       "      <th>likes</th>\n",
       "      <th>dislikes</th>\n",
       "      <th>comment_count</th>\n",
       "      <th>thumbnail_link</th>\n",
       "      <th>comments_disabled</th>\n",
       "      <th>ratings_disabled</th>\n",
       "      <th>video_error_or_removed</th>\n",
       "      <th>description</th>\n",
       "    </tr>\n",
       "  </thead>\n",
       "  <tbody>\n",
       "    <tr>\n",
       "      <td>0</td>\n",
       "      <td>2kyS6SvSYSE</td>\n",
       "      <td>17.14.11</td>\n",
       "      <td>WE WANT TO TALK ABOUT OUR MARRIAGE</td>\n",
       "      <td>CaseyNeistat</td>\n",
       "      <td>22</td>\n",
       "      <td>People &amp; Blogs</td>\n",
       "      <td>2017-11-13T17:13:01.000Z</td>\n",
       "      <td>SHANtell martin</td>\n",
       "      <td>748374</td>\n",
       "      <td>57527</td>\n",
       "      <td>2966</td>\n",
       "      <td>15954</td>\n",
       "      <td>https://i.ytimg.com/vi/2kyS6SvSYSE/default.jpg</td>\n",
       "      <td>False</td>\n",
       "      <td>False</td>\n",
       "      <td>False</td>\n",
       "      <td>SHANTELL'S CHANNEL - https://www.youtube.com/s...</td>\n",
       "    </tr>\n",
       "    <tr>\n",
       "      <td>1</td>\n",
       "      <td>1ZAPwfrtAFY</td>\n",
       "      <td>17.14.11</td>\n",
       "      <td>The Trump Presidency: Last Week Tonight with J...</td>\n",
       "      <td>LastWeekTonight</td>\n",
       "      <td>24</td>\n",
       "      <td>Entertainment</td>\n",
       "      <td>2017-11-13T07:30:00.000Z</td>\n",
       "      <td>last week tonight trump presidency|\"last week ...</td>\n",
       "      <td>2418783</td>\n",
       "      <td>97185</td>\n",
       "      <td>6146</td>\n",
       "      <td>12703</td>\n",
       "      <td>https://i.ytimg.com/vi/1ZAPwfrtAFY/default.jpg</td>\n",
       "      <td>False</td>\n",
       "      <td>False</td>\n",
       "      <td>False</td>\n",
       "      <td>One year after the presidential election, John...</td>\n",
       "    </tr>\n",
       "    <tr>\n",
       "      <td>2</td>\n",
       "      <td>5qpjK5DgCt4</td>\n",
       "      <td>17.14.11</td>\n",
       "      <td>Racist Superman | Rudy Mancuso, King Bach &amp; Le...</td>\n",
       "      <td>Rudy Mancuso</td>\n",
       "      <td>23</td>\n",
       "      <td>Comedy</td>\n",
       "      <td>2017-11-12T19:05:24.000Z</td>\n",
       "      <td>racist superman|\"rudy\"|\"mancuso\"|\"king\"|\"bach\"...</td>\n",
       "      <td>3191434</td>\n",
       "      <td>146033</td>\n",
       "      <td>5339</td>\n",
       "      <td>8181</td>\n",
       "      <td>https://i.ytimg.com/vi/5qpjK5DgCt4/default.jpg</td>\n",
       "      <td>False</td>\n",
       "      <td>False</td>\n",
       "      <td>False</td>\n",
       "      <td>WATCH MY PREVIOUS VIDEO ▶ \\n\\nSUBSCRIBE ► http...</td>\n",
       "    </tr>\n",
       "    <tr>\n",
       "      <td>3</td>\n",
       "      <td>puqaWrEC7tY</td>\n",
       "      <td>17.14.11</td>\n",
       "      <td>Nickelback Lyrics: Real or Fake?</td>\n",
       "      <td>Good Mythical Morning</td>\n",
       "      <td>24</td>\n",
       "      <td>Entertainment</td>\n",
       "      <td>2017-11-13T11:00:04.000Z</td>\n",
       "      <td>rhett and link|\"gmm\"|\"good mythical morning\"|\"...</td>\n",
       "      <td>343168</td>\n",
       "      <td>10172</td>\n",
       "      <td>666</td>\n",
       "      <td>2146</td>\n",
       "      <td>https://i.ytimg.com/vi/puqaWrEC7tY/default.jpg</td>\n",
       "      <td>False</td>\n",
       "      <td>False</td>\n",
       "      <td>False</td>\n",
       "      <td>Today we find out if Link is a Nickelback amat...</td>\n",
       "    </tr>\n",
       "    <tr>\n",
       "      <td>4</td>\n",
       "      <td>d380meD0W0M</td>\n",
       "      <td>17.14.11</td>\n",
       "      <td>I Dare You: GOING BALD!?</td>\n",
       "      <td>nigahiga</td>\n",
       "      <td>24</td>\n",
       "      <td>Entertainment</td>\n",
       "      <td>2017-11-12T18:01:41.000Z</td>\n",
       "      <td>ryan|\"higa\"|\"higatv\"|\"nigahiga\"|\"i dare you\"|\"...</td>\n",
       "      <td>2095731</td>\n",
       "      <td>132235</td>\n",
       "      <td>1989</td>\n",
       "      <td>17518</td>\n",
       "      <td>https://i.ytimg.com/vi/d380meD0W0M/default.jpg</td>\n",
       "      <td>False</td>\n",
       "      <td>False</td>\n",
       "      <td>False</td>\n",
       "      <td>I know it's been a while since we did this sho...</td>\n",
       "    </tr>\n",
       "    <tr>\n",
       "      <td>5</td>\n",
       "      <td>gHZ1Qz0KiKM</td>\n",
       "      <td>17.14.11</td>\n",
       "      <td>2 Weeks with iPhone X</td>\n",
       "      <td>iJustine</td>\n",
       "      <td>28</td>\n",
       "      <td>Science &amp; Technology</td>\n",
       "      <td>2017-11-13T19:07:23.000Z</td>\n",
       "      <td>ijustine|\"week with iPhone X\"|\"iphone x\"|\"appl...</td>\n",
       "      <td>119180</td>\n",
       "      <td>9763</td>\n",
       "      <td>511</td>\n",
       "      <td>1434</td>\n",
       "      <td>https://i.ytimg.com/vi/gHZ1Qz0KiKM/default.jpg</td>\n",
       "      <td>False</td>\n",
       "      <td>False</td>\n",
       "      <td>False</td>\n",
       "      <td>Using the iPhone for the past two weeks -- her...</td>\n",
       "    </tr>\n",
       "    <tr>\n",
       "      <td>6</td>\n",
       "      <td>39idVpFF7NQ</td>\n",
       "      <td>17.14.11</td>\n",
       "      <td>Roy Moore &amp; Jeff Sessions Cold Open - SNL</td>\n",
       "      <td>Saturday Night Live</td>\n",
       "      <td>24</td>\n",
       "      <td>Entertainment</td>\n",
       "      <td>2017-11-12T05:37:17.000Z</td>\n",
       "      <td>SNL|\"Saturday Night Live\"|\"SNL Season 43\"|\"Epi...</td>\n",
       "      <td>2103417</td>\n",
       "      <td>15993</td>\n",
       "      <td>2445</td>\n",
       "      <td>1970</td>\n",
       "      <td>https://i.ytimg.com/vi/39idVpFF7NQ/default.jpg</td>\n",
       "      <td>False</td>\n",
       "      <td>False</td>\n",
       "      <td>False</td>\n",
       "      <td>Embattled Alabama Senate candidate Roy Moore (...</td>\n",
       "    </tr>\n",
       "    <tr>\n",
       "      <td>7</td>\n",
       "      <td>nc99ccSXST0</td>\n",
       "      <td>17.14.11</td>\n",
       "      <td>5 Ice Cream Gadgets put to the Test</td>\n",
       "      <td>CrazyRussianHacker</td>\n",
       "      <td>28</td>\n",
       "      <td>Science &amp; Technology</td>\n",
       "      <td>2017-11-12T21:50:37.000Z</td>\n",
       "      <td>5 Ice Cream Gadgets|\"Ice Cream\"|\"Cream Sandwic...</td>\n",
       "      <td>817732</td>\n",
       "      <td>23663</td>\n",
       "      <td>778</td>\n",
       "      <td>3432</td>\n",
       "      <td>https://i.ytimg.com/vi/nc99ccSXST0/default.jpg</td>\n",
       "      <td>False</td>\n",
       "      <td>False</td>\n",
       "      <td>False</td>\n",
       "      <td>Ice Cream Pint Combination Lock - http://amzn....</td>\n",
       "    </tr>\n",
       "    <tr>\n",
       "      <td>8</td>\n",
       "      <td>jr9QtXwC9vc</td>\n",
       "      <td>17.14.11</td>\n",
       "      <td>The Greatest Showman | Official Trailer 2 [HD]...</td>\n",
       "      <td>20th Century Fox</td>\n",
       "      <td>1</td>\n",
       "      <td>Film &amp; Animation</td>\n",
       "      <td>2017-11-13T14:00:23.000Z</td>\n",
       "      <td>Trailer|\"Hugh Jackman\"|\"Michelle Williams\"|\"Za...</td>\n",
       "      <td>826059</td>\n",
       "      <td>3543</td>\n",
       "      <td>119</td>\n",
       "      <td>340</td>\n",
       "      <td>https://i.ytimg.com/vi/jr9QtXwC9vc/default.jpg</td>\n",
       "      <td>False</td>\n",
       "      <td>False</td>\n",
       "      <td>False</td>\n",
       "      <td>Inspired by the imagination of P.T. Barnum, Th...</td>\n",
       "    </tr>\n",
       "    <tr>\n",
       "      <td>9</td>\n",
       "      <td>TUmyygCMMGA</td>\n",
       "      <td>17.14.11</td>\n",
       "      <td>Why the rise of the robots won’t mean the end ...</td>\n",
       "      <td>Vox</td>\n",
       "      <td>25</td>\n",
       "      <td>News &amp; Politics</td>\n",
       "      <td>2017-11-13T13:45:16.000Z</td>\n",
       "      <td>vox.com|\"vox\"|\"explain\"|\"shift change\"|\"future...</td>\n",
       "      <td>256426</td>\n",
       "      <td>12654</td>\n",
       "      <td>1363</td>\n",
       "      <td>2368</td>\n",
       "      <td>https://i.ytimg.com/vi/TUmyygCMMGA/default.jpg</td>\n",
       "      <td>False</td>\n",
       "      <td>False</td>\n",
       "      <td>False</td>\n",
       "      <td>For now, at least, we have better things to wo...</td>\n",
       "    </tr>\n",
       "  </tbody>\n",
       "</table>\n",
       "</div>"
      ],
      "text/plain": [
       "      video_id trending_date  \\\n",
       "0  2kyS6SvSYSE      17.14.11   \n",
       "1  1ZAPwfrtAFY      17.14.11   \n",
       "2  5qpjK5DgCt4      17.14.11   \n",
       "3  puqaWrEC7tY      17.14.11   \n",
       "4  d380meD0W0M      17.14.11   \n",
       "5  gHZ1Qz0KiKM      17.14.11   \n",
       "6  39idVpFF7NQ      17.14.11   \n",
       "7  nc99ccSXST0      17.14.11   \n",
       "8  jr9QtXwC9vc      17.14.11   \n",
       "9  TUmyygCMMGA      17.14.11   \n",
       "\n",
       "                                               title          channel_title  \\\n",
       "0                 WE WANT TO TALK ABOUT OUR MARRIAGE           CaseyNeistat   \n",
       "1  The Trump Presidency: Last Week Tonight with J...        LastWeekTonight   \n",
       "2  Racist Superman | Rudy Mancuso, King Bach & Le...           Rudy Mancuso   \n",
       "3                   Nickelback Lyrics: Real or Fake?  Good Mythical Morning   \n",
       "4                           I Dare You: GOING BALD!?               nigahiga   \n",
       "5                              2 Weeks with iPhone X               iJustine   \n",
       "6          Roy Moore & Jeff Sessions Cold Open - SNL    Saturday Night Live   \n",
       "7                5 Ice Cream Gadgets put to the Test     CrazyRussianHacker   \n",
       "8  The Greatest Showman | Official Trailer 2 [HD]...       20th Century Fox   \n",
       "9  Why the rise of the robots won’t mean the end ...                    Vox   \n",
       "\n",
       "   category_id          category_name              publish_time  \\\n",
       "0           22         People & Blogs  2017-11-13T17:13:01.000Z   \n",
       "1           24          Entertainment  2017-11-13T07:30:00.000Z   \n",
       "2           23                 Comedy  2017-11-12T19:05:24.000Z   \n",
       "3           24          Entertainment  2017-11-13T11:00:04.000Z   \n",
       "4           24          Entertainment  2017-11-12T18:01:41.000Z   \n",
       "5           28   Science & Technology  2017-11-13T19:07:23.000Z   \n",
       "6           24          Entertainment  2017-11-12T05:37:17.000Z   \n",
       "7           28   Science & Technology  2017-11-12T21:50:37.000Z   \n",
       "8            1       Film & Animation  2017-11-13T14:00:23.000Z   \n",
       "9           25        News & Politics  2017-11-13T13:45:16.000Z   \n",
       "\n",
       "                                                tags    views   likes  \\\n",
       "0                                    SHANtell martin   748374   57527   \n",
       "1  last week tonight trump presidency|\"last week ...  2418783   97185   \n",
       "2  racist superman|\"rudy\"|\"mancuso\"|\"king\"|\"bach\"...  3191434  146033   \n",
       "3  rhett and link|\"gmm\"|\"good mythical morning\"|\"...   343168   10172   \n",
       "4  ryan|\"higa\"|\"higatv\"|\"nigahiga\"|\"i dare you\"|\"...  2095731  132235   \n",
       "5  ijustine|\"week with iPhone X\"|\"iphone x\"|\"appl...   119180    9763   \n",
       "6  SNL|\"Saturday Night Live\"|\"SNL Season 43\"|\"Epi...  2103417   15993   \n",
       "7  5 Ice Cream Gadgets|\"Ice Cream\"|\"Cream Sandwic...   817732   23663   \n",
       "8  Trailer|\"Hugh Jackman\"|\"Michelle Williams\"|\"Za...   826059    3543   \n",
       "9  vox.com|\"vox\"|\"explain\"|\"shift change\"|\"future...   256426   12654   \n",
       "\n",
       "   dislikes  comment_count                                  thumbnail_link  \\\n",
       "0      2966          15954  https://i.ytimg.com/vi/2kyS6SvSYSE/default.jpg   \n",
       "1      6146          12703  https://i.ytimg.com/vi/1ZAPwfrtAFY/default.jpg   \n",
       "2      5339           8181  https://i.ytimg.com/vi/5qpjK5DgCt4/default.jpg   \n",
       "3       666           2146  https://i.ytimg.com/vi/puqaWrEC7tY/default.jpg   \n",
       "4      1989          17518  https://i.ytimg.com/vi/d380meD0W0M/default.jpg   \n",
       "5       511           1434  https://i.ytimg.com/vi/gHZ1Qz0KiKM/default.jpg   \n",
       "6      2445           1970  https://i.ytimg.com/vi/39idVpFF7NQ/default.jpg   \n",
       "7       778           3432  https://i.ytimg.com/vi/nc99ccSXST0/default.jpg   \n",
       "8       119            340  https://i.ytimg.com/vi/jr9QtXwC9vc/default.jpg   \n",
       "9      1363           2368  https://i.ytimg.com/vi/TUmyygCMMGA/default.jpg   \n",
       "\n",
       "   comments_disabled  ratings_disabled  video_error_or_removed  \\\n",
       "0              False             False                   False   \n",
       "1              False             False                   False   \n",
       "2              False             False                   False   \n",
       "3              False             False                   False   \n",
       "4              False             False                   False   \n",
       "5              False             False                   False   \n",
       "6              False             False                   False   \n",
       "7              False             False                   False   \n",
       "8              False             False                   False   \n",
       "9              False             False                   False   \n",
       "\n",
       "                                         description  \n",
       "0  SHANTELL'S CHANNEL - https://www.youtube.com/s...  \n",
       "1  One year after the presidential election, John...  \n",
       "2  WATCH MY PREVIOUS VIDEO ▶ \\n\\nSUBSCRIBE ► http...  \n",
       "3  Today we find out if Link is a Nickelback amat...  \n",
       "4  I know it's been a while since we did this sho...  \n",
       "5  Using the iPhone for the past two weeks -- her...  \n",
       "6  Embattled Alabama Senate candidate Roy Moore (...  \n",
       "7  Ice Cream Pint Combination Lock - http://amzn....  \n",
       "8  Inspired by the imagination of P.T. Barnum, Th...  \n",
       "9  For now, at least, we have better things to wo...  "
      ]
     },
     "execution_count": 3,
     "metadata": {},
     "output_type": "execute_result"
    }
   ],
   "source": [
    "youtube.head(10)"
   ]
  },
  {
   "cell_type": "code",
   "execution_count": 4,
   "metadata": {},
   "outputs": [],
   "source": [
    "def ganti_tanggal_trending(cols):\n",
    "    year = cols[0:2]\n",
    "    month = cols[6:8]\n",
    "    day = cols[3:5]\n",
    "    cols = '20'+'{}.{}.{}'.format(year,month,day)\n",
    "    return cols\n",
    "\n",
    "youtube['trending_date'] = youtube['trending_date'].apply(ganti_tanggal_trending)"
   ]
  },
  {
   "cell_type": "code",
   "execution_count": 5,
   "metadata": {},
   "outputs": [],
   "source": [
    "youtube['trending_date'] = pd.to_datetime(youtube['trending_date'],utc='none')\n",
    "youtube['publish_time'] = pd.to_datetime(youtube['publish_time'])"
   ]
  },
  {
   "cell_type": "code",
   "execution_count": 6,
   "metadata": {},
   "outputs": [],
   "source": [
    "youtube['trending_gap'] = youtube['trending_date'] - youtube['publish_time']"
   ]
  },
  {
   "cell_type": "code",
   "execution_count": 7,
   "metadata": {},
   "outputs": [],
   "source": [
    "youtube['delta_like'] = youtube['likes']-youtube['dislikes']"
   ]
  },
  {
   "cell_type": "code",
   "execution_count": 8,
   "metadata": {
    "scrolled": true
   },
   "outputs": [
    {
     "data": {
      "text/html": [
       "<div>\n",
       "<style scoped>\n",
       "    .dataframe tbody tr th:only-of-type {\n",
       "        vertical-align: middle;\n",
       "    }\n",
       "\n",
       "    .dataframe tbody tr th {\n",
       "        vertical-align: top;\n",
       "    }\n",
       "\n",
       "    .dataframe thead th {\n",
       "        text-align: right;\n",
       "    }\n",
       "</style>\n",
       "<table border=\"1\" class=\"dataframe\">\n",
       "  <thead>\n",
       "    <tr style=\"text-align: right;\">\n",
       "      <th></th>\n",
       "      <th>video_id</th>\n",
       "      <th>trending_date</th>\n",
       "      <th>title</th>\n",
       "      <th>channel_title</th>\n",
       "      <th>category_id</th>\n",
       "      <th>category_name</th>\n",
       "      <th>publish_time</th>\n",
       "      <th>tags</th>\n",
       "      <th>views</th>\n",
       "      <th>likes</th>\n",
       "      <th>dislikes</th>\n",
       "      <th>comment_count</th>\n",
       "      <th>thumbnail_link</th>\n",
       "      <th>comments_disabled</th>\n",
       "      <th>ratings_disabled</th>\n",
       "      <th>video_error_or_removed</th>\n",
       "      <th>description</th>\n",
       "      <th>trending_gap</th>\n",
       "      <th>delta_like</th>\n",
       "    </tr>\n",
       "  </thead>\n",
       "  <tbody>\n",
       "    <tr>\n",
       "      <td>192</td>\n",
       "      <td>wRGldR_SQAA</td>\n",
       "      <td>2017-11-14 00:00:00+00:00</td>\n",
       "      <td>Apple Clips sample</td>\n",
       "      <td>Steve Kovach</td>\n",
       "      <td>22</td>\n",
       "      <td>People &amp; Blogs</td>\n",
       "      <td>2017-11-09 18:01:04+00:00</td>\n",
       "      <td>[none]</td>\n",
       "      <td>2259</td>\n",
       "      <td>0</td>\n",
       "      <td>0</td>\n",
       "      <td>0</td>\n",
       "      <td>https://i.ytimg.com/vi/wRGldR_SQAA/default.jpg</td>\n",
       "      <td>False</td>\n",
       "      <td>False</td>\n",
       "      <td>False</td>\n",
       "      <td>Clips 2.0 lets you use augmented reality and s...</td>\n",
       "      <td>4 days 05:58:56</td>\n",
       "      <td>0</td>\n",
       "    </tr>\n",
       "    <tr>\n",
       "      <td>1435</td>\n",
       "      <td>Kn5UgGQukYQ</td>\n",
       "      <td>2017-11-21 00:00:00+00:00</td>\n",
       "      <td>Breaking Bad's Bryan Cranston on Meeting Charl...</td>\n",
       "      <td>hudsonunionsociety</td>\n",
       "      <td>1</td>\n",
       "      <td>Film &amp; Animation</td>\n",
       "      <td>2016-10-14 21:14:51+00:00</td>\n",
       "      <td>Breaking Bad|\"Bryan Cranston\"|\"malcom in the m...</td>\n",
       "      <td>15058</td>\n",
       "      <td>0</td>\n",
       "      <td>0</td>\n",
       "      <td>0</td>\n",
       "      <td>https://i.ytimg.com/vi/Kn5UgGQukYQ/default.jpg</td>\n",
       "      <td>True</td>\n",
       "      <td>True</td>\n",
       "      <td>False</td>\n",
       "      <td>The Hudson Union www.hudsonunionsociety.com is...</td>\n",
       "      <td>402 days 02:45:09</td>\n",
       "      <td>0</td>\n",
       "    </tr>\n",
       "    <tr>\n",
       "      <td>1667</td>\n",
       "      <td>Kn5UgGQukYQ</td>\n",
       "      <td>2017-11-22 00:00:00+00:00</td>\n",
       "      <td>Breaking Bad's Bryan Cranston on Meeting Charl...</td>\n",
       "      <td>hudsonunionsociety</td>\n",
       "      <td>1</td>\n",
       "      <td>Film &amp; Animation</td>\n",
       "      <td>2016-10-14 21:14:51+00:00</td>\n",
       "      <td>Breaking Bad|\"Bryan Cranston\"|\"malcom in the m...</td>\n",
       "      <td>34207</td>\n",
       "      <td>0</td>\n",
       "      <td>0</td>\n",
       "      <td>0</td>\n",
       "      <td>https://i.ytimg.com/vi/Kn5UgGQukYQ/default.jpg</td>\n",
       "      <td>True</td>\n",
       "      <td>True</td>\n",
       "      <td>False</td>\n",
       "      <td>The Hudson Union www.hudsonunionsociety.com is...</td>\n",
       "      <td>403 days 02:45:09</td>\n",
       "      <td>0</td>\n",
       "    </tr>\n",
       "    <tr>\n",
       "      <td>1868</td>\n",
       "      <td>_akwfRuL4os</td>\n",
       "      <td>2017-11-23 00:00:00+00:00</td>\n",
       "      <td>Highlights of the EA predatory behavior announ...</td>\n",
       "      <td>chris lee</td>\n",
       "      <td>22</td>\n",
       "      <td>People &amp; Blogs</td>\n",
       "      <td>2017-11-21 19:29:03+00:00</td>\n",
       "      <td>[none]</td>\n",
       "      <td>160012</td>\n",
       "      <td>0</td>\n",
       "      <td>0</td>\n",
       "      <td>1722</td>\n",
       "      <td>https://i.ytimg.com/vi/_akwfRuL4os/default.jpg</td>\n",
       "      <td>False</td>\n",
       "      <td>True</td>\n",
       "      <td>False</td>\n",
       "      <td>The State of Hawaii announces action to addres...</td>\n",
       "      <td>1 days 04:30:57</td>\n",
       "      <td>0</td>\n",
       "    </tr>\n",
       "    <tr>\n",
       "      <td>1914</td>\n",
       "      <td>Kn5UgGQukYQ</td>\n",
       "      <td>2017-11-23 00:00:00+00:00</td>\n",
       "      <td>Breaking Bad's Bryan Cranston on Meeting Charl...</td>\n",
       "      <td>hudsonunionsociety</td>\n",
       "      <td>1</td>\n",
       "      <td>Film &amp; Animation</td>\n",
       "      <td>2016-10-14 21:14:51+00:00</td>\n",
       "      <td>Breaking Bad|\"Bryan Cranston\"|\"malcom in the m...</td>\n",
       "      <td>36137</td>\n",
       "      <td>0</td>\n",
       "      <td>0</td>\n",
       "      <td>0</td>\n",
       "      <td>https://i.ytimg.com/vi/Kn5UgGQukYQ/default.jpg</td>\n",
       "      <td>True</td>\n",
       "      <td>True</td>\n",
       "      <td>False</td>\n",
       "      <td>The Hudson Union www.hudsonunionsociety.com is...</td>\n",
       "      <td>404 days 02:45:09</td>\n",
       "      <td>0</td>\n",
       "    </tr>\n",
       "    <tr>\n",
       "      <td>...</td>\n",
       "      <td>...</td>\n",
       "      <td>...</td>\n",
       "      <td>...</td>\n",
       "      <td>...</td>\n",
       "      <td>...</td>\n",
       "      <td>...</td>\n",
       "      <td>...</td>\n",
       "      <td>...</td>\n",
       "      <td>...</td>\n",
       "      <td>...</td>\n",
       "      <td>...</td>\n",
       "      <td>...</td>\n",
       "      <td>...</td>\n",
       "      <td>...</td>\n",
       "      <td>...</td>\n",
       "      <td>...</td>\n",
       "      <td>...</td>\n",
       "      <td>...</td>\n",
       "      <td>...</td>\n",
       "    </tr>\n",
       "    <tr>\n",
       "      <td>28135</td>\n",
       "      <td>UwbO_xb1-Xo</td>\n",
       "      <td>2018-04-05 00:00:00+00:00</td>\n",
       "      <td>KKW BEAUTY: Conceal, Bake, Brighten with Mario...</td>\n",
       "      <td>Kim Kardashian West</td>\n",
       "      <td>22</td>\n",
       "      <td>People &amp; Blogs</td>\n",
       "      <td>2018-03-21 18:42:04+00:00</td>\n",
       "      <td>Mario Dedivanovic|\"KKW BEAUTY\"|\"CONCEALER\"|\"CO...</td>\n",
       "      <td>1040664</td>\n",
       "      <td>0</td>\n",
       "      <td>0</td>\n",
       "      <td>0</td>\n",
       "      <td>https://i.ytimg.com/vi/UwbO_xb1-Xo/default.jpg</td>\n",
       "      <td>True</td>\n",
       "      <td>True</td>\n",
       "      <td>False</td>\n",
       "      <td>Watch me conceal, bake and brighten with Mario...</td>\n",
       "      <td>14 days 05:17:56</td>\n",
       "      <td>0</td>\n",
       "    </tr>\n",
       "    <tr>\n",
       "      <td>28346</td>\n",
       "      <td>UwbO_xb1-Xo</td>\n",
       "      <td>2018-04-06 00:00:00+00:00</td>\n",
       "      <td>KKW BEAUTY: Conceal, Bake, Brighten with Mario...</td>\n",
       "      <td>Kim Kardashian West</td>\n",
       "      <td>22</td>\n",
       "      <td>People &amp; Blogs</td>\n",
       "      <td>2018-03-21 18:42:04+00:00</td>\n",
       "      <td>Mario Dedivanovic|\"KKW BEAUTY\"|\"CONCEALER\"|\"CO...</td>\n",
       "      <td>1045731</td>\n",
       "      <td>0</td>\n",
       "      <td>0</td>\n",
       "      <td>0</td>\n",
       "      <td>https://i.ytimg.com/vi/UwbO_xb1-Xo/default.jpg</td>\n",
       "      <td>True</td>\n",
       "      <td>True</td>\n",
       "      <td>False</td>\n",
       "      <td>Watch me conceal, bake and brighten with Mario...</td>\n",
       "      <td>15 days 05:17:56</td>\n",
       "      <td>0</td>\n",
       "    </tr>\n",
       "    <tr>\n",
       "      <td>28550</td>\n",
       "      <td>9TUBf6l7FBg</td>\n",
       "      <td>2018-04-14 00:00:00+00:00</td>\n",
       "      <td>Coachella 2018 LIVE Channel 1</td>\n",
       "      <td>Coachella</td>\n",
       "      <td>10</td>\n",
       "      <td>Music</td>\n",
       "      <td>2018-04-05 06:48:28+00:00</td>\n",
       "      <td>[none]</td>\n",
       "      <td>3598220</td>\n",
       "      <td>0</td>\n",
       "      <td>0</td>\n",
       "      <td>0</td>\n",
       "      <td>https://i.ytimg.com/vi/9TUBf6l7FBg/default_liv...</td>\n",
       "      <td>False</td>\n",
       "      <td>True</td>\n",
       "      <td>False</td>\n",
       "      <td>For more cameras and VR180 immersive experienc...</td>\n",
       "      <td>8 days 17:11:32</td>\n",
       "      <td>0</td>\n",
       "    </tr>\n",
       "    <tr>\n",
       "      <td>28751</td>\n",
       "      <td>9TUBf6l7FBg</td>\n",
       "      <td>2018-04-15 00:00:00+00:00</td>\n",
       "      <td>Coachella 2018 LIVE Channel 1</td>\n",
       "      <td>Coachella</td>\n",
       "      <td>10</td>\n",
       "      <td>Music</td>\n",
       "      <td>2018-04-05 06:48:28+00:00</td>\n",
       "      <td>[none]</td>\n",
       "      <td>11137071</td>\n",
       "      <td>0</td>\n",
       "      <td>0</td>\n",
       "      <td>2</td>\n",
       "      <td>https://i.ytimg.com/vi/9TUBf6l7FBg/default_liv...</td>\n",
       "      <td>False</td>\n",
       "      <td>True</td>\n",
       "      <td>False</td>\n",
       "      <td>For more cameras and VR180 immersive experienc...</td>\n",
       "      <td>9 days 17:11:32</td>\n",
       "      <td>0</td>\n",
       "    </tr>\n",
       "    <tr>\n",
       "      <td>28955</td>\n",
       "      <td>9TUBf6l7FBg</td>\n",
       "      <td>2018-04-16 00:00:00+00:00</td>\n",
       "      <td>Coachella 2018 LIVE Channel 1</td>\n",
       "      <td>Coachella</td>\n",
       "      <td>10</td>\n",
       "      <td>Music</td>\n",
       "      <td>2018-04-05 06:48:28+00:00</td>\n",
       "      <td>[none]</td>\n",
       "      <td>24004779</td>\n",
       "      <td>0</td>\n",
       "      <td>0</td>\n",
       "      <td>3</td>\n",
       "      <td>https://i.ytimg.com/vi/9TUBf6l7FBg/default_liv...</td>\n",
       "      <td>False</td>\n",
       "      <td>True</td>\n",
       "      <td>False</td>\n",
       "      <td>For more cameras and VR180 immersive experienc...</td>\n",
       "      <td>10 days 17:11:32</td>\n",
       "      <td>0</td>\n",
       "    </tr>\n",
       "  </tbody>\n",
       "</table>\n",
       "<p>181 rows × 19 columns</p>\n",
       "</div>"
      ],
      "text/plain": [
       "          video_id             trending_date  \\\n",
       "192    wRGldR_SQAA 2017-11-14 00:00:00+00:00   \n",
       "1435   Kn5UgGQukYQ 2017-11-21 00:00:00+00:00   \n",
       "1667   Kn5UgGQukYQ 2017-11-22 00:00:00+00:00   \n",
       "1868   _akwfRuL4os 2017-11-23 00:00:00+00:00   \n",
       "1914   Kn5UgGQukYQ 2017-11-23 00:00:00+00:00   \n",
       "...            ...                       ...   \n",
       "28135  UwbO_xb1-Xo 2018-04-05 00:00:00+00:00   \n",
       "28346  UwbO_xb1-Xo 2018-04-06 00:00:00+00:00   \n",
       "28550  9TUBf6l7FBg 2018-04-14 00:00:00+00:00   \n",
       "28751  9TUBf6l7FBg 2018-04-15 00:00:00+00:00   \n",
       "28955  9TUBf6l7FBg 2018-04-16 00:00:00+00:00   \n",
       "\n",
       "                                                   title        channel_title  \\\n",
       "192                                   Apple Clips sample         Steve Kovach   \n",
       "1435   Breaking Bad's Bryan Cranston on Meeting Charl...   hudsonunionsociety   \n",
       "1667   Breaking Bad's Bryan Cranston on Meeting Charl...   hudsonunionsociety   \n",
       "1868   Highlights of the EA predatory behavior announ...            chris lee   \n",
       "1914   Breaking Bad's Bryan Cranston on Meeting Charl...   hudsonunionsociety   \n",
       "...                                                  ...                  ...   \n",
       "28135  KKW BEAUTY: Conceal, Bake, Brighten with Mario...  Kim Kardashian West   \n",
       "28346  KKW BEAUTY: Conceal, Bake, Brighten with Mario...  Kim Kardashian West   \n",
       "28550                      Coachella 2018 LIVE Channel 1            Coachella   \n",
       "28751                      Coachella 2018 LIVE Channel 1            Coachella   \n",
       "28955                      Coachella 2018 LIVE Channel 1            Coachella   \n",
       "\n",
       "       category_id      category_name              publish_time  \\\n",
       "192             22     People & Blogs 2017-11-09 18:01:04+00:00   \n",
       "1435             1   Film & Animation 2016-10-14 21:14:51+00:00   \n",
       "1667             1   Film & Animation 2016-10-14 21:14:51+00:00   \n",
       "1868            22     People & Blogs 2017-11-21 19:29:03+00:00   \n",
       "1914             1   Film & Animation 2016-10-14 21:14:51+00:00   \n",
       "...            ...                ...                       ...   \n",
       "28135           22     People & Blogs 2018-03-21 18:42:04+00:00   \n",
       "28346           22     People & Blogs 2018-03-21 18:42:04+00:00   \n",
       "28550           10              Music 2018-04-05 06:48:28+00:00   \n",
       "28751           10              Music 2018-04-05 06:48:28+00:00   \n",
       "28955           10              Music 2018-04-05 06:48:28+00:00   \n",
       "\n",
       "                                                    tags     views  likes  \\\n",
       "192                                               [none]      2259      0   \n",
       "1435   Breaking Bad|\"Bryan Cranston\"|\"malcom in the m...     15058      0   \n",
       "1667   Breaking Bad|\"Bryan Cranston\"|\"malcom in the m...     34207      0   \n",
       "1868                                              [none]    160012      0   \n",
       "1914   Breaking Bad|\"Bryan Cranston\"|\"malcom in the m...     36137      0   \n",
       "...                                                  ...       ...    ...   \n",
       "28135  Mario Dedivanovic|\"KKW BEAUTY\"|\"CONCEALER\"|\"CO...   1040664      0   \n",
       "28346  Mario Dedivanovic|\"KKW BEAUTY\"|\"CONCEALER\"|\"CO...   1045731      0   \n",
       "28550                                             [none]   3598220      0   \n",
       "28751                                             [none]  11137071      0   \n",
       "28955                                             [none]  24004779      0   \n",
       "\n",
       "       dislikes  comment_count  \\\n",
       "192           0              0   \n",
       "1435          0              0   \n",
       "1667          0              0   \n",
       "1868          0           1722   \n",
       "1914          0              0   \n",
       "...         ...            ...   \n",
       "28135         0              0   \n",
       "28346         0              0   \n",
       "28550         0              0   \n",
       "28751         0              2   \n",
       "28955         0              3   \n",
       "\n",
       "                                          thumbnail_link  comments_disabled  \\\n",
       "192       https://i.ytimg.com/vi/wRGldR_SQAA/default.jpg              False   \n",
       "1435      https://i.ytimg.com/vi/Kn5UgGQukYQ/default.jpg               True   \n",
       "1667      https://i.ytimg.com/vi/Kn5UgGQukYQ/default.jpg               True   \n",
       "1868      https://i.ytimg.com/vi/_akwfRuL4os/default.jpg              False   \n",
       "1914      https://i.ytimg.com/vi/Kn5UgGQukYQ/default.jpg               True   \n",
       "...                                                  ...                ...   \n",
       "28135     https://i.ytimg.com/vi/UwbO_xb1-Xo/default.jpg               True   \n",
       "28346     https://i.ytimg.com/vi/UwbO_xb1-Xo/default.jpg               True   \n",
       "28550  https://i.ytimg.com/vi/9TUBf6l7FBg/default_liv...              False   \n",
       "28751  https://i.ytimg.com/vi/9TUBf6l7FBg/default_liv...              False   \n",
       "28955  https://i.ytimg.com/vi/9TUBf6l7FBg/default_liv...              False   \n",
       "\n",
       "       ratings_disabled  video_error_or_removed  \\\n",
       "192               False                   False   \n",
       "1435               True                   False   \n",
       "1667               True                   False   \n",
       "1868               True                   False   \n",
       "1914               True                   False   \n",
       "...                 ...                     ...   \n",
       "28135              True                   False   \n",
       "28346              True                   False   \n",
       "28550              True                   False   \n",
       "28751              True                   False   \n",
       "28955              True                   False   \n",
       "\n",
       "                                             description      trending_gap  \\\n",
       "192    Clips 2.0 lets you use augmented reality and s...   4 days 05:58:56   \n",
       "1435   The Hudson Union www.hudsonunionsociety.com is... 402 days 02:45:09   \n",
       "1667   The Hudson Union www.hudsonunionsociety.com is... 403 days 02:45:09   \n",
       "1868   The State of Hawaii announces action to addres...   1 days 04:30:57   \n",
       "1914   The Hudson Union www.hudsonunionsociety.com is... 404 days 02:45:09   \n",
       "...                                                  ...               ...   \n",
       "28135  Watch me conceal, bake and brighten with Mario...  14 days 05:17:56   \n",
       "28346  Watch me conceal, bake and brighten with Mario...  15 days 05:17:56   \n",
       "28550  For more cameras and VR180 immersive experienc...   8 days 17:11:32   \n",
       "28751  For more cameras and VR180 immersive experienc...   9 days 17:11:32   \n",
       "28955  For more cameras and VR180 immersive experienc...  10 days 17:11:32   \n",
       "\n",
       "       delta_like  \n",
       "192             0  \n",
       "1435            0  \n",
       "1667            0  \n",
       "1868            0  \n",
       "1914            0  \n",
       "...           ...  \n",
       "28135           0  \n",
       "28346           0  \n",
       "28550           0  \n",
       "28751           0  \n",
       "28955           0  \n",
       "\n",
       "[181 rows x 19 columns]"
      ]
     },
     "execution_count": 8,
     "metadata": {},
     "output_type": "execute_result"
    }
   ],
   "source": [
    "youtube_delta_0 = youtube[(youtube['delta_like'] == 0)]\n",
    "youtube_delta_0"
   ]
  },
  {
   "cell_type": "code",
   "execution_count": 9,
   "metadata": {},
   "outputs": [],
   "source": [
    "from scipy.stats import shapiro,normaltest,anderson\n",
    "\n",
    "def trynormal(data):\n",
    "    result={'Anderson': {i:j for i,j in zip(anderson(data)[2],anderson(data)[1])}, 'Shapiro': shapiro(data)[1],\n",
    "            'K^2': normaltest(data)[1]}\n",
    "    result['Anderson']['stat'] = anderson(data)[0]\n",
    "    return result"
   ]
  },
  {
   "cell_type": "code",
   "execution_count": 10,
   "metadata": {
    "scrolled": true
   },
   "outputs": [
    {
     "data": {
      "text/plain": [
       "{'Anderson': {15.0: 0.558,\n",
       "  10.0: 0.635,\n",
       "  5.0: 0.762,\n",
       "  2.5: 0.889,\n",
       "  1.0: 1.057,\n",
       "  'stat': 30.011856798477254},\n",
       " 'Shapiro': 6.093685768783008e-20,\n",
       " 'K^2': 7.23626649326126e-26}"
      ]
     },
     "execution_count": 10,
     "metadata": {},
     "output_type": "execute_result"
    }
   ],
   "source": [
    "trynormal(youtube_delta_0[youtube_delta_0['trending_gap'].dt.days <= 5]['views'])"
   ]
  },
  {
   "cell_type": "code",
   "execution_count": 11,
   "metadata": {
    "scrolled": false
   },
   "outputs": [
    {
     "name": "stderr",
     "output_type": "stream",
     "text": [
      "C:\\Users\\catin\\Anaconda3\\lib\\site-packages\\ipykernel_launcher.py:9: VisibleDeprecationWarning:\n",
      "\n",
      "Passing `normed=True` on non-uniform bins has always been broken, and computes neither the probability density function nor the probability mass function. The result is only correct if the bins are uniform, when density=True will produce the same result anyway. The argument will be removed in a future version of numpy.\n",
      "\n"
     ]
    },
    {
     "data": {
      "image/png": "[encoded data removed]",
      "text/plain": [
       "<Figure size 576x576 with 1 Axes>"
      ]
     },
     "metadata": {
      "needs_background": "light"
     },
     "output_type": "display_data"
    }
   ],
   "source": [
    "def mean_differencies(x1, x2, n_boot):\n",
    "    ori_mean = x1.mean() - x2.mean()\n",
    "    mean_diff = []\n",
    "    for i in range(n_boot):\n",
    "        x1_mean = x1.sample(len(x1), replace = True).mean()\n",
    "        x2_mean = x2.sample(len(x2), replace = True).mean()\n",
    "        mean_diff.append(x1_mean-x2_mean)\n",
    "\n",
    "    hist,hist_edges = np.histogram(mean_diff, bins = 10, normed = True)\n",
    "    dx = hist_edges[1] - hist_edges[0]\n",
    "    F1 = np.cumsum(hist)*dx\n",
    "    plt.figure(figsize = (8,8))\n",
    "    plt.plot(hist_edges[1:], F1)\n",
    "    plt.axvline(ori_mean, ls = '--', c = 'r')\n",
    "    plt.axvline(ori_mean*-1, ls= '--' , c = 'r')\n",
    "\n",
    "mean_differencies(youtube_delta_0[youtube_delta_0['trending_gap'].dt.days <= 5]['views'],\n",
    "                  youtube_delta_0[youtube_delta_0['trending_gap'].dt.days > 5]['views'],1000)"
   ]
  },
  {
   "cell_type": "code",
   "execution_count": 12,
   "metadata": {},
   "outputs": [
    {
     "data": {
      "text/plain": [
       "<matplotlib.axes._subplots.AxesSubplot at 0x29e83492188>"
      ]
     },
     "execution_count": 12,
     "metadata": {},
     "output_type": "execute_result"
    },
    {
     "data": {
      "image/png": "[encoded data removed]",
      "text/plain": [
       "<Figure size 432x288 with 1 Axes>"
      ]
     },
     "metadata": {
      "needs_background": "light"
     },
     "output_type": "display_data"
    }
   ],
   "source": [
    "sns.barplot(data = youtube, x = 'category_id', y ='views')"
   ]
  },
  {
   "cell_type": "markdown",
   "metadata": {},
   "source": [
    "## QUESTION\n",
    "\n",
    "###### Saya pernah membaca bahwa Trend video juga tergantung kategori, jika kita barplot kan category 10 dan 29 memiliki mean yang tertinggi (walau mean dari 29 besar jaraknya) berarti mereka menarik banyak view. Tetapi apakah mereka berbeda secara view, like, dan dislikesnya?\n",
    "\n",
    "##### H0 = Tidak ada perbedaan antara kategori 10 dan 29 dalam view, like, dan dislike.\n",
    "##### H1 = Ada perbedaan antara kategori 10 dan 29 dalam view, like, dan dislike."
   ]
  },
  {
   "cell_type": "code",
   "execution_count": null,
   "metadata": {},
   "outputs": [],
   "source": []
  },
  {
   "cell_type": "markdown",
   "metadata": {},
   "source": [
    "#### Dari hasil test distribusi normal menggunakan:\n",
    "- metode Anderson, terlihat bahwa H1 dapat diterima karena Statnya lebih dari Alpha yang telah ditentukan(dalam case ini 95%(0.05))\n",
    "- metode Shapiro & K-Square, juga dapat dilihat bahwa H1 dapat diterima karena nilai p-valuenya lebih kecil dari Alpha(0.05)"
   ]
  },
  {
   "cell_type": "code",
   "execution_count": 13,
   "metadata": {},
   "outputs": [
    {
     "name": "stderr",
     "output_type": "stream",
     "text": [
      "C:\\Users\\catin\\Anaconda3\\lib\\site-packages\\scipy\\stats\\morestats.py:1660: UserWarning:\n",
      "\n",
      "p-value may not be accurate for N > 5000.\n",
      "\n"
     ]
    },
    {
     "data": {
      "text/plain": [
       "{'Anderson': {15.0: 0.576,\n",
       "  10.0: 0.656,\n",
       "  5.0: 0.787,\n",
       "  2.5: 0.917,\n",
       "  1.0: 1.091,\n",
       "  'stat': 1190.1770512259227},\n",
       " 'Shapiro': 0.0,\n",
       " 'K^2': 0.0}"
      ]
     },
     "execution_count": 13,
     "metadata": {},
     "output_type": "execute_result"
    }
   ],
   "source": [
    "trynormal(youtube[(youtube['category_id']==10)]['views'])"
   ]
  },
  {
   "cell_type": "code",
   "execution_count": 14,
   "metadata": {},
   "outputs": [
    {
     "data": {
      "text/plain": [
       "{'Anderson': {15.0: 0.542,\n",
       "  10.0: 0.617,\n",
       "  5.0: 0.741,\n",
       "  2.5: 0.864,\n",
       "  1.0: 1.028,\n",
       "  'stat': 15.03917848327174},\n",
       " 'Shapiro': 3.174725022800362e-13,\n",
       " 'K^2': 7.110325304841888e-09}"
      ]
     },
     "execution_count": 14,
     "metadata": {},
     "output_type": "execute_result"
    }
   ],
   "source": [
    "trynormal(youtube[(youtube['category_id']==29)]['views'])"
   ]
  },
  {
   "cell_type": "code",
   "execution_count": 15,
   "metadata": {},
   "outputs": [
    {
     "data": {
      "text/plain": [
       "{'Anderson': {15.0: 0.576,\n",
       "  10.0: 0.656,\n",
       "  5.0: 0.787,\n",
       "  2.5: 0.917,\n",
       "  1.0: 1.091,\n",
       "  'stat': 1059.63100476604},\n",
       " 'Shapiro': 0.0,\n",
       " 'K^2': 0.0}"
      ]
     },
     "execution_count": 15,
     "metadata": {},
     "output_type": "execute_result"
    }
   ],
   "source": [
    "trynormal(youtube[(youtube['category_id']==10)]['likes'])"
   ]
  },
  {
   "cell_type": "code",
   "execution_count": 16,
   "metadata": {},
   "outputs": [
    {
     "data": {
      "text/plain": [
       "{'Anderson': {15.0: 0.542,\n",
       "  10.0: 0.617,\n",
       "  5.0: 0.741,\n",
       "  2.5: 0.864,\n",
       "  1.0: 1.028,\n",
       "  'stat': 15.770348198612865},\n",
       " 'Shapiro': 2.335269564529563e-13,\n",
       " 'K^2': 4.61018340359511e-08}"
      ]
     },
     "execution_count": 16,
     "metadata": {},
     "output_type": "execute_result"
    }
   ],
   "source": [
    "trynormal(youtube[(youtube['category_id']==29)]['likes'])"
   ]
  },
  {
   "cell_type": "code",
   "execution_count": 17,
   "metadata": {},
   "outputs": [
    {
     "data": {
      "text/plain": [
       "{'Anderson': {15.0: 0.576,\n",
       "  10.0: 0.656,\n",
       "  5.0: 0.787,\n",
       "  2.5: 0.917,\n",
       "  1.0: 1.091,\n",
       "  'stat': 1398.5780660629043},\n",
       " 'Shapiro': 0.0,\n",
       " 'K^2': 0.0}"
      ]
     },
     "execution_count": 17,
     "metadata": {},
     "output_type": "execute_result"
    }
   ],
   "source": [
    "trynormal(youtube[(youtube['category_id']==10)]['dislikes'])"
   ]
  },
  {
   "cell_type": "code",
   "execution_count": 18,
   "metadata": {},
   "outputs": [
    {
     "data": {
      "text/plain": [
       "{'Anderson': {15.0: 0.542,\n",
       "  10.0: 0.617,\n",
       "  5.0: 0.741,\n",
       "  2.5: 0.864,\n",
       "  1.0: 1.028,\n",
       "  'stat': 15.941865855475612},\n",
       " 'Shapiro': 1.6795371788214802e-13,\n",
       " 'K^2': 5.222212259578384e-09}"
      ]
     },
     "execution_count": 18,
     "metadata": {},
     "output_type": "execute_result"
    }
   ],
   "source": [
    "trynormal(youtube[(youtube['category_id']==29)]['dislikes'])"
   ]
  },
  {
   "cell_type": "markdown",
   "metadata": {},
   "source": [
    "#### Dari hasil test menggunakan metode Mannwhitneyu menunjukkan hasil yang sama, yaitu p-value lebih kecil dari Alpha (0.05) yang berarti H0 ditolak (H1 diterima)."
   ]
  },
  {
   "cell_type": "code",
   "execution_count": 19,
   "metadata": {},
   "outputs": [
    {
     "name": "stdout",
     "output_type": "stream",
     "text": [
      "U-Statistic: 78978.5\n",
      "P-value: 4.876291818247057e-14\n"
     ]
    }
   ],
   "source": [
    "from scipy.stats import mannwhitneyu\n",
    "result1 = list(mannwhitneyu(youtube[(youtube['category_id']==10)]['views'],\n",
    "                           youtube[(youtube['category_id']==29)]['views']))\n",
    "print('U-Statistic:',result1[0])\n",
    "print('P-value:',result1[1])"
   ]
  },
  {
   "cell_type": "code",
   "execution_count": 20,
   "metadata": {},
   "outputs": [
    {
     "name": "stdout",
     "output_type": "stream",
     "text": [
      "U-Statistic: 81875.0\n",
      "P-value: 2.2471001015367116e-13\n"
     ]
    }
   ],
   "source": [
    "result2 = list(mannwhitneyu(youtube[(youtube['category_id']==10)]['likes'],\n",
    "                           youtube[(youtube['category_id']==29)]['likes']))\n",
    "print('U-Statistic:',result2[0])\n",
    "print('P-value:',result2[1])"
   ]
  },
  {
   "cell_type": "code",
   "execution_count": 21,
   "metadata": {
    "scrolled": true
   },
   "outputs": [
    {
     "name": "stdout",
     "output_type": "stream",
     "text": [
      "U-Statistic: 91647.5\n",
      "P-value: 2.876019645817286e-11\n"
     ]
    }
   ],
   "source": [
    "result3 = list(mannwhitneyu(youtube[(youtube['category_id']==10)]['dislikes'],\n",
    "                           youtube[(youtube['category_id']==29)]['dislikes']))\n",
    "print('U-Statistic:',result3[0])\n",
    "print('P-value:',result3[1])"
   ]
  },
  {
   "cell_type": "markdown",
   "metadata": {},
   "source": [
    "## Question 2\n",
    "\n",
    "How about season publish time? Would there any differences in Viewer, Likes, and Dislike?\n",
    "\n",
    "US have 4 season Spring runs from March to May; Summer runs from June to August; Fall (autumn) runs from September to November; and Winter runs from December to February."
   ]
  },
  {
   "cell_type": "code",
   "execution_count": 22,
   "metadata": {
    "scrolled": true
   },
   "outputs": [
    {
     "data": {
      "text/html": [
       "<div>\n",
       "<style scoped>\n",
       "    .dataframe tbody tr th:only-of-type {\n",
       "        vertical-align: middle;\n",
       "    }\n",
       "\n",
       "    .dataframe tbody tr th {\n",
       "        vertical-align: top;\n",
       "    }\n",
       "\n",
       "    .dataframe thead th {\n",
       "        text-align: right;\n",
       "    }\n",
       "</style>\n",
       "<table border=\"1\" class=\"dataframe\">\n",
       "  <thead>\n",
       "    <tr style=\"text-align: right;\">\n",
       "      <th></th>\n",
       "      <th>video_id</th>\n",
       "      <th>trending_date</th>\n",
       "      <th>title</th>\n",
       "      <th>channel_title</th>\n",
       "      <th>category_id</th>\n",
       "      <th>category_name</th>\n",
       "      <th>publish_time</th>\n",
       "      <th>tags</th>\n",
       "      <th>views</th>\n",
       "      <th>likes</th>\n",
       "      <th>dislikes</th>\n",
       "      <th>comment_count</th>\n",
       "      <th>thumbnail_link</th>\n",
       "      <th>comments_disabled</th>\n",
       "      <th>ratings_disabled</th>\n",
       "      <th>video_error_or_removed</th>\n",
       "      <th>description</th>\n",
       "      <th>trending_gap</th>\n",
       "      <th>delta_like</th>\n",
       "      <th>month_name</th>\n",
       "    </tr>\n",
       "  </thead>\n",
       "  <tbody>\n",
       "    <tr>\n",
       "      <td>0</td>\n",
       "      <td>2kyS6SvSYSE</td>\n",
       "      <td>2017-11-14 00:00:00+00:00</td>\n",
       "      <td>WE WANT TO TALK ABOUT OUR MARRIAGE</td>\n",
       "      <td>CaseyNeistat</td>\n",
       "      <td>22</td>\n",
       "      <td>People &amp; Blogs</td>\n",
       "      <td>2017-11-13 17:13:01+00:00</td>\n",
       "      <td>SHANtell martin</td>\n",
       "      <td>748374</td>\n",
       "      <td>57527</td>\n",
       "      <td>2966</td>\n",
       "      <td>15954</td>\n",
       "      <td>https://i.ytimg.com/vi/2kyS6SvSYSE/default.jpg</td>\n",
       "      <td>False</td>\n",
       "      <td>False</td>\n",
       "      <td>False</td>\n",
       "      <td>SHANTELL'S CHANNEL - https://www.youtube.com/s...</td>\n",
       "      <td>0 days 06:46:59</td>\n",
       "      <td>54561</td>\n",
       "      <td>November</td>\n",
       "    </tr>\n",
       "    <tr>\n",
       "      <td>1</td>\n",
       "      <td>1ZAPwfrtAFY</td>\n",
       "      <td>2017-11-14 00:00:00+00:00</td>\n",
       "      <td>The Trump Presidency: Last Week Tonight with J...</td>\n",
       "      <td>LastWeekTonight</td>\n",
       "      <td>24</td>\n",
       "      <td>Entertainment</td>\n",
       "      <td>2017-11-13 07:30:00+00:00</td>\n",
       "      <td>last week tonight trump presidency|\"last week ...</td>\n",
       "      <td>2418783</td>\n",
       "      <td>97185</td>\n",
       "      <td>6146</td>\n",
       "      <td>12703</td>\n",
       "      <td>https://i.ytimg.com/vi/1ZAPwfrtAFY/default.jpg</td>\n",
       "      <td>False</td>\n",
       "      <td>False</td>\n",
       "      <td>False</td>\n",
       "      <td>One year after the presidential election, John...</td>\n",
       "      <td>0 days 16:30:00</td>\n",
       "      <td>91039</td>\n",
       "      <td>November</td>\n",
       "    </tr>\n",
       "    <tr>\n",
       "      <td>2</td>\n",
       "      <td>5qpjK5DgCt4</td>\n",
       "      <td>2017-11-14 00:00:00+00:00</td>\n",
       "      <td>Racist Superman | Rudy Mancuso, King Bach &amp; Le...</td>\n",
       "      <td>Rudy Mancuso</td>\n",
       "      <td>23</td>\n",
       "      <td>Comedy</td>\n",
       "      <td>2017-11-12 19:05:24+00:00</td>\n",
       "      <td>racist superman|\"rudy\"|\"mancuso\"|\"king\"|\"bach\"...</td>\n",
       "      <td>3191434</td>\n",
       "      <td>146033</td>\n",
       "      <td>5339</td>\n",
       "      <td>8181</td>\n",
       "      <td>https://i.ytimg.com/vi/5qpjK5DgCt4/default.jpg</td>\n",
       "      <td>False</td>\n",
       "      <td>False</td>\n",
       "      <td>False</td>\n",
       "      <td>WATCH MY PREVIOUS VIDEO ▶ \\n\\nSUBSCRIBE ► http...</td>\n",
       "      <td>1 days 04:54:36</td>\n",
       "      <td>140694</td>\n",
       "      <td>November</td>\n",
       "    </tr>\n",
       "    <tr>\n",
       "      <td>3</td>\n",
       "      <td>puqaWrEC7tY</td>\n",
       "      <td>2017-11-14 00:00:00+00:00</td>\n",
       "      <td>Nickelback Lyrics: Real or Fake?</td>\n",
       "      <td>Good Mythical Morning</td>\n",
       "      <td>24</td>\n",
       "      <td>Entertainment</td>\n",
       "      <td>2017-11-13 11:00:04+00:00</td>\n",
       "      <td>rhett and link|\"gmm\"|\"good mythical morning\"|\"...</td>\n",
       "      <td>343168</td>\n",
       "      <td>10172</td>\n",
       "      <td>666</td>\n",
       "      <td>2146</td>\n",
       "      <td>https://i.ytimg.com/vi/puqaWrEC7tY/default.jpg</td>\n",
       "      <td>False</td>\n",
       "      <td>False</td>\n",
       "      <td>False</td>\n",
       "      <td>Today we find out if Link is a Nickelback amat...</td>\n",
       "      <td>0 days 12:59:56</td>\n",
       "      <td>9506</td>\n",
       "      <td>November</td>\n",
       "    </tr>\n",
       "    <tr>\n",
       "      <td>4</td>\n",
       "      <td>d380meD0W0M</td>\n",
       "      <td>2017-11-14 00:00:00+00:00</td>\n",
       "      <td>I Dare You: GOING BALD!?</td>\n",
       "      <td>nigahiga</td>\n",
       "      <td>24</td>\n",
       "      <td>Entertainment</td>\n",
       "      <td>2017-11-12 18:01:41+00:00</td>\n",
       "      <td>ryan|\"higa\"|\"higatv\"|\"nigahiga\"|\"i dare you\"|\"...</td>\n",
       "      <td>2095731</td>\n",
       "      <td>132235</td>\n",
       "      <td>1989</td>\n",
       "      <td>17518</td>\n",
       "      <td>https://i.ytimg.com/vi/d380meD0W0M/default.jpg</td>\n",
       "      <td>False</td>\n",
       "      <td>False</td>\n",
       "      <td>False</td>\n",
       "      <td>I know it's been a while since we did this sho...</td>\n",
       "      <td>1 days 05:58:19</td>\n",
       "      <td>130246</td>\n",
       "      <td>November</td>\n",
       "    </tr>\n",
       "    <tr>\n",
       "      <td>...</td>\n",
       "      <td>...</td>\n",
       "      <td>...</td>\n",
       "      <td>...</td>\n",
       "      <td>...</td>\n",
       "      <td>...</td>\n",
       "      <td>...</td>\n",
       "      <td>...</td>\n",
       "      <td>...</td>\n",
       "      <td>...</td>\n",
       "      <td>...</td>\n",
       "      <td>...</td>\n",
       "      <td>...</td>\n",
       "      <td>...</td>\n",
       "      <td>...</td>\n",
       "      <td>...</td>\n",
       "      <td>...</td>\n",
       "      <td>...</td>\n",
       "      <td>...</td>\n",
       "      <td>...</td>\n",
       "      <td>...</td>\n",
       "    </tr>\n",
       "    <tr>\n",
       "      <td>40944</td>\n",
       "      <td>BZt0qjTWNhw</td>\n",
       "      <td>2018-06-14 00:00:00+00:00</td>\n",
       "      <td>The Cat Who Caught the Laser</td>\n",
       "      <td>AaronsAnimals</td>\n",
       "      <td>15</td>\n",
       "      <td>Pets &amp; Animals</td>\n",
       "      <td>2018-05-18 13:00:04+00:00</td>\n",
       "      <td>aarons animals|\"aarons\"|\"animals\"|\"cat\"|\"cats\"...</td>\n",
       "      <td>1685609</td>\n",
       "      <td>38160</td>\n",
       "      <td>1385</td>\n",
       "      <td>2657</td>\n",
       "      <td>https://i.ytimg.com/vi/BZt0qjTWNhw/default.jpg</td>\n",
       "      <td>False</td>\n",
       "      <td>False</td>\n",
       "      <td>False</td>\n",
       "      <td>The Cat Who Caught the Laser - Aaron's Animals</td>\n",
       "      <td>26 days 10:59:56</td>\n",
       "      <td>36775</td>\n",
       "      <td>May</td>\n",
       "    </tr>\n",
       "    <tr>\n",
       "      <td>40945</td>\n",
       "      <td>1h7KV2sjUWY</td>\n",
       "      <td>2018-06-14 00:00:00+00:00</td>\n",
       "      <td>True Facts : Ant Mutualism</td>\n",
       "      <td>zefrank1</td>\n",
       "      <td>22</td>\n",
       "      <td>People &amp; Blogs</td>\n",
       "      <td>2018-05-18 01:00:06+00:00</td>\n",
       "      <td>[none]</td>\n",
       "      <td>1064798</td>\n",
       "      <td>60008</td>\n",
       "      <td>382</td>\n",
       "      <td>3936</td>\n",
       "      <td>https://i.ytimg.com/vi/1h7KV2sjUWY/default.jpg</td>\n",
       "      <td>False</td>\n",
       "      <td>False</td>\n",
       "      <td>False</td>\n",
       "      <td>NaN</td>\n",
       "      <td>26 days 22:59:54</td>\n",
       "      <td>59626</td>\n",
       "      <td>May</td>\n",
       "    </tr>\n",
       "    <tr>\n",
       "      <td>40946</td>\n",
       "      <td>D6Oy4LfoqsU</td>\n",
       "      <td>2018-06-14 00:00:00+00:00</td>\n",
       "      <td>I GAVE SAFIYA NYGAARD A PERFECT HAIR MAKEOVER ...</td>\n",
       "      <td>Brad Mondo</td>\n",
       "      <td>24</td>\n",
       "      <td>Entertainment</td>\n",
       "      <td>2018-05-18 17:34:22+00:00</td>\n",
       "      <td>I gave safiya nygaard a perfect hair makeover ...</td>\n",
       "      <td>1066451</td>\n",
       "      <td>48068</td>\n",
       "      <td>1032</td>\n",
       "      <td>3992</td>\n",
       "      <td>https://i.ytimg.com/vi/D6Oy4LfoqsU/default.jpg</td>\n",
       "      <td>False</td>\n",
       "      <td>False</td>\n",
       "      <td>False</td>\n",
       "      <td>I had so much fun transforming Safiyas hair in...</td>\n",
       "      <td>26 days 06:25:38</td>\n",
       "      <td>47036</td>\n",
       "      <td>May</td>\n",
       "    </tr>\n",
       "    <tr>\n",
       "      <td>40947</td>\n",
       "      <td>oV0zkMe1K8s</td>\n",
       "      <td>2018-06-14 00:00:00+00:00</td>\n",
       "      <td>How Black Panther Should Have Ended</td>\n",
       "      <td>How It Should Have Ended</td>\n",
       "      <td>1</td>\n",
       "      <td>Film &amp; Animation</td>\n",
       "      <td>2018-05-17 17:00:04+00:00</td>\n",
       "      <td>Black Panther|\"HISHE\"|\"Marvel\"|\"Infinity War\"|...</td>\n",
       "      <td>5660813</td>\n",
       "      <td>192957</td>\n",
       "      <td>2846</td>\n",
       "      <td>13088</td>\n",
       "      <td>https://i.ytimg.com/vi/oV0zkMe1K8s/default.jpg</td>\n",
       "      <td>False</td>\n",
       "      <td>False</td>\n",
       "      <td>False</td>\n",
       "      <td>How Black Panther Should Have EndedWatch More ...</td>\n",
       "      <td>27 days 06:59:56</td>\n",
       "      <td>190111</td>\n",
       "      <td>May</td>\n",
       "    </tr>\n",
       "    <tr>\n",
       "      <td>40948</td>\n",
       "      <td>ooyjaVdt-jA</td>\n",
       "      <td>2018-06-14 00:00:00+00:00</td>\n",
       "      <td>Official Call of Duty®: Black Ops 4 — Multipla...</td>\n",
       "      <td>Call of Duty</td>\n",
       "      <td>20</td>\n",
       "      <td>Gaming</td>\n",
       "      <td>2018-05-17 17:09:38+00:00</td>\n",
       "      <td>call of duty|\"cod\"|\"activision\"|\"Black Ops 4\"</td>\n",
       "      <td>10306119</td>\n",
       "      <td>357079</td>\n",
       "      <td>212976</td>\n",
       "      <td>144795</td>\n",
       "      <td>https://i.ytimg.com/vi/ooyjaVdt-jA/default.jpg</td>\n",
       "      <td>False</td>\n",
       "      <td>False</td>\n",
       "      <td>False</td>\n",
       "      <td>Call of Duty: Black Ops 4 Multiplayer raises t...</td>\n",
       "      <td>27 days 06:50:22</td>\n",
       "      <td>144103</td>\n",
       "      <td>May</td>\n",
       "    </tr>\n",
       "  </tbody>\n",
       "</table>\n",
       "<p>40949 rows × 20 columns</p>\n",
       "</div>"
      ],
      "text/plain": [
       "          video_id             trending_date  \\\n",
       "0      2kyS6SvSYSE 2017-11-14 00:00:00+00:00   \n",
       "1      1ZAPwfrtAFY 2017-11-14 00:00:00+00:00   \n",
       "2      5qpjK5DgCt4 2017-11-14 00:00:00+00:00   \n",
       "3      puqaWrEC7tY 2017-11-14 00:00:00+00:00   \n",
       "4      d380meD0W0M 2017-11-14 00:00:00+00:00   \n",
       "...            ...                       ...   \n",
       "40944  BZt0qjTWNhw 2018-06-14 00:00:00+00:00   \n",
       "40945  1h7KV2sjUWY 2018-06-14 00:00:00+00:00   \n",
       "40946  D6Oy4LfoqsU 2018-06-14 00:00:00+00:00   \n",
       "40947  oV0zkMe1K8s 2018-06-14 00:00:00+00:00   \n",
       "40948  ooyjaVdt-jA 2018-06-14 00:00:00+00:00   \n",
       "\n",
       "                                                   title  \\\n",
       "0                     WE WANT TO TALK ABOUT OUR MARRIAGE   \n",
       "1      The Trump Presidency: Last Week Tonight with J...   \n",
       "2      Racist Superman | Rudy Mancuso, King Bach & Le...   \n",
       "3                       Nickelback Lyrics: Real or Fake?   \n",
       "4                               I Dare You: GOING BALD!?   \n",
       "...                                                  ...   \n",
       "40944                       The Cat Who Caught the Laser   \n",
       "40945                         True Facts : Ant Mutualism   \n",
       "40946  I GAVE SAFIYA NYGAARD A PERFECT HAIR MAKEOVER ...   \n",
       "40947                How Black Panther Should Have Ended   \n",
       "40948  Official Call of Duty®: Black Ops 4 — Multipla...   \n",
       "\n",
       "                  channel_title  category_id      category_name  \\\n",
       "0                  CaseyNeistat           22     People & Blogs   \n",
       "1               LastWeekTonight           24      Entertainment   \n",
       "2                  Rudy Mancuso           23             Comedy   \n",
       "3         Good Mythical Morning           24      Entertainment   \n",
       "4                      nigahiga           24      Entertainment   \n",
       "...                         ...          ...                ...   \n",
       "40944             AaronsAnimals           15     Pets & Animals   \n",
       "40945                  zefrank1           22     People & Blogs   \n",
       "40946                Brad Mondo           24      Entertainment   \n",
       "40947  How It Should Have Ended            1   Film & Animation   \n",
       "40948              Call of Duty           20             Gaming   \n",
       "\n",
       "                   publish_time  \\\n",
       "0     2017-11-13 17:13:01+00:00   \n",
       "1     2017-11-13 07:30:00+00:00   \n",
       "2     2017-11-12 19:05:24+00:00   \n",
       "3     2017-11-13 11:00:04+00:00   \n",
       "4     2017-11-12 18:01:41+00:00   \n",
       "...                         ...   \n",
       "40944 2018-05-18 13:00:04+00:00   \n",
       "40945 2018-05-18 01:00:06+00:00   \n",
       "40946 2018-05-18 17:34:22+00:00   \n",
       "40947 2018-05-17 17:00:04+00:00   \n",
       "40948 2018-05-17 17:09:38+00:00   \n",
       "\n",
       "                                                    tags     views   likes  \\\n",
       "0                                        SHANtell martin    748374   57527   \n",
       "1      last week tonight trump presidency|\"last week ...   2418783   97185   \n",
       "2      racist superman|\"rudy\"|\"mancuso\"|\"king\"|\"bach\"...   3191434  146033   \n",
       "3      rhett and link|\"gmm\"|\"good mythical morning\"|\"...    343168   10172   \n",
       "4      ryan|\"higa\"|\"higatv\"|\"nigahiga\"|\"i dare you\"|\"...   2095731  132235   \n",
       "...                                                  ...       ...     ...   \n",
       "40944  aarons animals|\"aarons\"|\"animals\"|\"cat\"|\"cats\"...   1685609   38160   \n",
       "40945                                             [none]   1064798   60008   \n",
       "40946  I gave safiya nygaard a perfect hair makeover ...   1066451   48068   \n",
       "40947  Black Panther|\"HISHE\"|\"Marvel\"|\"Infinity War\"|...   5660813  192957   \n",
       "40948      call of duty|\"cod\"|\"activision\"|\"Black Ops 4\"  10306119  357079   \n",
       "\n",
       "       dislikes  comment_count  \\\n",
       "0          2966          15954   \n",
       "1          6146          12703   \n",
       "2          5339           8181   \n",
       "3           666           2146   \n",
       "4          1989          17518   \n",
       "...         ...            ...   \n",
       "40944      1385           2657   \n",
       "40945       382           3936   \n",
       "40946      1032           3992   \n",
       "40947      2846          13088   \n",
       "40948    212976         144795   \n",
       "\n",
       "                                       thumbnail_link  comments_disabled  \\\n",
       "0      https://i.ytimg.com/vi/2kyS6SvSYSE/default.jpg              False   \n",
       "1      https://i.ytimg.com/vi/1ZAPwfrtAFY/default.jpg              False   \n",
       "2      https://i.ytimg.com/vi/5qpjK5DgCt4/default.jpg              False   \n",
       "3      https://i.ytimg.com/vi/puqaWrEC7tY/default.jpg              False   \n",
       "4      https://i.ytimg.com/vi/d380meD0W0M/default.jpg              False   \n",
       "...                                               ...                ...   \n",
       "40944  https://i.ytimg.com/vi/BZt0qjTWNhw/default.jpg              False   \n",
       "40945  https://i.ytimg.com/vi/1h7KV2sjUWY/default.jpg              False   \n",
       "40946  https://i.ytimg.com/vi/D6Oy4LfoqsU/default.jpg              False   \n",
       "40947  https://i.ytimg.com/vi/oV0zkMe1K8s/default.jpg              False   \n",
       "40948  https://i.ytimg.com/vi/ooyjaVdt-jA/default.jpg              False   \n",
       "\n",
       "       ratings_disabled  video_error_or_removed  \\\n",
       "0                 False                   False   \n",
       "1                 False                   False   \n",
       "2                 False                   False   \n",
       "3                 False                   False   \n",
       "4                 False                   False   \n",
       "...                 ...                     ...   \n",
       "40944             False                   False   \n",
       "40945             False                   False   \n",
       "40946             False                   False   \n",
       "40947             False                   False   \n",
       "40948             False                   False   \n",
       "\n",
       "                                             description     trending_gap  \\\n",
       "0      SHANTELL'S CHANNEL - https://www.youtube.com/s...  0 days 06:46:59   \n",
       "1      One year after the presidential election, John...  0 days 16:30:00   \n",
       "2      WATCH MY PREVIOUS VIDEO ▶ \\n\\nSUBSCRIBE ► http...  1 days 04:54:36   \n",
       "3      Today we find out if Link is a Nickelback amat...  0 days 12:59:56   \n",
       "4      I know it's been a while since we did this sho...  1 days 05:58:19   \n",
       "...                                                  ...              ...   \n",
       "40944     The Cat Who Caught the Laser - Aaron's Animals 26 days 10:59:56   \n",
       "40945                                                NaN 26 days 22:59:54   \n",
       "40946  I had so much fun transforming Safiyas hair in... 26 days 06:25:38   \n",
       "40947  How Black Panther Should Have EndedWatch More ... 27 days 06:59:56   \n",
       "40948  Call of Duty: Black Ops 4 Multiplayer raises t... 27 days 06:50:22   \n",
       "\n",
       "       delta_like month_name  \n",
       "0           54561   November  \n",
       "1           91039   November  \n",
       "2          140694   November  \n",
       "3            9506   November  \n",
       "4          130246   November  \n",
       "...           ...        ...  \n",
       "40944       36775        May  \n",
       "40945       59626        May  \n",
       "40946       47036        May  \n",
       "40947      190111        May  \n",
       "40948      144103        May  \n",
       "\n",
       "[40949 rows x 20 columns]"
      ]
     },
     "execution_count": 22,
     "metadata": {},
     "output_type": "execute_result"
    }
   ],
   "source": [
    "youtube['month_name'] = youtube['publish_time'].dt.month_name()\n",
    "youtube"
   ]
  },
  {
   "cell_type": "code",
   "execution_count": 23,
   "metadata": {},
   "outputs": [],
   "source": [
    "def f(row):\n",
    "    if ((row['month_name'] == 'March') or (row['month_name'] == 'April') or (row['month_name'] =='May')) :\n",
    "        val = 'Spring'\n",
    "    elif ((row['month_name'] == 'June') or (row['month_name'] == 'July') or (row['month_name'] == 'August')):\n",
    "        val = 'Summer'\n",
    "    elif ((row['month_name'] ==  'September') or (row['month_name'] ==  'October') or (row['month_name'] == 'November')):\n",
    "        val = 'Autumn'\n",
    "    else:\n",
    "        val = 'Winter'\n",
    "    return val\n",
    "\n",
    "youtube['Season'] = youtube.apply(f, axis = 1)"
   ]
  },
  {
   "cell_type": "code",
   "execution_count": 24,
   "metadata": {},
   "outputs": [
    {
     "data": {
      "text/plain": [
       "Spring    17948\n",
       "Winter    17891\n",
       "Autumn     4305\n",
       "Summer      805\n",
       "Name: Season, dtype: int64"
      ]
     },
     "execution_count": 24,
     "metadata": {},
     "output_type": "execute_result"
    }
   ],
   "source": [
    "youtube['Season'].value_counts()"
   ]
  },
  {
   "cell_type": "markdown",
   "metadata": {},
   "source": [
    "## TEST NORMALITY BASED ON VIEWS FROM EVERY SEASONS"
   ]
  },
  {
   "cell_type": "code",
   "execution_count": 25,
   "metadata": {
    "scrolled": true
   },
   "outputs": [
    {
     "name": "stdout",
     "output_type": "stream",
     "text": [
      "{'Anderson': {15.0: 0.576, 10.0: 0.656, 5.0: 0.787, 2.5: 0.918, 1.0: 1.092, 'stat': 3716.1813218754905}, 'Shapiro': 0.0, 'K^2': 0.0}\n",
      "{'Anderson': {15.0: 0.576, 10.0: 0.656, 5.0: 0.787, 2.5: 0.918, 1.0: 1.092, 'stat': 3746.367311313432}, 'Shapiro': 0.0, 'K^2': 0.0}\n",
      "{'Anderson': {15.0: 0.575, 10.0: 0.655, 5.0: 0.786, 2.5: 0.917, 1.0: 1.091, 'stat': 1076.0919247755273}, 'Shapiro': 0.0, 'K^2': 0.0}\n",
      "{'Anderson': {15.0: 0.573, 10.0: 0.653, 5.0: 0.783, 2.5: 0.913, 1.0: 1.087, 'stat': 104.89138809636574}, 'Shapiro': 5.047589172375137e-40, 'K^2': 1.1802462873285782e-131}\n"
     ]
    }
   ],
   "source": [
    "print(trynormal(youtube[(youtube['Season']=='Spring')]['views']))\n",
    "print(trynormal(youtube[(youtube['Season']=='Winter')]['views']))\n",
    "print(trynormal(youtube[(youtube['Season']=='Autumn')]['views']))\n",
    "print(trynormal(youtube[(youtube['Season']=='Summer')]['views']))"
   ]
  },
  {
   "cell_type": "markdown",
   "metadata": {},
   "source": [
    "## TEST NORMALITY BASED ON LIKES FROM EVERY SEASONS"
   ]
  },
  {
   "cell_type": "code",
   "execution_count": 26,
   "metadata": {},
   "outputs": [
    {
     "name": "stdout",
     "output_type": "stream",
     "text": [
      "{'Anderson': {15.0: 0.576, 10.0: 0.656, 5.0: 0.787, 2.5: 0.918, 1.0: 1.092, 'stat': 3560.9829258459213}, 'Shapiro': 0.0, 'K^2': 0.0}\n",
      "{'Anderson': {15.0: 0.576, 10.0: 0.656, 5.0: 0.787, 2.5: 0.918, 1.0: 1.092, 'stat': 3660.3000707250976}, 'Shapiro': 0.0, 'K^2': 0.0}\n",
      "{'Anderson': {15.0: 0.575, 10.0: 0.655, 5.0: 0.786, 2.5: 0.917, 1.0: 1.091, 'stat': 1086.661115004069}, 'Shapiro': 0.0, 'K^2': 0.0}\n",
      "{'Anderson': {15.0: 0.573, 10.0: 0.653, 5.0: 0.783, 2.5: 0.913, 1.0: 1.087, 'stat': 164.14229803337196}, 'Shapiro': 2.802596928649634e-45, 'K^2': 5.1677471996842025e-164}\n"
     ]
    }
   ],
   "source": [
    "print(trynormal(youtube[(youtube['Season']=='Spring')]['likes']))\n",
    "print(trynormal(youtube[(youtube['Season']=='Winter')]['likes']))\n",
    "print(trynormal(youtube[(youtube['Season']=='Autumn')]['likes']))\n",
    "print(trynormal(youtube[(youtube['Season']=='Summer')]['likes']))"
   ]
  },
  {
   "cell_type": "markdown",
   "metadata": {},
   "source": [
    "## TEST NORMALITY BASED ON DISLIKES FROM EVERY SEASONS"
   ]
  },
  {
   "cell_type": "code",
   "execution_count": 27,
   "metadata": {},
   "outputs": [
    {
     "name": "stdout",
     "output_type": "stream",
     "text": [
      "{'Anderson': {15.0: 0.576, 10.0: 0.656, 5.0: 0.787, 2.5: 0.918, 1.0: 1.092, 'stat': 4208.5911645473025}, 'Shapiro': 0.0, 'K^2': 0.0}\n",
      "{'Anderson': {15.0: 0.576, 10.0: 0.656, 5.0: 0.787, 2.5: 0.918, 1.0: 1.092, 'stat': 6110.555792955907}, 'Shapiro': 0.0, 'K^2': 0.0}\n",
      "{'Anderson': {15.0: 0.575, 10.0: 0.655, 5.0: 0.786, 2.5: 0.917, 1.0: 1.091, 'stat': 1048.6575806115661}, 'Shapiro': 0.0, 'K^2': 0.0}\n",
      "{'Anderson': {15.0: 0.573, 10.0: 0.653, 5.0: 0.783, 2.5: 0.913, 1.0: 1.087, 'stat': 160.83754551439586}, 'Shapiro': 0.0, 'K^2': 3.942257894180237e-194}\n"
     ]
    }
   ],
   "source": [
    "print(trynormal(youtube[(youtube['Season']=='Spring')]['dislikes']))\n",
    "print(trynormal(youtube[(youtube['Season']=='Winter')]['dislikes']))\n",
    "print(trynormal(youtube[(youtube['Season']=='Autumn')]['dislikes']))\n",
    "print(trynormal(youtube[(youtube['Season']=='Summer')]['dislikes']))"
   ]
  },
  {
   "cell_type": "markdown",
   "metadata": {},
   "source": [
    "## KESIMPULAN 1\n",
    "Distribusi data tidak normal karena nilai stat dari setiap musim lebih besar dari alpha yang telah ditentukan (0.05)."
   ]
  },
  {
   "cell_type": "code",
   "execution_count": null,
   "metadata": {},
   "outputs": [],
   "source": []
  },
  {
   "cell_type": "markdown",
   "metadata": {},
   "source": [
    "## VARIANCE TEST  BASED ON VIEWS PER-SEASON"
   ]
  },
  {
   "cell_type": "code",
   "execution_count": 28,
   "metadata": {},
   "outputs": [
    {
     "data": {
      "text/plain": [
       "LeveneResult(statistic=231.1359391780419, pvalue=1.0199641428047364e-148)"
      ]
     },
     "execution_count": 28,
     "metadata": {},
     "output_type": "execute_result"
    }
   ],
   "source": [
    "from scipy.stats import levene, kruskal\n",
    "levene(youtube[(youtube['Season']=='Spring')]['views'],\n",
    "       youtube[(youtube['Season']=='Winter')]['views'],\n",
    "       youtube[(youtube['Season']=='Autumn')]['views'],\n",
    "       youtube[(youtube['Season']=='Summer')]['views'])"
   ]
  },
  {
   "cell_type": "markdown",
   "metadata": {},
   "source": [
    "## VARIANCE TEST  BASED ON LIKES PER-SEASON"
   ]
  },
  {
   "cell_type": "code",
   "execution_count": 29,
   "metadata": {},
   "outputs": [
    {
     "data": {
      "text/plain": [
       "LeveneResult(statistic=199.1602384582668, pvalue=3.047203619464923e-128)"
      ]
     },
     "execution_count": 29,
     "metadata": {},
     "output_type": "execute_result"
    }
   ],
   "source": [
    "levene(youtube[(youtube['Season']=='Spring')]['likes'],\n",
    "       youtube[(youtube['Season']=='Winter')]['likes'],\n",
    "       youtube[(youtube['Season']=='Autumn')]['likes'],\n",
    "       youtube[(youtube['Season']=='Summer')]['likes'])"
   ]
  },
  {
   "cell_type": "markdown",
   "metadata": {},
   "source": [
    "## VARIANCE TEST  BASED ON DISLIKES PER-SEASON"
   ]
  },
  {
   "cell_type": "code",
   "execution_count": 30,
   "metadata": {},
   "outputs": [
    {
     "data": {
      "text/plain": [
       "LeveneResult(statistic=12.664904236686521, pvalue=2.857565325923137e-08)"
      ]
     },
     "execution_count": 30,
     "metadata": {},
     "output_type": "execute_result"
    }
   ],
   "source": [
    "levene(youtube[(youtube['Season']=='Spring')]['dislikes'],\n",
    "       youtube[(youtube['Season']=='Winter')]['dislikes'],\n",
    "       youtube[(youtube['Season']=='Autumn')]['dislikes'],\n",
    "       youtube[(youtube['Season']=='Summer')]['dislikes'])"
   ]
  },
  {
   "cell_type": "markdown",
   "metadata": {},
   "source": [
    "## KESIMPULAN 2\n",
    "Dari ketiga test diatas dapat disimpulkan bahwa data variance dari tiap season based on views, likes, dan dislikes = unequal karena nilai pvalue tiap musim dari view, likes, dan dislikes lebih kecil dari alpha(0.05) yang telah ditentukan."
   ]
  },
  {
   "cell_type": "code",
   "execution_count": null,
   "metadata": {},
   "outputs": [],
   "source": []
  },
  {
   "cell_type": "markdown",
   "metadata": {},
   "source": [
    "## GROUP TEST"
   ]
  },
  {
   "cell_type": "code",
   "execution_count": 31,
   "metadata": {},
   "outputs": [
    {
     "data": {
      "text/plain": [
       "KruskalResult(statistic=7047.096841063085, pvalue=0.0)"
      ]
     },
     "execution_count": 31,
     "metadata": {},
     "output_type": "execute_result"
    }
   ],
   "source": [
    "kruskal(youtube[youtube['Season']=='Spring']['views'],\n",
    "       youtube[youtube['Season']=='Winter']['views'],\n",
    "       youtube[youtube['Season']=='Autumn']['views'],\n",
    "       youtube[youtube['Season']=='Summer']['views'])"
   ]
  },
  {
   "cell_type": "code",
   "execution_count": 32,
   "metadata": {},
   "outputs": [
    {
     "data": {
      "text/plain": [
       "KruskalResult(statistic=5308.643036224076, pvalue=0.0)"
      ]
     },
     "execution_count": 32,
     "metadata": {},
     "output_type": "execute_result"
    }
   ],
   "source": [
    "kruskal(youtube[youtube['Season']=='Spring']['likes'],\n",
    "       youtube[youtube['Season']=='Winter']['likes'],\n",
    "       youtube[youtube['Season']=='Autumn']['likes'],\n",
    "       youtube[youtube['Season']=='Summer']['likes'])"
   ]
  },
  {
   "cell_type": "code",
   "execution_count": 33,
   "metadata": {},
   "outputs": [
    {
     "data": {
      "text/plain": [
       "KruskalResult(statistic=4673.571500076225, pvalue=0.0)"
      ]
     },
     "execution_count": 33,
     "metadata": {},
     "output_type": "execute_result"
    }
   ],
   "source": [
    "kruskal(youtube[youtube['Season']=='Spring']['dislikes'],\n",
    "       youtube[youtube['Season']=='Winter']['dislikes'],\n",
    "       youtube[youtube['Season']=='Autumn']['dislikes'],\n",
    "       youtube[youtube['Season']=='Summer']['dislikes'])"
   ]
  },
  {
   "cell_type": "markdown",
   "metadata": {},
   "source": [
    "### KESIMPULAN 3\n",
    "Karena distribusi data tidak normal, memiliki unequal variance maka dilakukan group test menggunakan metode kruskal untuk mengetahui perbedaan dari 1 grup terhadap grup lain. Hasilnya terdapat perbedaan antara tiap grup yang ditunjukkan oleh nilai pvalue = 0 yang lebih kecil dari nilai alpha (0.05)."
   ]
  },
  {
   "cell_type": "code",
   "execution_count": 34,
   "metadata": {},
   "outputs": [
    {
     "data": {
      "text/html": [
       "<div>\n",
       "<style scoped>\n",
       "    .dataframe tbody tr th:only-of-type {\n",
       "        vertical-align: middle;\n",
       "    }\n",
       "\n",
       "    .dataframe tbody tr th {\n",
       "        vertical-align: top;\n",
       "    }\n",
       "\n",
       "    .dataframe thead th {\n",
       "        text-align: right;\n",
       "    }\n",
       "</style>\n",
       "<table border=\"1\" class=\"dataframe\">\n",
       "  <thead>\n",
       "    <tr style=\"text-align: right;\">\n",
       "      <th></th>\n",
       "      <th>Contrast</th>\n",
       "      <th>A</th>\n",
       "      <th>B</th>\n",
       "      <th>Paired</th>\n",
       "      <th>Parametric</th>\n",
       "      <th>U-val</th>\n",
       "      <th>Tail</th>\n",
       "      <th>p-unc</th>\n",
       "      <th>hedges</th>\n",
       "    </tr>\n",
       "  </thead>\n",
       "  <tbody>\n",
       "    <tr>\n",
       "      <td>0</td>\n",
       "      <td>Season</td>\n",
       "      <td>Autumn</td>\n",
       "      <td>Spring</td>\n",
       "      <td>False</td>\n",
       "      <td>False</td>\n",
       "      <td>21531502.0</td>\n",
       "      <td>two-sided</td>\n",
       "      <td>0.000000e+00</td>\n",
       "      <td>-0.216</td>\n",
       "    </tr>\n",
       "    <tr>\n",
       "      <td>1</td>\n",
       "      <td>Season</td>\n",
       "      <td>Autumn</td>\n",
       "      <td>Summer</td>\n",
       "      <td>False</td>\n",
       "      <td>False</td>\n",
       "      <td>909416.5</td>\n",
       "      <td>two-sided</td>\n",
       "      <td>6.920625e-102</td>\n",
       "      <td>-0.396</td>\n",
       "    </tr>\n",
       "    <tr>\n",
       "      <td>2</td>\n",
       "      <td>Season</td>\n",
       "      <td>Autumn</td>\n",
       "      <td>Winter</td>\n",
       "      <td>False</td>\n",
       "      <td>False</td>\n",
       "      <td>36678916.5</td>\n",
       "      <td>two-sided</td>\n",
       "      <td>1.221096e-06</td>\n",
       "      <td>0.027</td>\n",
       "    </tr>\n",
       "    <tr>\n",
       "      <td>3</td>\n",
       "      <td>Season</td>\n",
       "      <td>Spring</td>\n",
       "      <td>Summer</td>\n",
       "      <td>False</td>\n",
       "      <td>False</td>\n",
       "      <td>6649032.5</td>\n",
       "      <td>two-sided</td>\n",
       "      <td>1.298305e-04</td>\n",
       "      <td>-0.086</td>\n",
       "    </tr>\n",
       "    <tr>\n",
       "      <td>4</td>\n",
       "      <td>Season</td>\n",
       "      <td>Spring</td>\n",
       "      <td>Winter</td>\n",
       "      <td>False</td>\n",
       "      <td>False</td>\n",
       "      <td>226079681.0</td>\n",
       "      <td>two-sided</td>\n",
       "      <td>0.000000e+00</td>\n",
       "      <td>0.281</td>\n",
       "    </tr>\n",
       "    <tr>\n",
       "      <td>5</td>\n",
       "      <td>Season</td>\n",
       "      <td>Summer</td>\n",
       "      <td>Winter</td>\n",
       "      <td>False</td>\n",
       "      <td>False</td>\n",
       "      <td>10382826.0</td>\n",
       "      <td>two-sided</td>\n",
       "      <td>4.104912e-100</td>\n",
       "      <td>0.637</td>\n",
       "    </tr>\n",
       "  </tbody>\n",
       "</table>\n",
       "</div>"
      ],
      "text/plain": [
       "  Contrast       A       B  Paired  Parametric        U-val       Tail  \\\n",
       "0   Season  Autumn  Spring   False       False   21531502.0  two-sided   \n",
       "1   Season  Autumn  Summer   False       False     909416.5  two-sided   \n",
       "2   Season  Autumn  Winter   False       False   36678916.5  two-sided   \n",
       "3   Season  Spring  Summer   False       False    6649032.5  two-sided   \n",
       "4   Season  Spring  Winter   False       False  226079681.0  two-sided   \n",
       "5   Season  Summer  Winter   False       False   10382826.0  two-sided   \n",
       "\n",
       "           p-unc  hedges  \n",
       "0   0.000000e+00  -0.216  \n",
       "1  6.920625e-102  -0.396  \n",
       "2   1.221096e-06   0.027  \n",
       "3   1.298305e-04  -0.086  \n",
       "4   0.000000e+00   0.281  \n",
       "5  4.104912e-100   0.637  "
      ]
     },
     "execution_count": 34,
     "metadata": {},
     "output_type": "execute_result"
    }
   ],
   "source": [
    "from pingouin import pairwise_ttests\n",
    "youtube_season = youtube[(youtube['Season']=='Spring') | \n",
    "                         (youtube['Season']=='Winter') | \n",
    "                         (youtube['Season']=='Autumn') |\n",
    "                         (youtube['Season']=='Summer')\n",
    "                          ]\n",
    "\n",
    "pairwise_ttests(data = youtube_season, dv = 'likes', between = 'Season', parametric =  False)"
   ]
  },
  {
   "cell_type": "code",
   "execution_count": 37,
   "metadata": {},
   "outputs": [
    {
     "data": {
      "text/html": [
       "<div>\n",
       "<style scoped>\n",
       "    .dataframe tbody tr th:only-of-type {\n",
       "        vertical-align: middle;\n",
       "    }\n",
       "\n",
       "    .dataframe tbody tr th {\n",
       "        vertical-align: top;\n",
       "    }\n",
       "\n",
       "    .dataframe thead th {\n",
       "        text-align: right;\n",
       "    }\n",
       "</style>\n",
       "<table border=\"1\" class=\"dataframe\">\n",
       "  <thead>\n",
       "    <tr style=\"text-align: right;\">\n",
       "      <th></th>\n",
       "      <th>Contrast</th>\n",
       "      <th>A</th>\n",
       "      <th>B</th>\n",
       "      <th>Paired</th>\n",
       "      <th>Parametric</th>\n",
       "      <th>U-val</th>\n",
       "      <th>Tail</th>\n",
       "      <th>p-unc</th>\n",
       "      <th>hedges</th>\n",
       "    </tr>\n",
       "  </thead>\n",
       "  <tbody>\n",
       "    <tr>\n",
       "      <td>0</td>\n",
       "      <td>Season</td>\n",
       "      <td>Autumn</td>\n",
       "      <td>Spring</td>\n",
       "      <td>False</td>\n",
       "      <td>False</td>\n",
       "      <td>18752760.5</td>\n",
       "      <td>two-sided</td>\n",
       "      <td>0.000000e+00</td>\n",
       "      <td>-0.254</td>\n",
       "    </tr>\n",
       "    <tr>\n",
       "      <td>1</td>\n",
       "      <td>Season</td>\n",
       "      <td>Autumn</td>\n",
       "      <td>Summer</td>\n",
       "      <td>False</td>\n",
       "      <td>False</td>\n",
       "      <td>814837.0</td>\n",
       "      <td>two-sided</td>\n",
       "      <td>3.671005e-126</td>\n",
       "      <td>-0.369</td>\n",
       "    </tr>\n",
       "    <tr>\n",
       "      <td>2</td>\n",
       "      <td>Season</td>\n",
       "      <td>Autumn</td>\n",
       "      <td>Winter</td>\n",
       "      <td>False</td>\n",
       "      <td>False</td>\n",
       "      <td>36058817.5</td>\n",
       "      <td>two-sided</td>\n",
       "      <td>8.300967e-11</td>\n",
       "      <td>-0.001</td>\n",
       "    </tr>\n",
       "    <tr>\n",
       "      <td>3</td>\n",
       "      <td>Season</td>\n",
       "      <td>Spring</td>\n",
       "      <td>Summer</td>\n",
       "      <td>False</td>\n",
       "      <td>False</td>\n",
       "      <td>6734961.0</td>\n",
       "      <td>two-sided</td>\n",
       "      <td>1.134166e-03</td>\n",
       "      <td>0.044</td>\n",
       "    </tr>\n",
       "    <tr>\n",
       "      <td>4</td>\n",
       "      <td>Season</td>\n",
       "      <td>Spring</td>\n",
       "      <td>Winter</td>\n",
       "      <td>False</td>\n",
       "      <td>False</td>\n",
       "      <td>236050929.0</td>\n",
       "      <td>two-sided</td>\n",
       "      <td>0.000000e+00</td>\n",
       "      <td>0.309</td>\n",
       "    </tr>\n",
       "    <tr>\n",
       "      <td>5</td>\n",
       "      <td>Season</td>\n",
       "      <td>Summer</td>\n",
       "      <td>Winter</td>\n",
       "      <td>False</td>\n",
       "      <td>False</td>\n",
       "      <td>10706892.5</td>\n",
       "      <td>two-sided</td>\n",
       "      <td>3.980226e-121</td>\n",
       "      <td>0.480</td>\n",
       "    </tr>\n",
       "  </tbody>\n",
       "</table>\n",
       "</div>"
      ],
      "text/plain": [
       "  Contrast       A       B  Paired  Parametric        U-val       Tail  \\\n",
       "0   Season  Autumn  Spring   False       False   18752760.5  two-sided   \n",
       "1   Season  Autumn  Summer   False       False     814837.0  two-sided   \n",
       "2   Season  Autumn  Winter   False       False   36058817.5  two-sided   \n",
       "3   Season  Spring  Summer   False       False    6734961.0  two-sided   \n",
       "4   Season  Spring  Winter   False       False  236050929.0  two-sided   \n",
       "5   Season  Summer  Winter   False       False   10706892.5  two-sided   \n",
       "\n",
       "           p-unc  hedges  \n",
       "0   0.000000e+00  -0.254  \n",
       "1  3.671005e-126  -0.369  \n",
       "2   8.300967e-11  -0.001  \n",
       "3   1.134166e-03   0.044  \n",
       "4   0.000000e+00   0.309  \n",
       "5  3.980226e-121   0.480  "
      ]
     },
     "execution_count": 37,
     "metadata": {},
     "output_type": "execute_result"
    }
   ],
   "source": [
    "pairwise_ttests(data = youtube_season, dv = 'views', between = 'Season', parametric =  False)"
   ]
  },
  {
   "cell_type": "code",
   "execution_count": 36,
   "metadata": {},
   "outputs": [
    {
     "data": {
      "text/html": [
       "<div>\n",
       "<style scoped>\n",
       "    .dataframe tbody tr th:only-of-type {\n",
       "        vertical-align: middle;\n",
       "    }\n",
       "\n",
       "    .dataframe tbody tr th {\n",
       "        vertical-align: top;\n",
       "    }\n",
       "\n",
       "    .dataframe thead th {\n",
       "        text-align: right;\n",
       "    }\n",
       "</style>\n",
       "<table border=\"1\" class=\"dataframe\">\n",
       "  <thead>\n",
       "    <tr style=\"text-align: right;\">\n",
       "      <th></th>\n",
       "      <th>Contrast</th>\n",
       "      <th>A</th>\n",
       "      <th>B</th>\n",
       "      <th>Paired</th>\n",
       "      <th>Parametric</th>\n",
       "      <th>U-val</th>\n",
       "      <th>Tail</th>\n",
       "      <th>p-unc</th>\n",
       "      <th>hedges</th>\n",
       "    </tr>\n",
       "  </thead>\n",
       "  <tbody>\n",
       "    <tr>\n",
       "      <td>0</td>\n",
       "      <td>Season</td>\n",
       "      <td>Autumn</td>\n",
       "      <td>Spring</td>\n",
       "      <td>False</td>\n",
       "      <td>False</td>\n",
       "      <td>21521402.0</td>\n",
       "      <td>two-sided</td>\n",
       "      <td>0.000000e+00</td>\n",
       "      <td>-0.207</td>\n",
       "    </tr>\n",
       "    <tr>\n",
       "      <td>1</td>\n",
       "      <td>Season</td>\n",
       "      <td>Autumn</td>\n",
       "      <td>Summer</td>\n",
       "      <td>False</td>\n",
       "      <td>False</td>\n",
       "      <td>835874.0</td>\n",
       "      <td>two-sided</td>\n",
       "      <td>1.547882e-120</td>\n",
       "      <td>-0.556</td>\n",
       "    </tr>\n",
       "    <tr>\n",
       "      <td>2</td>\n",
       "      <td>Season</td>\n",
       "      <td>Autumn</td>\n",
       "      <td>Winter</td>\n",
       "      <td>False</td>\n",
       "      <td>False</td>\n",
       "      <td>35099503.5</td>\n",
       "      <td>two-sided</td>\n",
       "      <td>1.615794e-19</td>\n",
       "      <td>-0.044</td>\n",
       "    </tr>\n",
       "    <tr>\n",
       "      <td>3</td>\n",
       "      <td>Season</td>\n",
       "      <td>Spring</td>\n",
       "      <td>Summer</td>\n",
       "      <td>False</td>\n",
       "      <td>False</td>\n",
       "      <td>6170166.5</td>\n",
       "      <td>two-sided</td>\n",
       "      <td>2.323327e-12</td>\n",
       "      <td>-0.090</td>\n",
       "    </tr>\n",
       "    <tr>\n",
       "      <td>4</td>\n",
       "      <td>Season</td>\n",
       "      <td>Spring</td>\n",
       "      <td>Winter</td>\n",
       "      <td>False</td>\n",
       "      <td>False</td>\n",
       "      <td>219874019.0</td>\n",
       "      <td>two-sided</td>\n",
       "      <td>0.000000e+00</td>\n",
       "      <td>0.047</td>\n",
       "    </tr>\n",
       "    <tr>\n",
       "      <td>5</td>\n",
       "      <td>Season</td>\n",
       "      <td>Summer</td>\n",
       "      <td>Winter</td>\n",
       "      <td>False</td>\n",
       "      <td>False</td>\n",
       "      <td>10487552.0</td>\n",
       "      <td>two-sided</td>\n",
       "      <td>1.106743e-106</td>\n",
       "      <td>0.073</td>\n",
       "    </tr>\n",
       "  </tbody>\n",
       "</table>\n",
       "</div>"
      ],
      "text/plain": [
       "  Contrast       A       B  Paired  Parametric        U-val       Tail  \\\n",
       "0   Season  Autumn  Spring   False       False   21521402.0  two-sided   \n",
       "1   Season  Autumn  Summer   False       False     835874.0  two-sided   \n",
       "2   Season  Autumn  Winter   False       False   35099503.5  two-sided   \n",
       "3   Season  Spring  Summer   False       False    6170166.5  two-sided   \n",
       "4   Season  Spring  Winter   False       False  219874019.0  two-sided   \n",
       "5   Season  Summer  Winter   False       False   10487552.0  two-sided   \n",
       "\n",
       "           p-unc  hedges  \n",
       "0   0.000000e+00  -0.207  \n",
       "1  1.547882e-120  -0.556  \n",
       "2   1.615794e-19  -0.044  \n",
       "3   2.323327e-12  -0.090  \n",
       "4   0.000000e+00   0.047  \n",
       "5  1.106743e-106   0.073  "
      ]
     },
     "execution_count": 36,
     "metadata": {},
     "output_type": "execute_result"
    }
   ],
   "source": [
    "pairwise_ttests(data = youtube_season, dv = 'dislikes', between = 'Season', parametric =  False)"
   ]
  },
  {
   "cell_type": "markdown",
   "metadata": {},
   "source": [
    "## KESIMPULAN 4\n",
    "digunakan metode ttest untuk membandingkan mean tiap grup dengan grup lain untuk mengetahui apakah ada perbedaan antara grup 1 dengan grup dengan yang lain. hasilnya pvalue dari perbandingan tiap grup < alpha (0.05)"
   ]
  },
  {
   "cell_type": "code",
   "execution_count": 47,
   "metadata": {},
   "outputs": [
    {
     "data": {
      "image/png": "[encoded data removed]",
      "text/plain": [
       "<Figure size 576x576 with 3 Axes>"
      ]
     },
     "metadata": {},
     "output_type": "display_data"
    }
   ],
   "source": [
    "plt.figure(figsize=(8,8))\n",
    "plt.subplot(2,2,1)\n",
    "sns.barplot(data=youtube, x='Season',y='views')\n",
    "plt.subplot(2,2,2)\n",
    "sns.barplot(data=youtube, x='Season',y='likes')\n",
    "plt.subplot(2,2,3)\n",
    "sns.barplot(data=youtube, x='Season',y='dislikes')\n",
    "plt.tight_layout()"
   ]
  },
  {
   "cell_type": "markdown",
   "metadata": {},
   "source": [
    "## CHISQUARE"
   ]
  },
  {
   "cell_type": "code",
   "execution_count": 54,
   "metadata": {},
   "outputs": [],
   "source": [
    "from scipy.stats import chisquare"
   ]
  },
  {
   "cell_type": "code",
   "execution_count": 67,
   "metadata": {},
   "outputs": [
    {
     "data": {
      "text/plain": [
       "Season\n",
       "Autumn     4305\n",
       "Spring    17948\n",
       "Summer      805\n",
       "Winter    17891\n",
       "Name: views, dtype: int64"
      ]
     },
     "execution_count": 67,
     "metadata": {},
     "output_type": "execute_result"
    }
   ],
   "source": [
    "youtube.groupby('Season').count()['views']"
   ]
  },
  {
   "cell_type": "code",
   "execution_count": 65,
   "metadata": {},
   "outputs": [
    {
     "data": {
      "text/plain": [
       "Power_divergenceResult(statistic=23658.15866077316, pvalue=0.0)"
      ]
     },
     "execution_count": 65,
     "metadata": {},
     "output_type": "execute_result"
    }
   ],
   "source": [
    "chisquare(np.array(youtube.groupby('Season').count()['views']))"
   ]
  },
  {
   "cell_type": "code",
   "execution_count": 68,
   "metadata": {},
   "outputs": [],
   "source": [
    "from mahalanobis import Mahalanobis"
   ]
  },
  {
   "cell_type": "code",
   "execution_count": 69,
   "metadata": {},
   "outputs": [],
   "source": [
    "youtube_out_test = youtube[['views','likes','dislikes']]"
   ]
  },
  {
   "cell_type": "code",
   "execution_count": 70,
   "metadata": {},
   "outputs": [
    {
     "name": "stderr",
     "output_type": "stream",
     "text": [
      "C:\\Users\\catin\\Anaconda3\\lib\\site-packages\\ipykernel_launcher.py:1: SettingWithCopyWarning:\n",
      "\n",
      "\n",
      "A value is trying to be set on a copy of a slice from a DataFrame.\n",
      "Try using .loc[row_indexer,col_indexer] = value instead\n",
      "\n",
      "See the caveats in the documentation: http://pandas.pydata.org/pandas-docs/stable/user_guide/indexing.html#returning-a-view-versus-a-copy\n",
      "\n"
     ]
    }
   ],
   "source": [
    "youtube_out_test['mahala_pack'] = Mahalanobis(np.array(youtube_out_test),len(youtube_out_test)).distances"
   ]
  },
  {
   "cell_type": "code",
   "execution_count": 71,
   "metadata": {},
   "outputs": [
    {
     "data": {
      "text/html": [
       "<div>\n",
       "<style scoped>\n",
       "    .dataframe tbody tr th:only-of-type {\n",
       "        vertical-align: middle;\n",
       "    }\n",
       "\n",
       "    .dataframe tbody tr th {\n",
       "        vertical-align: top;\n",
       "    }\n",
       "\n",
       "    .dataframe thead th {\n",
       "        text-align: right;\n",
       "    }\n",
       "</style>\n",
       "<table border=\"1\" class=\"dataframe\">\n",
       "  <thead>\n",
       "    <tr style=\"text-align: right;\">\n",
       "      <th></th>\n",
       "      <th>views</th>\n",
       "      <th>likes</th>\n",
       "      <th>dislikes</th>\n",
       "      <th>mahala_pack</th>\n",
       "    </tr>\n",
       "  </thead>\n",
       "  <tbody>\n",
       "    <tr>\n",
       "      <td>0</td>\n",
       "      <td>748374</td>\n",
       "      <td>57527</td>\n",
       "      <td>2966</td>\n",
       "      <td>0.311529</td>\n",
       "    </tr>\n",
       "    <tr>\n",
       "      <td>1</td>\n",
       "      <td>2418783</td>\n",
       "      <td>97185</td>\n",
       "      <td>6146</td>\n",
       "      <td>0.191899</td>\n",
       "    </tr>\n",
       "    <tr>\n",
       "      <td>2</td>\n",
       "      <td>3191434</td>\n",
       "      <td>146033</td>\n",
       "      <td>5339</td>\n",
       "      <td>0.429749</td>\n",
       "    </tr>\n",
       "    <tr>\n",
       "      <td>3</td>\n",
       "      <td>343168</td>\n",
       "      <td>10172</td>\n",
       "      <td>666</td>\n",
       "      <td>0.290097</td>\n",
       "    </tr>\n",
       "    <tr>\n",
       "      <td>4</td>\n",
       "      <td>2095731</td>\n",
       "      <td>132235</td>\n",
       "      <td>1989</td>\n",
       "      <td>0.547969</td>\n",
       "    </tr>\n",
       "    <tr>\n",
       "      <td>...</td>\n",
       "      <td>...</td>\n",
       "      <td>...</td>\n",
       "      <td>...</td>\n",
       "      <td>...</td>\n",
       "    </tr>\n",
       "    <tr>\n",
       "      <td>40944</td>\n",
       "      <td>1685609</td>\n",
       "      <td>38160</td>\n",
       "      <td>1385</td>\n",
       "      <td>0.179273</td>\n",
       "    </tr>\n",
       "    <tr>\n",
       "      <td>40945</td>\n",
       "      <td>1064798</td>\n",
       "      <td>60008</td>\n",
       "      <td>382</td>\n",
       "      <td>0.245676</td>\n",
       "    </tr>\n",
       "    <tr>\n",
       "      <td>40946</td>\n",
       "      <td>1066451</td>\n",
       "      <td>48068</td>\n",
       "      <td>1032</td>\n",
       "      <td>0.187450</td>\n",
       "    </tr>\n",
       "    <tr>\n",
       "      <td>40947</td>\n",
       "      <td>5660813</td>\n",
       "      <td>192957</td>\n",
       "      <td>2846</td>\n",
       "      <td>0.599505</td>\n",
       "    </tr>\n",
       "    <tr>\n",
       "      <td>40948</td>\n",
       "      <td>10306119</td>\n",
       "      <td>357079</td>\n",
       "      <td>212976</td>\n",
       "      <td>7.679196</td>\n",
       "    </tr>\n",
       "  </tbody>\n",
       "</table>\n",
       "<p>40949 rows × 4 columns</p>\n",
       "</div>"
      ],
      "text/plain": [
       "          views   likes  dislikes  mahala_pack\n",
       "0        748374   57527      2966     0.311529\n",
       "1       2418783   97185      6146     0.191899\n",
       "2       3191434  146033      5339     0.429749\n",
       "3        343168   10172       666     0.290097\n",
       "4       2095731  132235      1989     0.547969\n",
       "...         ...     ...       ...          ...\n",
       "40944   1685609   38160      1385     0.179273\n",
       "40945   1064798   60008       382     0.245676\n",
       "40946   1066451   48068      1032     0.187450\n",
       "40947   5660813  192957      2846     0.599505\n",
       "40948  10306119  357079    212976     7.679196\n",
       "\n",
       "[40949 rows x 4 columns]"
      ]
     },
     "execution_count": 71,
     "metadata": {},
     "output_type": "execute_result"
    }
   ],
   "source": [
    "youtube_out_test"
   ]
  },
  {
   "cell_type": "code",
   "execution_count": 73,
   "metadata": {},
   "outputs": [
    {
     "data": {
      "text/plain": [
       "9.21034037197618"
      ]
     },
     "execution_count": 73,
     "metadata": {},
     "output_type": "execute_result"
    }
   ],
   "source": [
    "from scipy.stats import chi2\n",
    "chi2.ppf((1-0.01), df=2)\n",
    "\n",
    "# Mahala distance more than 9.21 is considered as outlier\n",
    "# if using P-value then the H0 is not outlier and the H1 is outlier"
   ]
  },
  {
   "cell_type": "code",
   "execution_count": 74,
   "metadata": {},
   "outputs": [
    {
     "name": "stderr",
     "output_type": "stream",
     "text": [
      "C:\\Users\\catin\\Anaconda3\\lib\\site-packages\\ipykernel_launcher.py:1: SettingWithCopyWarning:\n",
      "\n",
      "\n",
      "A value is trying to be set on a copy of a slice from a DataFrame.\n",
      "Try using .loc[row_indexer,col_indexer] = value instead\n",
      "\n",
      "See the caveats in the documentation: http://pandas.pydata.org/pandas-docs/stable/user_guide/indexing.html#returning-a-view-versus-a-copy\n",
      "\n"
     ]
    }
   ],
   "source": [
    "youtube_out_test['p-value'] = 1 - chi2.cdf(youtube_out_test['mahala_pack'], 2)"
   ]
  },
  {
   "cell_type": "code",
   "execution_count": 75,
   "metadata": {},
   "outputs": [
    {
     "data": {
      "text/html": [
       "<div>\n",
       "<style scoped>\n",
       "    .dataframe tbody tr th:only-of-type {\n",
       "        vertical-align: middle;\n",
       "    }\n",
       "\n",
       "    .dataframe tbody tr th {\n",
       "        vertical-align: top;\n",
       "    }\n",
       "\n",
       "    .dataframe thead th {\n",
       "        text-align: right;\n",
       "    }\n",
       "</style>\n",
       "<table border=\"1\" class=\"dataframe\">\n",
       "  <thead>\n",
       "    <tr style=\"text-align: right;\">\n",
       "      <th></th>\n",
       "      <th>views</th>\n",
       "      <th>likes</th>\n",
       "      <th>dislikes</th>\n",
       "      <th>mahala_pack</th>\n",
       "      <th>p-value</th>\n",
       "    </tr>\n",
       "  </thead>\n",
       "  <tbody>\n",
       "    <tr>\n",
       "      <td>0</td>\n",
       "      <td>748374</td>\n",
       "      <td>57527</td>\n",
       "      <td>2966</td>\n",
       "      <td>0.311529</td>\n",
       "      <td>0.855761</td>\n",
       "    </tr>\n",
       "    <tr>\n",
       "      <td>1</td>\n",
       "      <td>2418783</td>\n",
       "      <td>97185</td>\n",
       "      <td>6146</td>\n",
       "      <td>0.191899</td>\n",
       "      <td>0.908510</td>\n",
       "    </tr>\n",
       "    <tr>\n",
       "      <td>2</td>\n",
       "      <td>3191434</td>\n",
       "      <td>146033</td>\n",
       "      <td>5339</td>\n",
       "      <td>0.429749</td>\n",
       "      <td>0.806643</td>\n",
       "    </tr>\n",
       "    <tr>\n",
       "      <td>3</td>\n",
       "      <td>343168</td>\n",
       "      <td>10172</td>\n",
       "      <td>666</td>\n",
       "      <td>0.290097</td>\n",
       "      <td>0.864981</td>\n",
       "    </tr>\n",
       "    <tr>\n",
       "      <td>4</td>\n",
       "      <td>2095731</td>\n",
       "      <td>132235</td>\n",
       "      <td>1989</td>\n",
       "      <td>0.547969</td>\n",
       "      <td>0.760344</td>\n",
       "    </tr>\n",
       "    <tr>\n",
       "      <td>...</td>\n",
       "      <td>...</td>\n",
       "      <td>...</td>\n",
       "      <td>...</td>\n",
       "      <td>...</td>\n",
       "      <td>...</td>\n",
       "    </tr>\n",
       "    <tr>\n",
       "      <td>40944</td>\n",
       "      <td>1685609</td>\n",
       "      <td>38160</td>\n",
       "      <td>1385</td>\n",
       "      <td>0.179273</td>\n",
       "      <td>0.914264</td>\n",
       "    </tr>\n",
       "    <tr>\n",
       "      <td>40945</td>\n",
       "      <td>1064798</td>\n",
       "      <td>60008</td>\n",
       "      <td>382</td>\n",
       "      <td>0.245676</td>\n",
       "      <td>0.884407</td>\n",
       "    </tr>\n",
       "    <tr>\n",
       "      <td>40946</td>\n",
       "      <td>1066451</td>\n",
       "      <td>48068</td>\n",
       "      <td>1032</td>\n",
       "      <td>0.187450</td>\n",
       "      <td>0.910533</td>\n",
       "    </tr>\n",
       "    <tr>\n",
       "      <td>40947</td>\n",
       "      <td>5660813</td>\n",
       "      <td>192957</td>\n",
       "      <td>2846</td>\n",
       "      <td>0.599505</td>\n",
       "      <td>0.741001</td>\n",
       "    </tr>\n",
       "    <tr>\n",
       "      <td>40948</td>\n",
       "      <td>10306119</td>\n",
       "      <td>357079</td>\n",
       "      <td>212976</td>\n",
       "      <td>7.679196</td>\n",
       "      <td>0.021502</td>\n",
       "    </tr>\n",
       "  </tbody>\n",
       "</table>\n",
       "<p>40949 rows × 5 columns</p>\n",
       "</div>"
      ],
      "text/plain": [
       "          views   likes  dislikes  mahala_pack   p-value\n",
       "0        748374   57527      2966     0.311529  0.855761\n",
       "1       2418783   97185      6146     0.191899  0.908510\n",
       "2       3191434  146033      5339     0.429749  0.806643\n",
       "3        343168   10172       666     0.290097  0.864981\n",
       "4       2095731  132235      1989     0.547969  0.760344\n",
       "...         ...     ...       ...          ...       ...\n",
       "40944   1685609   38160      1385     0.179273  0.914264\n",
       "40945   1064798   60008       382     0.245676  0.884407\n",
       "40946   1066451   48068      1032     0.187450  0.910533\n",
       "40947   5660813  192957      2846     0.599505  0.741001\n",
       "40948  10306119  357079    212976     7.679196  0.021502\n",
       "\n",
       "[40949 rows x 5 columns]"
      ]
     },
     "execution_count": 75,
     "metadata": {},
     "output_type": "execute_result"
    }
   ],
   "source": [
    "youtube_out_test"
   ]
  },
  {
   "cell_type": "code",
   "execution_count": 77,
   "metadata": {},
   "outputs": [
    {
     "name": "stderr",
     "output_type": "stream",
     "text": [
      "C:\\Users\\catin\\Anaconda3\\lib\\site-packages\\ipykernel_launcher.py:6: SettingWithCopyWarning:\n",
      "\n",
      "\n",
      "A value is trying to be set on a copy of a slice from a DataFrame.\n",
      "Try using .loc[row_indexer,col_indexer] = value instead\n",
      "\n",
      "See the caveats in the documentation: http://pandas.pydata.org/pandas-docs/stable/user_guide/indexing.html#returning-a-view-versus-a-copy\n",
      "\n"
     ]
    }
   ],
   "source": [
    "def name_outlier(col):\n",
    "    if col < 0.01:\n",
    "        return 'Outlier'\n",
    "    else:\n",
    "        return 'Non-Outlier'\n",
    "youtube_out_test['Out'] = youtube_out_test['p-value'].apply(name_outlier)"
   ]
  },
  {
   "cell_type": "code",
   "execution_count": 78,
   "metadata": {},
   "outputs": [
    {
     "data": {
      "text/plain": [
       "<seaborn.axisgrid.PairGrid at 0x29e8bd06808>"
      ]
     },
     "execution_count": 78,
     "metadata": {},
     "output_type": "execute_result"
    },
    {
     "data": {
      "image/png": "[encoded data removed]",
      "text/plain": [
       "<Figure size 636.225x540 with 12 Axes>"
      ]
     },
     "metadata": {},
     "output_type": "display_data"
    }
   ],
   "source": [
    "sns.pairplot(youtube_out_test[['views','likes','dislikes','Out']],hue = 'Out')"
   ]
  },
  {
   "cell_type": "code",
   "execution_count": 79,
   "metadata": {},
   "outputs": [
    {
     "data": {
      "text/html": [
       "<div>\n",
       "<style scoped>\n",
       "    .dataframe tbody tr th:only-of-type {\n",
       "        vertical-align: middle;\n",
       "    }\n",
       "\n",
       "    .dataframe tbody tr th {\n",
       "        vertical-align: top;\n",
       "    }\n",
       "\n",
       "    .dataframe thead th {\n",
       "        text-align: right;\n",
       "    }\n",
       "</style>\n",
       "<table border=\"1\" class=\"dataframe\">\n",
       "  <thead>\n",
       "    <tr style=\"text-align: right;\">\n",
       "      <th></th>\n",
       "      <th>n</th>\n",
       "      <th>r</th>\n",
       "      <th>CI95%</th>\n",
       "      <th>r2</th>\n",
       "      <th>adj_r2</th>\n",
       "      <th>p-val</th>\n",
       "      <th>power</th>\n",
       "    </tr>\n",
       "  </thead>\n",
       "  <tbody>\n",
       "    <tr>\n",
       "      <td>percbend</td>\n",
       "      <td>40949</td>\n",
       "      <td>0.838</td>\n",
       "      <td>[0.83, 0.84]</td>\n",
       "      <td>0.702</td>\n",
       "      <td>0.702</td>\n",
       "      <td>0.0</td>\n",
       "      <td>1.0</td>\n",
       "    </tr>\n",
       "  </tbody>\n",
       "</table>\n",
       "</div>"
      ],
      "text/plain": [
       "              n      r         CI95%     r2  adj_r2  p-val  power\n",
       "percbend  40949  0.838  [0.83, 0.84]  0.702   0.702    0.0    1.0"
      ]
     },
     "execution_count": 79,
     "metadata": {},
     "output_type": "execute_result"
    }
   ],
   "source": [
    "from pingouin import corr\n",
    "corr(youtube['views'],youtube['likes'],method = 'percbend')"
   ]
  },
  {
   "cell_type": "code",
   "execution_count": null,
   "metadata": {},
   "outputs": [],
   "source": []
  }
 ],
 "metadata": {
  "kernelspec": {
   "display_name": "Python 3",
   "language": "python",
   "name": "python3"
  },
  "language_info": {
   "codemirror_mode": {
    "name": "ipython",
    "version": 3
   },
   "file_extension": ".py",
   "mimetype": "text/x-python",
   "name": "python",
   "nbconvert_exporter": "python",
   "pygments_lexer": "ipython3",
   "version": "3.7.4"
  }
 },
 "nbformat": 4,
 "nbformat_minor": 2
}
